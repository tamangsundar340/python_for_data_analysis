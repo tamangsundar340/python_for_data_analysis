{
 "cells": [
  {
   "cell_type": "markdown",
   "id": "2efb3150",
   "metadata": {},
   "source": [
    "# 'cat' to read files, cat do not provide us heading of files\n",
    "#### example\n"
   ]
  },
  {
   "cell_type": "code",
   "execution_count": null,
   "id": "56b2c9cd",
   "metadata": {},
   "outputs": [],
   "source": [
    "data = !cat files/business.csv"
   ]
  },
  {
   "cell_type": "markdown",
   "id": "61512794",
   "metadata": {},
   "source": [
    "# 'read_csv' function to read files\n",
    "#### example"
   ]
  },
  {
   "cell_type": "code",
   "execution_count": null,
   "id": "c78faaf4",
   "metadata": {},
   "outputs": [],
   "source": [
    "pd.read_csv('files/business.csv')"
   ]
  },
  {
   "cell_type": "markdown",
   "id": "248b2257",
   "metadata": {},
   "source": [
    "# 'read_csv' function to read nrows\n",
    "#### example\n"
   ]
  },
  {
   "cell_type": "code",
   "execution_count": null,
   "id": "6e9e3d82",
   "metadata": {},
   "outputs": [],
   "source": [
    "pd.read_csv('files/business.csv',nrows=3)"
   ]
  },
  {
   "cell_type": "markdown",
   "id": "61de13a3",
   "metadata": {},
   "source": [
    "# 'read_csv' function with names, names is like a column name\n",
    "#### example"
   ]
  },
  {
   "cell_type": "code",
   "execution_count": null,
   "id": "74c1d3a4",
   "metadata": {},
   "outputs": [],
   "source": [
    "pd.read_csv('files/business.csv', names=['a','b','c','d','e','f','g','h','i','j','k','l','m','n'])"
   ]
  },
  {
   "cell_type": "markdown",
   "id": "832a9841",
   "metadata": {},
   "source": [
    "# 'read_table' function is also use to read files. We can use delimeter with it\n",
    "#### example"
   ]
  },
  {
   "cell_type": "code",
   "execution_count": null,
   "id": "caee7833",
   "metadata": {},
   "outputs": [],
   "source": [
    "pd.read_table('files/business.csv', sep=',')"
   ]
  },
  {
   "cell_type": "markdown",
   "id": "342f923c",
   "metadata": {},
   "source": [
    "# We have chunk to read files in chunk size, we can use to read files from chuk\n",
    "- __example__"
   ]
  },
  {
   "cell_type": "code",
   "execution_count": null,
   "id": "ba184443",
   "metadata": {},
   "outputs": [],
   "source": [
    "chunker = pd.read_csv('files/business.csv', chunksize=1000)\n",
    "to_series = pd.Series([])\n",
    "for i in chunker:\n",
    "    to_series = i\n",
    "to_series"
   ]
  },
  {
   "cell_type": "markdown",
   "id": "6b7e87ac",
   "metadata": {},
   "source": [
    "# We can also write into the csv files\n",
    "### for this we have 'to_csv' funtion in pandas\n",
    "- __Here we are writting 'data' data's into 'out.csv' file__\n"
   ]
  },
  {
   "cell_type": "code",
   "execution_count": null,
   "id": "1ab91641",
   "metadata": {},
   "outputs": [],
   "source": [
    "data = pd.read_csv('files/business.csv')\n",
    "data.to_csv('files/out.csv')"
   ]
  },
  {
   "cell_type": "markdown",
   "id": "4e6a045d",
   "metadata": {},
   "source": [
    "- __we can also use delimeter while wrtting csv file__"
   ]
  },
  {
   "cell_type": "code",
   "execution_count": null,
   "id": "58820def",
   "metadata": {},
   "outputs": [],
   "source": [
    "import sys\n",
    " data.to_csv(sys.stdout, sep='|')"
   ]
  },
  {
   "cell_type": "markdown",
   "id": "6ff6248a",
   "metadata": {},
   "source": [
    "- __fill 'missing value'__"
   ]
  },
  {
   "cell_type": "code",
   "execution_count": null,
   "id": "ac030a2b",
   "metadata": {},
   "outputs": [],
   "source": [
    "data.to_csv(sys.stdout, na_rep='Null')"
   ]
  },
  {
   "cell_type": "markdown",
   "id": "0470a718",
   "metadata": {},
   "source": [
    "- __Another method to read files__"
   ]
  },
  {
   "cell_type": "code",
   "execution_count": null,
   "id": "04cfa7c3",
   "metadata": {},
   "outputs": [],
   "source": [
    "with open('files/business.csv') as f:\n",
    "    lines = list(pd.read_csv(f))\n",
    "    print(lines)"
   ]
  },
  {
   "cell_type": "markdown",
   "id": "95f89487",
   "metadata": {},
   "source": [
    "# we can convert json data into python form using json.loads\n",
    "- __example__"
   ]
  },
  {
   "cell_type": "code",
   "execution_count": null,
   "id": "c5d90326",
   "metadata": {},
   "outputs": [],
   "source": [
    "import json\n",
    "\n",
    "to_python_data = json.loads(obj)\n",
    "to_python_data"
   ]
  },
  {
   "cell_type": "markdown",
   "id": "94e0a17b",
   "metadata": {},
   "source": [
    "#### To convert python data into json we have 'to_json' function\n",
    "- __example__"
   ]
  },
  {
   "cell_type": "code",
   "execution_count": null,
   "id": "c2c67068",
   "metadata": {},
   "outputs": [],
   "source": [
    "to_json_data = to_python_data.to_json()\n",
    "to_json_data"
   ]
  },
  {
   "cell_type": "markdown",
   "id": "5110be34",
   "metadata": {},
   "source": [
    "# Read HTML files\n",
    "#### example\n",
    "- __'read_html' function return in list so we need to do some things"
   ]
  },
  {
   "cell_type": "code",
   "execution_count": null,
   "id": "5a4ae5bd",
   "metadata": {},
   "outputs": [],
   "source": [
    "import pandas as pd\n",
    "\n",
    "table = pd.read_html('files/failed_bank_list.html')\n",
    "failures = table[0]\n",
    "failures"
   ]
  },
  {
   "cell_type": "markdown",
   "id": "01b91eec",
   "metadata": {},
   "source": [
    "# Binary data format\n",
    "- __Pandas have 'to_pickle' method which is use to store data efficintly in binary format__\n",
    "#### example"
   ]
  },
  {
   "cell_type": "code",
   "execution_count": null,
   "id": "ad54f6ad",
   "metadata": {},
   "outputs": [],
   "source": [
    "result = pd.read_csv('files/business.csv')\n",
    "result.to_pickle('files/result_pickle')\n",
    "\n",
    "#Let's read it\n",
    "pd.read_pickle('files/result_pickle')"
   ]
  },
  {
   "cell_type": "markdown",
   "id": "e895deb1",
   "metadata": {},
   "source": [
    "### HDF5 is a well-regarded file format intended for storing large quantities of scientific array data\n",
    "#### example"
   ]
  },
  {
   "cell_type": "code",
   "execution_count": null,
   "id": "666c8298",
   "metadata": {},
   "outputs": [],
   "source": [
    "frame = pd.DataFrame({'a':np.random.randn(100)})\n",
    "\n",
    "store = pd.HDFStore('mydata.h5')\n",
    "\n",
    "store['obj1'] = frame\n",
    "\n",
    "store['obj1_col']"
   ]
  },
  {
   "cell_type": "code",
   "execution_count": null,
   "id": "9ef8a99a",
   "metadata": {},
   "outputs": [],
   "source": []
  },
  {
   "cell_type": "code",
   "execution_count": null,
   "id": "e06906a5",
   "metadata": {},
   "outputs": [],
   "source": [
    "store.put('obj2', frame, format='table')\n",
    "store.select('obj2', where = ['index>=10 and index<=15'])"
   ]
  },
  {
   "cell_type": "markdown",
   "id": "7b638489",
   "metadata": {},
   "source": [
    "# Interact with API\n",
    "### example "
   ]
  },
  {
   "cell_type": "code",
   "execution_count": null,
   "id": "cb078952",
   "metadata": {},
   "outputs": [],
   "source": [
    "import requests\n",
    "url = 'https://api.github.com/repos/pandas-dev/pandas/issues'\n",
    "\n",
    "resp = requests.get(url)\n",
    "\n",
    "data = resp.json()\n",
    "data"
   ]
  },
  {
   "cell_type": "markdown",
   "id": "16ac066c",
   "metadata": {},
   "source": [
    "# Intereact with Database\n",
    "#### let's create database with table"
   ]
  },
  {
   "cell_type": "code",
   "execution_count": null,
   "id": "915aad32",
   "metadata": {},
   "outputs": [],
   "source": [
    "import sqlite3\n",
    "query = \"\"\" \n",
    "create table test(\n",
    "a varvhar(20),\n",
    "b varchar(20),\n",
    "c Real,\n",
    "d Integer\n",
    ");\n",
    "\"\"\"\n",
    "\n",
    "con = sqlite3.connect('mydata.sqlite')\n",
    "con.execute(query)\n",
    "con.commit()"
   ]
  },
  {
   "cell_type": "markdown",
   "id": "b62adc72",
   "metadata": {},
   "source": [
    "### insert into database"
   ]
  },
  {
   "cell_type": "code",
   "execution_count": null,
   "id": "02684520",
   "metadata": {},
   "outputs": [],
   "source": [
    "data = [\n",
    "    ('aa','bb', 1.25, 6),\n",
    "    ('cc','dd', 1.50, 7),\n",
    "    ('ee','ff', 1.75, 8)\n",
    "]\n",
    "\n",
    "stmt = \"INSERT INTO test VALUES(?,?,?,?)\"\n",
    "con.executemany(stmt, data)\n",
    "con.commit()"
   ]
  },
  {
   "cell_type": "markdown",
   "id": "e8bcb891",
   "metadata": {},
   "source": [
    "### fetch data from database"
   ]
  },
  {
   "cell_type": "code",
   "execution_count": null,
   "id": "8b673a6a",
   "metadata": {},
   "outputs": [],
   "source": [
    "cursor = con.execute('select *from test')\n",
    "rows = cursor.fetchall()\n",
    "rows"
   ]
  }
 ],
 "metadata": {
  "kernelspec": {
   "display_name": "Python 3",
   "language": "python",
   "name": "python3"
  },
  "language_info": {
   "codemirror_mode": {
    "name": "ipython",
    "version": 3
   },
   "file_extension": ".py",
   "mimetype": "text/x-python",
   "name": "python",
   "nbconvert_exporter": "python",
   "pygments_lexer": "ipython3",
   "version": "3.8.10"
  }
 },
 "nbformat": 4,
 "nbformat_minor": 5
}
