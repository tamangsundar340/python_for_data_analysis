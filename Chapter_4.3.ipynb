{
 "cells": [
  {
   "cell_type": "markdown",
   "id": "6b755899",
   "metadata": {},
   "source": [
    "### Linear Algebra\n",
    "\n",
    "- __Linear algebra like matrix multiplicaiton, decompositions, determinants and other square matrix is the important part of array library__"
   ]
  },
  {
   "cell_type": "code",
   "execution_count": 2,
   "id": "c16299d9",
   "metadata": {},
   "outputs": [],
   "source": [
    "# For example we have two array\n",
    "import numpy as np\n",
    "\n",
    "\n",
    "x = np.array([[1., 2., 3.], [4., 5., 6.]])\n",
    "y = np.array([[6., 23.], [-1, 7], [8, 9]])"
   ]
  },
  {
   "cell_type": "code",
   "execution_count": 3,
   "id": "b081fa2c",
   "metadata": {},
   "outputs": [
    {
     "data": {
      "text/plain": [
       "array([[ 28.,  64.],\n",
       "       [ 67., 181.]])"
      ]
     },
     "execution_count": 3,
     "metadata": {},
     "output_type": "execute_result"
    }
   ],
   "source": [
    "# let's multiply these two\n",
    "\n",
    "z = x.dot(y)\n",
    "z"
   ]
  },
  {
   "cell_type": "code",
   "execution_count": 4,
   "id": "342cef74",
   "metadata": {},
   "outputs": [],
   "source": [
    "# x.dot(y) is equivalent to np.dot(x, y) :"
   ]
  },
  {
   "cell_type": "code",
   "execution_count": 5,
   "id": "6d8b1970",
   "metadata": {},
   "outputs": [
    {
     "data": {
      "text/plain": [
       "array([[ 28.,  64.],\n",
       "       [ 67., 181.]])"
      ]
     },
     "execution_count": 5,
     "metadata": {},
     "output_type": "execute_result"
    }
   ],
   "source": [
    "np.dot(x,y)"
   ]
  },
  {
   "cell_type": "markdown",
   "id": "149c38d4",
   "metadata": {},
   "source": [
    "- __matrix product between a two-dimensional array and a suitably sized one dimensional array results in a one-dimensional array__"
   ]
  },
  {
   "cell_type": "code",
   "execution_count": 8,
   "id": "2e1c17f7",
   "metadata": {},
   "outputs": [
    {
     "data": {
      "text/plain": [
       "array([1., 1., 1.])"
      ]
     },
     "execution_count": 8,
     "metadata": {},
     "output_type": "execute_result"
    }
   ],
   "source": [
    "b = np.ones(3)\n",
    "b"
   ]
  },
  {
   "cell_type": "code",
   "execution_count": 11,
   "id": "4ab22b1d",
   "metadata": {},
   "outputs": [
    {
     "data": {
      "text/plain": [
       "array([ 6., 15.])"
      ]
     },
     "execution_count": 11,
     "metadata": {},
     "output_type": "execute_result"
    }
   ],
   "source": [
    "c = x.dot(b)\n",
    "c"
   ]
  },
  {
   "cell_type": "markdown",
   "id": "0e0ba730",
   "metadata": {},
   "source": [
    "- __'numpy.linalg' has a standard set of matrix decompositions and things like inverse and determinant__"
   ]
  },
  {
   "cell_type": "code",
   "execution_count": 18,
   "id": "41882025",
   "metadata": {},
   "outputs": [
    {
     "data": {
      "text/plain": [
       "array([[ 0.44833058,  0.26715938, -0.31850822, -0.25021031, -0.38729653],\n",
       "       [-2.66052413,  1.972736  ,  0.23079522, -0.0107749 , -0.44398732],\n",
       "       [-1.29659623, -0.59565829,  0.09334305, -2.89196056,  0.11030946],\n",
       "       [ 0.13463231,  0.16820169, -1.40295058, -0.36688552,  0.16481485],\n",
       "       [ 2.3259829 ,  1.49418397, -0.97196277,  1.14065256,  0.42574582]])"
      ]
     },
     "execution_count": 18,
     "metadata": {},
     "output_type": "execute_result"
    }
   ],
   "source": [
    "# Example\n",
    "from numpy.linalg import inv, qr\n",
    "\n",
    "X = np.random.randn(5, 5)\n",
    "X"
   ]
  },
  {
   "cell_type": "code",
   "execution_count": 20,
   "id": "e73fe0d0",
   "metadata": {},
   "outputs": [
    {
     "data": {
      "text/plain": [
       "array([[14.38887307, -0.85831596, -3.32751273,  6.2699388 ,  1.87704219],\n",
       "       [-0.85831596,  6.5787478 , -1.37366484,  3.27715224, -0.3811817 ],\n",
       "       [-3.32751273, -1.37366484,  3.0764088 , -0.78668675, -0.61385259],\n",
       "       [ 6.2699388 ,  3.27715224, -0.78668675,  9.86185041,  0.20783879],\n",
       "       [ 1.87704219, -0.3811817 , -0.61385259,  0.20783879,  0.56771496]])"
      ]
     },
     "execution_count": 20,
     "metadata": {},
     "output_type": "execute_result"
    }
   ],
   "source": [
    "# The expression X.T.dot(X) computes the dot product of X with its transpose X.T .\n",
    "\n",
    "mat = X.T.dot(X)\n",
    "mat"
   ]
  },
  {
   "cell_type": "markdown",
   "id": "afa22942",
   "metadata": {},
   "source": [
    "### Pseudorandom Number Generation"
   ]
  },
  {
   "cell_type": "markdown",
   "id": "d64b1718",
   "metadata": {},
   "source": [
    "- __For example, you can get a 4 × 4 array of samples from the standard normal distribution using normal__"
   ]
  },
  {
   "cell_type": "code",
   "execution_count": 21,
   "id": "d2692032",
   "metadata": {},
   "outputs": [
    {
     "data": {
      "text/plain": [
       "array([[-1.10227332, -1.08090012, -0.59353586, -0.29483352],\n",
       "       [ 0.89919839, -0.10977297, -0.00710333, -0.02337038],\n",
       "       [ 0.07954164, -0.91855592, -0.96593753, -1.44265846],\n",
       "       [ 0.44482156, -1.35246236, -1.51526773, -0.92195784]])"
      ]
     },
     "execution_count": 21,
     "metadata": {},
     "output_type": "execute_result"
    }
   ],
   "source": [
    "samples = np.random.normal(size=(4, 4))\n",
    "samples"
   ]
  },
  {
   "cell_type": "markdown",
   "id": "03a5bf61",
   "metadata": {},
   "source": [
    "- __'numpy.random.RandomState' is use to create a random number generator isolated from others__"
   ]
  },
  {
   "cell_type": "code",
   "execution_count": 22,
   "id": "a23368f6",
   "metadata": {},
   "outputs": [
    {
     "data": {
      "text/plain": [
       "array([ 0.47143516, -1.19097569,  1.43270697, -0.3126519 , -0.72058873,\n",
       "        0.88716294,  0.85958841, -0.6365235 ,  0.01569637, -2.24268495])"
      ]
     },
     "execution_count": 22,
     "metadata": {},
     "output_type": "execute_result"
    }
   ],
   "source": [
    "rng = np.random.RandomState(1234)\n",
    "rng.randn(10)"
   ]
  },
  {
   "cell_type": "markdown",
   "id": "275021bf",
   "metadata": {},
   "source": [
    "### Example: Random Walks"
   ]
  },
  {
   "cell_type": "code",
   "execution_count": 23,
   "id": "c8710f83",
   "metadata": {},
   "outputs": [],
   "source": [
    "import random\n",
    "\n",
    "\n",
    "position = 0\n",
    "walk = [position]\n",
    "steps = 1000\n",
    "for i in range(steps):\n",
    "    step = 1 if random.randint(0, 1) else -1\n",
    "    position += step\n",
    "    walk.append(position)\n",
    "    \n",
    "    "
   ]
  },
  {
   "cell_type": "code",
   "execution_count": 25,
   "id": "532a3577",
   "metadata": {},
   "outputs": [
    {
     "data": {
      "text/plain": [
       "[<matplotlib.lines.Line2D at 0x7ff56f81e190>]"
      ]
     },
     "execution_count": 25,
     "metadata": {},
     "output_type": "execute_result"
    },
    {
     "data": {
      "image/png": "[encoded data removed]",
      "text/plain": [
       "<Figure size 432x288 with 1 Axes>"
      ]
     },
     "metadata": {
      "needs_background": "light"
     },
     "output_type": "display_data"
    }
   ],
   "source": [
    "# Let's plot the graph\n",
    "\n",
    "import matplotlib.pyplot as plt\n",
    "plt.plot(walk[:100])\n"
   ]
  },
  {
   "cell_type": "code",
   "execution_count": 27,
   "id": "f69bddb9",
   "metadata": {},
   "outputs": [],
   "source": [
    "# Another example of walks\n",
    "\n",
    "nsteps = 1000\n",
    "draws = np.random.randint(0, 2, size=nsteps)\n",
    "steps = np.where(draws > 0, 1, -1)\n",
    "walk = steps.cumsum()"
   ]
  },
  {
   "cell_type": "code",
   "execution_count": 28,
   "id": "c311541f",
   "metadata": {},
   "outputs": [
    {
     "ename": "AttributeError",
     "evalue": "'list' object has no attribute 'min'",
     "output_type": "error",
     "traceback": [
      "\u001b[0;31m---------------------------------------------------------------------------\u001b[0m",
      "\u001b[0;31mAttributeError\u001b[0m                            Traceback (most recent call last)",
      "\u001b[0;32m<ipython-input-28-02c76156ace8>\u001b[0m in \u001b[0;36m<module>\u001b[0;34m\u001b[0m\n\u001b[0;32m----> 1\u001b[0;31m \u001b[0mwalk\u001b[0m\u001b[0;34m.\u001b[0m\u001b[0mmin\u001b[0m\u001b[0;34m(\u001b[0m\u001b[0;34m)\u001b[0m\u001b[0;34m\u001b[0m\u001b[0;34m\u001b[0m\u001b[0m\n\u001b[0m",
      "\u001b[0;31mAttributeError\u001b[0m: 'list' object has no attribute 'min'"
     ]
    }
   ],
   "source": [
    "walk.min()"
   ]
  },
  {
   "cell_type": "code",
   "execution_count": 29,
   "id": "17184575",
   "metadata": {},
   "outputs": [
    {
     "ename": "AttributeError",
     "evalue": "'list' object has no attribute 'max'",
     "output_type": "error",
     "traceback": [
      "\u001b[0;31m---------------------------------------------------------------------------\u001b[0m",
      "\u001b[0;31mAttributeError\u001b[0m                            Traceback (most recent call last)",
      "\u001b[0;32m<ipython-input-29-85fe939f4c90>\u001b[0m in \u001b[0;36m<module>\u001b[0;34m\u001b[0m\n\u001b[0;32m----> 1\u001b[0;31m \u001b[0mwalk\u001b[0m\u001b[0;34m.\u001b[0m\u001b[0mmax\u001b[0m\u001b[0;34m(\u001b[0m\u001b[0;34m)\u001b[0m\u001b[0;34m\u001b[0m\u001b[0;34m\u001b[0m\u001b[0m\n\u001b[0m",
      "\u001b[0;31mAttributeError\u001b[0m: 'list' object has no attribute 'max'"
     ]
    }
   ],
   "source": [
    "walk.max()"
   ]
  },
  {
   "cell_type": "markdown",
   "id": "abd985ad",
   "metadata": {},
   "source": [
    "#### Simulating Many Random Walks at Once"
   ]
  },
  {
   "cell_type": "code",
   "execution_count": 31,
   "id": "936babd9",
   "metadata": {},
   "outputs": [
    {
     "data": {
      "text/plain": [
       "array([[ -1,  -2,  -3, ..., -24, -25, -26],\n",
       "       [  1,   0,   1, ...,  -8,  -7,  -6],\n",
       "       [  1,   2,   1, ..., -10,  -9, -10],\n",
       "       ...,\n",
       "       [ -1,  -2,  -3, ..., -28, -29, -30],\n",
       "       [ -1,  -2,  -1, ...,  16,  17,  16],\n",
       "       [ -1,   0,   1, ...,   6,   7,   6]])"
      ]
     },
     "execution_count": 31,
     "metadata": {},
     "output_type": "execute_result"
    }
   ],
   "source": [
    "nwalks = 5000\n",
    "nsteps = 1000\n",
    "draws = np.random.randint(0, 2, size=(nwalks, nsteps)) # 0 or 1\n",
    "steps = np.where(draws > 0, 1, -1)\n",
    "walks = steps.cumsum(1)\n",
    "\n",
    "walks"
   ]
  },
  {
   "cell_type": "code",
   "execution_count": 32,
   "id": "f4a79b29",
   "metadata": {},
   "outputs": [
    {
     "data": {
      "text/plain": [
       "-129"
      ]
     },
     "execution_count": 32,
     "metadata": {},
     "output_type": "execute_result"
    }
   ],
   "source": [
    "walks.min()"
   ]
  },
  {
   "cell_type": "code",
   "execution_count": 33,
   "id": "8d4c2726",
   "metadata": {},
   "outputs": [
    {
     "data": {
      "text/plain": [
       "116"
      ]
     },
     "execution_count": 33,
     "metadata": {},
     "output_type": "execute_result"
    }
   ],
   "source": [
    "walks.max()"
   ]
  },
  {
   "cell_type": "code",
   "execution_count": null,
   "id": "6fe69247",
   "metadata": {},
   "outputs": [],
   "source": []
  }
 ],
 "metadata": {
  "kernelspec": {
   "display_name": "Python 3",
   "language": "python",
   "name": "python3"
  },
  "language_info": {
   "codemirror_mode": {
    "name": "ipython",
    "version": 3
   },
   "file_extension": ".py",
   "mimetype": "text/x-python",
   "name": "python",
   "nbconvert_exporter": "python",
   "pygments_lexer": "ipython3",
   "version": "3.8.5"
  }
 },
 "nbformat": 4,
 "nbformat_minor": 5
}
