{
 "cells": [
  {
   "cell_type": "markdown",
   "id": "ec4a79c3",
   "metadata": {},
   "source": [
    "# Data Aggregation and Group Operation"
   ]
  },
  {
   "cell_type": "markdown",
   "id": "b89bb325",
   "metadata": {},
   "source": [
    "## GroupBy Mechanicsm"
   ]
  },
  {
   "cell_type": "markdown",
   "id": "7396eb3e",
   "metadata": {},
   "source": [
    "- ___At first process data of pandas object on a particular axis of an object. for example DataFrame can be grouped on its row (axios=0) or its column (axis=1)___\n",
    "- ___Once function can be applied producing new vaue, and finally the result of all those functions applications are combined into a result object___\n",
    "- ___The form of result object will usaully depend on what's being done to the data__\n",
    "- ___For example___"
   ]
  },
  {
   "cell_type": "code",
   "execution_count": 3,
   "id": "bdfe5bfc",
   "metadata": {},
   "outputs": [],
   "source": [
    "import pandas as pd\n",
    "import numpy as np"
   ]
  },
  {
   "cell_type": "code",
   "execution_count": 5,
   "id": "634ef4a1",
   "metadata": {},
   "outputs": [
    {
     "data": {
      "text/html": [
       "<div>\n",
       "<style scoped>\n",
       "    .dataframe tbody tr th:only-of-type {\n",
       "        vertical-align: middle;\n",
       "    }\n",
       "\n",
       "    .dataframe tbody tr th {\n",
       "        vertical-align: top;\n",
       "    }\n",
       "\n",
       "    .dataframe thead th {\n",
       "        text-align: right;\n",
       "    }\n",
       "</style>\n",
       "<table border=\"1\" class=\"dataframe\">\n",
       "  <thead>\n",
       "    <tr style=\"text-align: right;\">\n",
       "      <th></th>\n",
       "      <th>key1</th>\n",
       "      <th>key2</th>\n",
       "      <th>data1</th>\n",
       "      <th>data2</th>\n",
       "    </tr>\n",
       "  </thead>\n",
       "  <tbody>\n",
       "    <tr>\n",
       "      <th>0</th>\n",
       "      <td>a</td>\n",
       "      <td>one</td>\n",
       "      <td>-0.272038</td>\n",
       "      <td>-2.362202</td>\n",
       "    </tr>\n",
       "    <tr>\n",
       "      <th>1</th>\n",
       "      <td>a</td>\n",
       "      <td>two</td>\n",
       "      <td>2.331146</td>\n",
       "      <td>-0.011117</td>\n",
       "    </tr>\n",
       "    <tr>\n",
       "      <th>2</th>\n",
       "      <td>b</td>\n",
       "      <td>one</td>\n",
       "      <td>1.501601</td>\n",
       "      <td>-0.585135</td>\n",
       "    </tr>\n",
       "    <tr>\n",
       "      <th>3</th>\n",
       "      <td>b</td>\n",
       "      <td>two</td>\n",
       "      <td>0.270461</td>\n",
       "      <td>1.049894</td>\n",
       "    </tr>\n",
       "    <tr>\n",
       "      <th>4</th>\n",
       "      <td>a</td>\n",
       "      <td>one</td>\n",
       "      <td>-1.048512</td>\n",
       "      <td>-1.800031</td>\n",
       "    </tr>\n",
       "  </tbody>\n",
       "</table>\n",
       "</div>"
      ],
      "text/plain": [
       "  key1 key2     data1     data2\n",
       "0    a  one -0.272038 -2.362202\n",
       "1    a  two  2.331146 -0.011117\n",
       "2    b  one  1.501601 -0.585135\n",
       "3    b  two  0.270461  1.049894\n",
       "4    a  one -1.048512 -1.800031"
      ]
     },
     "execution_count": 5,
     "metadata": {},
     "output_type": "execute_result"
    }
   ],
   "source": [
    "df = pd.DataFrame({\n",
    "                  'key1' : ['a', 'a', 'b', 'b', 'a'], 'key2' : ['one', 'two', 'one', 'two', 'one'],\n",
    "                  'data1' : np.random.randn(5), 'data2' : np.random.randn(5)\n",
    "                  })\n",
    "df"
   ]
  },
  {
   "cell_type": "markdown",
   "id": "02881e3d",
   "metadata": {},
   "source": [
    "- ___Let's say you wanted to compute the mean of data1 column using the labels from key1___"
   ]
  },
  {
   "cell_type": "code",
   "execution_count": 22,
   "id": "c3877fcf",
   "metadata": {},
   "outputs": [
    {
     "data": {
      "text/plain": [
       "<pandas.core.groupby.generic.SeriesGroupBy object at 0x7f9901c4bb50>"
      ]
     },
     "execution_count": 22,
     "metadata": {},
     "output_type": "execute_result"
    }
   ],
   "source": [
    "grouped = df['data1'].groupby(df['key1'])\n",
    "grouped"
   ]
  },
  {
   "cell_type": "markdown",
   "id": "af35c8d2",
   "metadata": {},
   "source": [
    "- ___This 'grouped' variable is now GroupBy object it has not computed anything yet exxept intermediate data about the group\n",
    "key df['key1']___\n",
    "- ___But this object has all the information that is needed to apply some operation to each group___"
   ]
  },
  {
   "cell_type": "code",
   "execution_count": 16,
   "id": "5841f55d",
   "metadata": {},
   "outputs": [
    {
     "data": {
      "text/plain": [
       "key1\n",
       "a    0.336866\n",
       "b    0.886031\n",
       "Name: data1, dtype: float64"
      ]
     },
     "execution_count": 16,
     "metadata": {},
     "output_type": "execute_result"
    }
   ],
   "source": [
    "grouped.mean()"
   ]
  },
  {
   "cell_type": "markdown",
   "id": "24dda1af",
   "metadata": {},
   "source": [
    "- __Lets pass multiple keyword in groupby function__"
   ]
  },
  {
   "cell_type": "code",
   "execution_count": 30,
   "id": "d4826db3",
   "metadata": {},
   "outputs": [
    {
     "data": {
      "text/plain": [
       "key1  key2\n",
       "a     one    -0.660275\n",
       "      two     2.331146\n",
       "b     one     1.501601\n",
       "      two     0.270461\n",
       "Name: data1, dtype: float64"
      ]
     },
     "execution_count": 30,
     "metadata": {},
     "output_type": "execute_result"
    }
   ],
   "source": [
    "grouped2 = df['data1'].groupby([df['key1'], df['key2']])\n",
    "grouped2.mean()"
   ]
  },
  {
   "cell_type": "markdown",
   "id": "c20c1456",
   "metadata": {},
   "source": [
    "- ___OR___"
   ]
  },
  {
   "cell_type": "code",
   "execution_count": 28,
   "id": "5fb9526b",
   "metadata": {},
   "outputs": [
    {
     "data": {
      "text/plain": [
       "key1  key2\n",
       "a     one    -1.320549\n",
       "      two     2.331146\n",
       "b     one     1.501601\n",
       "      two     0.270461\n",
       "Name: data1, dtype: float64"
      ]
     },
     "execution_count": 28,
     "metadata": {},
     "output_type": "execute_result"
    }
   ],
   "source": [
    "grouped2 = df['data1'].groupby([df['key1'], df['key2']])\n",
    "grouped2.sum()"
   ]
  },
  {
   "cell_type": "code",
   "execution_count": 31,
   "id": "d03bb701",
   "metadata": {},
   "outputs": [
    {
     "data": {
      "text/plain": [
       "key1  key2\n",
       "a     one     2\n",
       "      two     1\n",
       "b     one     1\n",
       "      two     1\n",
       "Name: data1, dtype: int64"
      ]
     },
     "execution_count": 31,
     "metadata": {},
     "output_type": "execute_result"
    }
   ],
   "source": [
    "grouped2 = df['data1'].groupby([df['key1'], df['key2']])\n",
    "grouped2.size()"
   ]
  },
  {
   "cell_type": "markdown",
   "id": "45b99313",
   "metadata": {},
   "source": [
    "- ___In this example, the group keys are all Series, though they could be any arrays of the right length___"
   ]
  },
  {
   "cell_type": "code",
   "execution_count": 33,
   "id": "f5dfae60",
   "metadata": {},
   "outputs": [
    {
     "data": {
      "text/plain": [
       "California  2005    2.331146\n",
       "            2006    1.501601\n",
       "Ohio        2005   -0.000788\n",
       "            2006   -1.048512\n",
       "Name: data1, dtype: float64"
      ]
     },
     "execution_count": 33,
     "metadata": {},
     "output_type": "execute_result"
    }
   ],
   "source": [
    "states = np.array(['Ohio', 'California', 'California', 'Ohio', 'Ohio'])\n",
    "years = np.array([2005, 2005, 2006, 2005, 2006])\n",
    "df['data1'].groupby([states, years]).mean()"
   ]
  },
  {
   "cell_type": "markdown",
   "id": "e446aab4",
   "metadata": {},
   "source": [
    "## Iterating Over Groups"
   ]
  },
  {
   "cell_type": "markdown",
   "id": "85db4445",
   "metadata": {},
   "source": [
    "- __GroupBy objects support the itertion__\n",
    "- __It generate a sequence of 2-tuples containing th group name along with the chunk of data__"
   ]
  },
  {
   "cell_type": "code",
   "execution_count": 3,
   "id": "63bea400",
   "metadata": {},
   "outputs": [
    {
     "data": {
      "text/html": [
       "<div>\n",
       "<style scoped>\n",
       "    .dataframe tbody tr th:only-of-type {\n",
       "        vertical-align: middle;\n",
       "    }\n",
       "\n",
       "    .dataframe tbody tr th {\n",
       "        vertical-align: top;\n",
       "    }\n",
       "\n",
       "    .dataframe thead th {\n",
       "        text-align: right;\n",
       "    }\n",
       "</style>\n",
       "<table border=\"1\" class=\"dataframe\">\n",
       "  <thead>\n",
       "    <tr style=\"text-align: right;\">\n",
       "      <th></th>\n",
       "      <th>key1</th>\n",
       "      <th>key2</th>\n",
       "      <th>data1</th>\n",
       "      <th>data2</th>\n",
       "    </tr>\n",
       "  </thead>\n",
       "  <tbody>\n",
       "    <tr>\n",
       "      <th>0</th>\n",
       "      <td>a</td>\n",
       "      <td>one</td>\n",
       "      <td>-0.923382</td>\n",
       "      <td>0.461537</td>\n",
       "    </tr>\n",
       "    <tr>\n",
       "      <th>1</th>\n",
       "      <td>a</td>\n",
       "      <td>two</td>\n",
       "      <td>1.466361</td>\n",
       "      <td>-0.534668</td>\n",
       "    </tr>\n",
       "    <tr>\n",
       "      <th>2</th>\n",
       "      <td>b</td>\n",
       "      <td>one</td>\n",
       "      <td>-1.478567</td>\n",
       "      <td>-0.307821</td>\n",
       "    </tr>\n",
       "    <tr>\n",
       "      <th>3</th>\n",
       "      <td>b</td>\n",
       "      <td>two</td>\n",
       "      <td>-2.320617</td>\n",
       "      <td>0.154277</td>\n",
       "    </tr>\n",
       "    <tr>\n",
       "      <th>4</th>\n",
       "      <td>a</td>\n",
       "      <td>one</td>\n",
       "      <td>1.569417</td>\n",
       "      <td>-0.476180</td>\n",
       "    </tr>\n",
       "  </tbody>\n",
       "</table>\n",
       "</div>"
      ],
      "text/plain": [
       "  key1 key2     data1     data2\n",
       "0    a  one -0.923382  0.461537\n",
       "1    a  two  1.466361 -0.534668\n",
       "2    b  one -1.478567 -0.307821\n",
       "3    b  two -2.320617  0.154277\n",
       "4    a  one  1.569417 -0.476180"
      ]
     },
     "execution_count": 3,
     "metadata": {},
     "output_type": "execute_result"
    }
   ],
   "source": [
    "import pandas as pd\n",
    "import numpy as np\n",
    "\n",
    "df = pd.DataFrame({\n",
    "                  'key1' : ['a', 'a', 'b', 'b', 'a'], 'key2' : ['one', 'two', 'one', 'two', 'one'],\n",
    "                  'data1' : np.random.randn(5), 'data2' : np.random.randn(5)\n",
    "                  })\n",
    "df"
   ]
  },
  {
   "cell_type": "code",
   "execution_count": 9,
   "id": "8fecb0ab",
   "metadata": {},
   "outputs": [
    {
     "name": "stdout",
     "output_type": "stream",
     "text": [
      "Name :  a\n",
      "Group :    key1 key2     data1     data2\n",
      "0    a  one  1.260131 -0.616026\n",
      "1    a  two  0.655671 -0.453474\n",
      "4    a  one -0.635110  0.248737\n",
      "Name :  b\n",
      "Group :    key1 key2     data1     data2\n",
      "2    b  one  0.979849  1.610186\n",
      "3    b  two -1.649056 -0.467272\n"
     ]
    }
   ],
   "source": [
    "for name,group in df.groupby('key1'):\n",
    "    print(\"Name : \",name)\n",
    "    print(\"Group : \",group)"
   ]
  },
  {
   "cell_type": "markdown",
   "id": "878f2fc0",
   "metadata": {},
   "source": [
    "- __In the case of multiple keys__"
   ]
  },
  {
   "cell_type": "code",
   "execution_count": 4,
   "id": "74d6b52b",
   "metadata": {},
   "outputs": [
    {
     "name": "stdout",
     "output_type": "stream",
     "text": [
      "Name :  ('a', 'one')\n",
      "Group :    key1 key2     data1     data2\n",
      "0    a  one -0.923382  0.461537\n",
      "4    a  one  1.569417 -0.476180\n",
      "Name :  ('a', 'two')\n",
      "Group :    key1 key2     data1     data2\n",
      "1    a  two  1.466361 -0.534668\n",
      "Name :  ('b', 'one')\n",
      "Group :    key1 key2     data1     data2\n",
      "2    b  one -1.478567 -0.307821\n",
      "Name :  ('b', 'two')\n",
      "Group :    key1 key2     data1     data2\n",
      "3    b  two -2.320617  0.154277\n"
     ]
    }
   ],
   "source": [
    "for name,group in df.groupby(['key1','key2']):\n",
    "    print(\"Name : \",name)\n",
    "    print(\"Group : \",group)"
   ]
  },
  {
   "cell_type": "markdown",
   "id": "18ee2b3c",
   "metadata": {},
   "source": [
    "- __you can choose to do whatever you want with the pieces of data__"
   ]
  },
  {
   "cell_type": "code",
   "execution_count": 18,
   "id": "86301ed5",
   "metadata": {},
   "outputs": [
    {
     "data": {
      "text/plain": [
       "[('a',\n",
       "    key1 key2     data1     data2\n",
       "  0    a  one  1.260131 -0.616026\n",
       "  1    a  two  0.655671 -0.453474\n",
       "  4    a  one -0.635110  0.248737),\n",
       " ('b',\n",
       "    key1 key2     data1     data2\n",
       "  2    b  one  0.979849  1.610186\n",
       "  3    b  two -1.649056 -0.467272)]"
      ]
     },
     "execution_count": 18,
     "metadata": {},
     "output_type": "execute_result"
    }
   ],
   "source": [
    "pieces = list(df.groupby('key1'))\n",
    "pieces"
   ]
  },
  {
   "cell_type": "code",
   "execution_count": 20,
   "id": "effb973a",
   "metadata": {},
   "outputs": [
    {
     "data": {
      "text/plain": [
       "key1      object\n",
       "key2      object\n",
       "data1    float64\n",
       "data2    float64\n",
       "dtype: object"
      ]
     },
     "execution_count": 20,
     "metadata": {},
     "output_type": "execute_result"
    }
   ],
   "source": [
    "df.dtypes"
   ]
  },
  {
   "cell_type": "markdown",
   "id": "a68d89dd",
   "metadata": {},
   "source": [
    "## Selecting a Column or Subset of Columns"
   ]
  },
  {
   "cell_type": "markdown",
   "id": "5eb91c98",
   "metadata": {},
   "source": [
    "- __For example, in the preceding dataset, to compute means for just the data2 column and\n",
    "get the result as a DataFrame, we could write:__"
   ]
  },
  {
   "cell_type": "code",
   "execution_count": 28,
   "id": "414b0843",
   "metadata": {},
   "outputs": [
    {
     "data": {
      "text/html": [
       "<div>\n",
       "<style scoped>\n",
       "    .dataframe tbody tr th:only-of-type {\n",
       "        vertical-align: middle;\n",
       "    }\n",
       "\n",
       "    .dataframe tbody tr th {\n",
       "        vertical-align: top;\n",
       "    }\n",
       "\n",
       "    .dataframe thead th {\n",
       "        text-align: right;\n",
       "    }\n",
       "</style>\n",
       "<table border=\"1\" class=\"dataframe\">\n",
       "  <thead>\n",
       "    <tr style=\"text-align: right;\">\n",
       "      <th></th>\n",
       "      <th></th>\n",
       "      <th>data2</th>\n",
       "    </tr>\n",
       "    <tr>\n",
       "      <th>key1</th>\n",
       "      <th>key2</th>\n",
       "      <th></th>\n",
       "    </tr>\n",
       "  </thead>\n",
       "  <tbody>\n",
       "    <tr>\n",
       "      <th rowspan=\"2\" valign=\"top\">a</th>\n",
       "      <th>one</th>\n",
       "      <td>-0.183644</td>\n",
       "    </tr>\n",
       "    <tr>\n",
       "      <th>two</th>\n",
       "      <td>-0.453474</td>\n",
       "    </tr>\n",
       "    <tr>\n",
       "      <th rowspan=\"2\" valign=\"top\">b</th>\n",
       "      <th>one</th>\n",
       "      <td>1.610186</td>\n",
       "    </tr>\n",
       "    <tr>\n",
       "      <th>two</th>\n",
       "      <td>-0.467272</td>\n",
       "    </tr>\n",
       "  </tbody>\n",
       "</table>\n",
       "</div>"
      ],
      "text/plain": [
       "              data2\n",
       "key1 key2          \n",
       "a    one  -0.183644\n",
       "     two  -0.453474\n",
       "b    one   1.610186\n",
       "     two  -0.467272"
      ]
     },
     "execution_count": 28,
     "metadata": {},
     "output_type": "execute_result"
    }
   ],
   "source": [
    "s_grouped = df.groupby(['key1', 'key2'])[['data2']]\n",
    "s_grouped.mean()"
   ]
  },
  {
   "cell_type": "code",
   "execution_count": 29,
   "id": "7a5b25c3",
   "metadata": {},
   "outputs": [
    {
     "data": {
      "text/html": [
       "<div>\n",
       "<style scoped>\n",
       "    .dataframe tbody tr th:only-of-type {\n",
       "        vertical-align: middle;\n",
       "    }\n",
       "\n",
       "    .dataframe tbody tr th {\n",
       "        vertical-align: top;\n",
       "    }\n",
       "\n",
       "    .dataframe thead th {\n",
       "        text-align: right;\n",
       "    }\n",
       "</style>\n",
       "<table border=\"1\" class=\"dataframe\">\n",
       "  <thead>\n",
       "    <tr style=\"text-align: right;\">\n",
       "      <th></th>\n",
       "      <th></th>\n",
       "      <th>data1</th>\n",
       "    </tr>\n",
       "    <tr>\n",
       "      <th>key1</th>\n",
       "      <th>key2</th>\n",
       "      <th></th>\n",
       "    </tr>\n",
       "  </thead>\n",
       "  <tbody>\n",
       "    <tr>\n",
       "      <th rowspan=\"2\" valign=\"top\">a</th>\n",
       "      <th>one</th>\n",
       "      <td>0.312510</td>\n",
       "    </tr>\n",
       "    <tr>\n",
       "      <th>two</th>\n",
       "      <td>0.655671</td>\n",
       "    </tr>\n",
       "    <tr>\n",
       "      <th rowspan=\"2\" valign=\"top\">b</th>\n",
       "      <th>one</th>\n",
       "      <td>0.979849</td>\n",
       "    </tr>\n",
       "    <tr>\n",
       "      <th>two</th>\n",
       "      <td>-1.649056</td>\n",
       "    </tr>\n",
       "  </tbody>\n",
       "</table>\n",
       "</div>"
      ],
      "text/plain": [
       "              data1\n",
       "key1 key2          \n",
       "a    one   0.312510\n",
       "     two   0.655671\n",
       "b    one   0.979849\n",
       "     two  -1.649056"
      ]
     },
     "execution_count": 29,
     "metadata": {},
     "output_type": "execute_result"
    }
   ],
   "source": [
    "s2_grouped = df.groupby(['key1', 'key2'])[['data1']]\n",
    "s2_grouped.mean()"
   ]
  },
  {
   "cell_type": "markdown",
   "id": "d8691ace",
   "metadata": {},
   "source": [
    "## Grouping with Dicts and Series"
   ]
  },
  {
   "cell_type": "markdown",
   "id": "3db1f048",
   "metadata": {},
   "source": [
    "- __Grouping informaiton may exist in a form other than an array. Let's consider another example DataFrame__\n"
   ]
  },
  {
   "cell_type": "code",
   "execution_count": 5,
   "id": "05c04f95",
   "metadata": {},
   "outputs": [
    {
     "data": {
      "text/html": [
       "<div>\n",
       "<style scoped>\n",
       "    .dataframe tbody tr th:only-of-type {\n",
       "        vertical-align: middle;\n",
       "    }\n",
       "\n",
       "    .dataframe tbody tr th {\n",
       "        vertical-align: top;\n",
       "    }\n",
       "\n",
       "    .dataframe thead th {\n",
       "        text-align: right;\n",
       "    }\n",
       "</style>\n",
       "<table border=\"1\" class=\"dataframe\">\n",
       "  <thead>\n",
       "    <tr style=\"text-align: right;\">\n",
       "      <th></th>\n",
       "      <th>a</th>\n",
       "      <th>b</th>\n",
       "      <th>c</th>\n",
       "      <th>d</th>\n",
       "      <th>e</th>\n",
       "    </tr>\n",
       "  </thead>\n",
       "  <tbody>\n",
       "    <tr>\n",
       "      <th>Joe</th>\n",
       "      <td>0.989581</td>\n",
       "      <td>-0.907333</td>\n",
       "      <td>0.828587</td>\n",
       "      <td>-0.099848</td>\n",
       "      <td>0.310752</td>\n",
       "    </tr>\n",
       "    <tr>\n",
       "      <th>Steve</th>\n",
       "      <td>-0.290156</td>\n",
       "      <td>-0.617005</td>\n",
       "      <td>-0.006321</td>\n",
       "      <td>-2.261704</td>\n",
       "      <td>-1.227214</td>\n",
       "    </tr>\n",
       "    <tr>\n",
       "      <th>Wes</th>\n",
       "      <td>0.728232</td>\n",
       "      <td>1.818660</td>\n",
       "      <td>-1.580254</td>\n",
       "      <td>-0.598029</td>\n",
       "      <td>0.721285</td>\n",
       "    </tr>\n",
       "    <tr>\n",
       "      <th>Jim</th>\n",
       "      <td>1.085230</td>\n",
       "      <td>0.547672</td>\n",
       "      <td>0.059699</td>\n",
       "      <td>-0.175725</td>\n",
       "      <td>0.509656</td>\n",
       "    </tr>\n",
       "    <tr>\n",
       "      <th>Travis</th>\n",
       "      <td>1.326031</td>\n",
       "      <td>0.171800</td>\n",
       "      <td>-0.651946</td>\n",
       "      <td>-2.105351</td>\n",
       "      <td>1.710498</td>\n",
       "    </tr>\n",
       "  </tbody>\n",
       "</table>\n",
       "</div>"
      ],
      "text/plain": [
       "               a         b         c         d         e\n",
       "Joe     0.989581 -0.907333  0.828587 -0.099848  0.310752\n",
       "Steve  -0.290156 -0.617005 -0.006321 -2.261704 -1.227214\n",
       "Wes     0.728232  1.818660 -1.580254 -0.598029  0.721285\n",
       "Jim     1.085230  0.547672  0.059699 -0.175725  0.509656\n",
       "Travis  1.326031  0.171800 -0.651946 -2.105351  1.710498"
      ]
     },
     "execution_count": 5,
     "metadata": {},
     "output_type": "execute_result"
    }
   ],
   "source": [
    "people = pd.DataFrame(np.random.randn(5, 5), \n",
    "                      columns=['a', 'b', 'c', 'd', 'e'],\n",
    "                      index=['Joe', 'Steve', 'Wes', 'Jim', 'Travis']\n",
    "                     )\n",
    "people"
   ]
  },
  {
   "cell_type": "code",
   "execution_count": 7,
   "id": "d5fb8a4e",
   "metadata": {},
   "outputs": [
    {
     "data": {
      "text/html": [
       "<div>\n",
       "<style scoped>\n",
       "    .dataframe tbody tr th:only-of-type {\n",
       "        vertical-align: middle;\n",
       "    }\n",
       "\n",
       "    .dataframe tbody tr th {\n",
       "        vertical-align: top;\n",
       "    }\n",
       "\n",
       "    .dataframe thead th {\n",
       "        text-align: right;\n",
       "    }\n",
       "</style>\n",
       "<table border=\"1\" class=\"dataframe\">\n",
       "  <thead>\n",
       "    <tr style=\"text-align: right;\">\n",
       "      <th></th>\n",
       "      <th>a</th>\n",
       "      <th>b</th>\n",
       "      <th>c</th>\n",
       "      <th>d</th>\n",
       "      <th>e</th>\n",
       "    </tr>\n",
       "  </thead>\n",
       "  <tbody>\n",
       "    <tr>\n",
       "      <th>Joe</th>\n",
       "      <td>0.989581</td>\n",
       "      <td>-0.907333</td>\n",
       "      <td>0.828587</td>\n",
       "      <td>-0.099848</td>\n",
       "      <td>0.310752</td>\n",
       "    </tr>\n",
       "    <tr>\n",
       "      <th>Steve</th>\n",
       "      <td>-0.290156</td>\n",
       "      <td>-0.617005</td>\n",
       "      <td>-0.006321</td>\n",
       "      <td>-2.261704</td>\n",
       "      <td>-1.227214</td>\n",
       "    </tr>\n",
       "    <tr>\n",
       "      <th>Wes</th>\n",
       "      <td>0.728232</td>\n",
       "      <td>NaN</td>\n",
       "      <td>NaN</td>\n",
       "      <td>-0.598029</td>\n",
       "      <td>0.721285</td>\n",
       "    </tr>\n",
       "    <tr>\n",
       "      <th>Jim</th>\n",
       "      <td>1.085230</td>\n",
       "      <td>0.547672</td>\n",
       "      <td>0.059699</td>\n",
       "      <td>-0.175725</td>\n",
       "      <td>0.509656</td>\n",
       "    </tr>\n",
       "    <tr>\n",
       "      <th>Travis</th>\n",
       "      <td>1.326031</td>\n",
       "      <td>0.171800</td>\n",
       "      <td>-0.651946</td>\n",
       "      <td>-2.105351</td>\n",
       "      <td>1.710498</td>\n",
       "    </tr>\n",
       "  </tbody>\n",
       "</table>\n",
       "</div>"
      ],
      "text/plain": [
       "               a         b         c         d         e\n",
       "Joe     0.989581 -0.907333  0.828587 -0.099848  0.310752\n",
       "Steve  -0.290156 -0.617005 -0.006321 -2.261704 -1.227214\n",
       "Wes     0.728232       NaN       NaN -0.598029  0.721285\n",
       "Jim     1.085230  0.547672  0.059699 -0.175725  0.509656\n",
       "Travis  1.326031  0.171800 -0.651946 -2.105351  1.710498"
      ]
     },
     "execution_count": 7,
     "metadata": {},
     "output_type": "execute_result"
    }
   ],
   "source": [
    "people.iloc[2:3,[1,2]] = np.nan # Add few Na values\n",
    "people"
   ]
  },
  {
   "cell_type": "markdown",
   "id": "063d8584",
   "metadata": {},
   "source": [
    "- __Now suppose i have a group correspondence for the columns and want to sum together to columns by group__"
   ]
  },
  {
   "cell_type": "code",
   "execution_count": 8,
   "id": "24a5ae66",
   "metadata": {},
   "outputs": [
    {
     "data": {
      "text/plain": [
       "{'a': 'red', 'b': 'red', 'c': 'blue', 'd': 'blue', 'e': 'red', 'f': 'orange'}"
      ]
     },
     "execution_count": 8,
     "metadata": {},
     "output_type": "execute_result"
    }
   ],
   "source": [
    "mapping = {'a': 'red', 'b': 'red', 'c': 'blue', 'd': 'blue', 'e': 'red', 'f' : 'orange'}\n",
    "mapping"
   ]
  },
  {
   "cell_type": "markdown",
   "id": "bd7b5915",
   "metadata": {},
   "source": [
    "- __Now, we could construct an array fro this dict to pass to groupby, but instead we can\n",
    "just pass the dict__"
   ]
  },
  {
   "cell_type": "code",
   "execution_count": 10,
   "id": "908f1756",
   "metadata": {},
   "outputs": [
    {
     "data": {
      "text/html": [
       "<div>\n",
       "<style scoped>\n",
       "    .dataframe tbody tr th:only-of-type {\n",
       "        vertical-align: middle;\n",
       "    }\n",
       "\n",
       "    .dataframe tbody tr th {\n",
       "        vertical-align: top;\n",
       "    }\n",
       "\n",
       "    .dataframe thead th {\n",
       "        text-align: right;\n",
       "    }\n",
       "</style>\n",
       "<table border=\"1\" class=\"dataframe\">\n",
       "  <thead>\n",
       "    <tr style=\"text-align: right;\">\n",
       "      <th></th>\n",
       "      <th>blue</th>\n",
       "      <th>red</th>\n",
       "    </tr>\n",
       "  </thead>\n",
       "  <tbody>\n",
       "    <tr>\n",
       "      <th>Joe</th>\n",
       "      <td>0.364370</td>\n",
       "      <td>0.131000</td>\n",
       "    </tr>\n",
       "    <tr>\n",
       "      <th>Steve</th>\n",
       "      <td>-1.134013</td>\n",
       "      <td>-0.711459</td>\n",
       "    </tr>\n",
       "    <tr>\n",
       "      <th>Wes</th>\n",
       "      <td>-0.598029</td>\n",
       "      <td>0.724759</td>\n",
       "    </tr>\n",
       "    <tr>\n",
       "      <th>Jim</th>\n",
       "      <td>-0.058013</td>\n",
       "      <td>0.714186</td>\n",
       "    </tr>\n",
       "    <tr>\n",
       "      <th>Travis</th>\n",
       "      <td>-1.378648</td>\n",
       "      <td>1.069443</td>\n",
       "    </tr>\n",
       "  </tbody>\n",
       "</table>\n",
       "</div>"
      ],
      "text/plain": [
       "            blue       red\n",
       "Joe     0.364370  0.131000\n",
       "Steve  -1.134013 -0.711459\n",
       "Wes    -0.598029  0.724759\n",
       "Jim    -0.058013  0.714186\n",
       "Travis -1.378648  1.069443"
      ]
     },
     "execution_count": 10,
     "metadata": {},
     "output_type": "execute_result"
    }
   ],
   "source": [
    "by_column = people.groupby(mapping, axis=1)\n",
    "by_column.mean()"
   ]
  },
  {
   "cell_type": "code",
   "execution_count": 23,
   "id": "b585f435",
   "metadata": {},
   "outputs": [
    {
     "data": {
      "text/html": [
       "<div>\n",
       "<style scoped>\n",
       "    .dataframe tbody tr th:only-of-type {\n",
       "        vertical-align: middle;\n",
       "    }\n",
       "\n",
       "    .dataframe tbody tr th {\n",
       "        vertical-align: top;\n",
       "    }\n",
       "\n",
       "    .dataframe thead th {\n",
       "        text-align: right;\n",
       "    }\n",
       "</style>\n",
       "<table border=\"1\" class=\"dataframe\">\n",
       "  <thead>\n",
       "    <tr style=\"text-align: right;\">\n",
       "      <th></th>\n",
       "      <th>blue</th>\n",
       "      <th>red</th>\n",
       "    </tr>\n",
       "  </thead>\n",
       "  <tbody>\n",
       "    <tr>\n",
       "      <th>Joe</th>\n",
       "      <td>2</td>\n",
       "      <td>3</td>\n",
       "    </tr>\n",
       "    <tr>\n",
       "      <th>Steve</th>\n",
       "      <td>2</td>\n",
       "      <td>3</td>\n",
       "    </tr>\n",
       "    <tr>\n",
       "      <th>Wes</th>\n",
       "      <td>1</td>\n",
       "      <td>2</td>\n",
       "    </tr>\n",
       "    <tr>\n",
       "      <th>Jim</th>\n",
       "      <td>2</td>\n",
       "      <td>3</td>\n",
       "    </tr>\n",
       "    <tr>\n",
       "      <th>Travis</th>\n",
       "      <td>2</td>\n",
       "      <td>3</td>\n",
       "    </tr>\n",
       "  </tbody>\n",
       "</table>\n",
       "</div>"
      ],
      "text/plain": [
       "        blue  red\n",
       "Joe        2    3\n",
       "Steve      2    3\n",
       "Wes        1    2\n",
       "Jim        2    3\n",
       "Travis     2    3"
      ]
     },
     "execution_count": 23,
     "metadata": {},
     "output_type": "execute_result"
    }
   ],
   "source": [
    "by_column.count()"
   ]
  },
  {
   "cell_type": "markdown",
   "id": "b1108bec",
   "metadata": {},
   "source": [
    "- __The same functionality holds for Series, which can be viewed as a fixed-size mapping__"
   ]
  },
  {
   "cell_type": "code",
   "execution_count": 15,
   "id": "31f14ca5",
   "metadata": {},
   "outputs": [
    {
     "data": {
      "text/plain": [
       "a       red\n",
       "b       red\n",
       "c      blue\n",
       "d      blue\n",
       "e       red\n",
       "f    orange\n",
       "dtype: object"
      ]
     },
     "execution_count": 15,
     "metadata": {},
     "output_type": "execute_result"
    }
   ],
   "source": [
    "map_series = pd.Series(mapping)\n",
    "map_series"
   ]
  },
  {
   "cell_type": "code",
   "execution_count": 21,
   "id": "6a8a68fb",
   "metadata": {},
   "outputs": [
    {
     "data": {
      "text/html": [
       "<div>\n",
       "<style scoped>\n",
       "    .dataframe tbody tr th:only-of-type {\n",
       "        vertical-align: middle;\n",
       "    }\n",
       "\n",
       "    .dataframe tbody tr th {\n",
       "        vertical-align: top;\n",
       "    }\n",
       "\n",
       "    .dataframe thead th {\n",
       "        text-align: right;\n",
       "    }\n",
       "</style>\n",
       "<table border=\"1\" class=\"dataframe\">\n",
       "  <thead>\n",
       "    <tr style=\"text-align: right;\">\n",
       "      <th></th>\n",
       "      <th>blue</th>\n",
       "      <th>red</th>\n",
       "    </tr>\n",
       "  </thead>\n",
       "  <tbody>\n",
       "    <tr>\n",
       "      <th>Joe</th>\n",
       "      <td>2</td>\n",
       "      <td>3</td>\n",
       "    </tr>\n",
       "    <tr>\n",
       "      <th>Steve</th>\n",
       "      <td>2</td>\n",
       "      <td>3</td>\n",
       "    </tr>\n",
       "    <tr>\n",
       "      <th>Wes</th>\n",
       "      <td>1</td>\n",
       "      <td>2</td>\n",
       "    </tr>\n",
       "    <tr>\n",
       "      <th>Jim</th>\n",
       "      <td>2</td>\n",
       "      <td>3</td>\n",
       "    </tr>\n",
       "    <tr>\n",
       "      <th>Travis</th>\n",
       "      <td>2</td>\n",
       "      <td>3</td>\n",
       "    </tr>\n",
       "  </tbody>\n",
       "</table>\n",
       "</div>"
      ],
      "text/plain": [
       "        blue  red\n",
       "Joe        2    3\n",
       "Steve      2    3\n",
       "Wes        1    2\n",
       "Jim        2    3\n",
       "Travis     2    3"
      ]
     },
     "execution_count": 21,
     "metadata": {},
     "output_type": "execute_result"
    }
   ],
   "source": [
    "series_by_column = people.groupby(map_series, axis=1)\n",
    "series_by_column.count()"
   ]
  },
  {
   "cell_type": "code",
   "execution_count": 22,
   "id": "6fa53ac3",
   "metadata": {},
   "outputs": [
    {
     "data": {
      "text/html": [
       "<div>\n",
       "<style scoped>\n",
       "    .dataframe tbody tr th:only-of-type {\n",
       "        vertical-align: middle;\n",
       "    }\n",
       "\n",
       "    .dataframe tbody tr th {\n",
       "        vertical-align: top;\n",
       "    }\n",
       "\n",
       "    .dataframe thead th {\n",
       "        text-align: right;\n",
       "    }\n",
       "</style>\n",
       "<table border=\"1\" class=\"dataframe\">\n",
       "  <thead>\n",
       "    <tr style=\"text-align: right;\">\n",
       "      <th></th>\n",
       "      <th>blue</th>\n",
       "      <th>red</th>\n",
       "    </tr>\n",
       "  </thead>\n",
       "  <tbody>\n",
       "    <tr>\n",
       "      <th>Joe</th>\n",
       "      <td>0.364370</td>\n",
       "      <td>0.131000</td>\n",
       "    </tr>\n",
       "    <tr>\n",
       "      <th>Steve</th>\n",
       "      <td>-1.134013</td>\n",
       "      <td>-0.711459</td>\n",
       "    </tr>\n",
       "    <tr>\n",
       "      <th>Wes</th>\n",
       "      <td>-0.598029</td>\n",
       "      <td>0.724759</td>\n",
       "    </tr>\n",
       "    <tr>\n",
       "      <th>Jim</th>\n",
       "      <td>-0.058013</td>\n",
       "      <td>0.714186</td>\n",
       "    </tr>\n",
       "    <tr>\n",
       "      <th>Travis</th>\n",
       "      <td>-1.378648</td>\n",
       "      <td>1.069443</td>\n",
       "    </tr>\n",
       "  </tbody>\n",
       "</table>\n",
       "</div>"
      ],
      "text/plain": [
       "            blue       red\n",
       "Joe     0.364370  0.131000\n",
       "Steve  -1.134013 -0.711459\n",
       "Wes    -0.598029  0.724759\n",
       "Jim    -0.058013  0.714186\n",
       "Travis -1.378648  1.069443"
      ]
     },
     "execution_count": 22,
     "metadata": {},
     "output_type": "execute_result"
    }
   ],
   "source": [
    "series_by_column.mean()"
   ]
  },
  {
   "cell_type": "markdown",
   "id": "f245ac4a",
   "metadata": {},
   "source": [
    "## Grouping with Functions"
   ]
  },
  {
   "cell_type": "code",
   "execution_count": null,
   "id": "6557d810",
   "metadata": {},
   "outputs": [],
   "source": []
  },
  {
   "cell_type": "code",
   "execution_count": null,
   "id": "49404e03",
   "metadata": {},
   "outputs": [],
   "source": []
  },
  {
   "cell_type": "code",
   "execution_count": null,
   "id": "423052a8",
   "metadata": {},
   "outputs": [],
   "source": []
  }
 ],
 "metadata": {
  "kernelspec": {
   "display_name": "Python 3",
   "language": "python",
   "name": "python3"
  },
  "language_info": {
   "codemirror_mode": {
    "name": "ipython",
    "version": 3
   },
   "file_extension": ".py",
   "mimetype": "text/x-python",
   "name": "python",
   "nbconvert_exporter": "python",
   "pygments_lexer": "ipython3",
   "version": "3.8.10"
  }
 },
 "nbformat": 4,
 "nbformat_minor": 5
}
