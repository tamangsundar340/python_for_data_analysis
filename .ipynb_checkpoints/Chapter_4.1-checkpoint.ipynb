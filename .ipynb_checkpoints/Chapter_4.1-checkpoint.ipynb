{
 "cells": [
  {
   "cell_type": "markdown",
   "id": "c04eedf0",
   "metadata": {},
   "source": [
    "# NumPy Basics: Arrays and Vectorized Computation"
   ]
  },
  {
   "cell_type": "markdown",
   "id": "998f9ce1",
   "metadata": {},
   "source": [
    "- __NumPy, short for Numerical Python__\n",
    "- __It is one of the most important foundational packages for numerical computing in Python__"
   ]
  },
  {
   "cell_type": "code",
   "execution_count": 2,
   "id": "9de52749",
   "metadata": {},
   "outputs": [
    {
     "data": {
      "text/plain": [
       "array([0, 1, 2, 3, 4, 5, 6, 7, 8, 9])"
      ]
     },
     "execution_count": 2,
     "metadata": {},
     "output_type": "execute_result"
    }
   ],
   "source": [
    "# Example of numpy\n",
    "#range == arange in numpy\n",
    "\n",
    "import numpy as np\n",
    "my_data = np.arange(10)\n",
    "my_data"
   ]
  },
  {
   "cell_type": "code",
   "execution_count": 18,
   "id": "a853996b",
   "metadata": {},
   "outputs": [
    {
     "data": {
      "text/plain": [
       "[0, 1, 2, 3, 4, 5, 6, 7, 8, 9, 10, 11, 12, 13, 14]"
      ]
     },
     "execution_count": 18,
     "metadata": {},
     "output_type": "execute_result"
    }
   ],
   "source": [
    "my_list = list(np.arange(15))\n",
    "my_list"
   ]
  },
  {
   "cell_type": "markdown",
   "id": "deb5c796",
   "metadata": {},
   "source": [
    "- __%time => It also provides functionality other than representing time, like waiting during code execution and measuring the efficiency of your code__"
   ]
  },
  {
   "cell_type": "code",
   "execution_count": 17,
   "id": "294e0476",
   "metadata": {},
   "outputs": [
    {
     "name": "stdout",
     "output_type": "stream",
     "text": [
      "CPU times: user 56 µs, sys: 11 µs, total: 67 µs\n",
      "Wall time: 73.7 µs\n"
     ]
    }
   ],
   "source": [
    "# Now let's multiply each sequence by 2\n",
    "\n",
    "%time for _ in range(10): my_data2 = my_data * 2"
   ]
  },
  {
   "cell_type": "markdown",
   "id": "8c4e6364",
   "metadata": {},
   "source": [
    "- __NumPy-based algorithms are generally 10 to 100 times faster (or more) than their\n",
    "pure Python counterparts and use significantly less memory__"
   ]
  },
  {
   "cell_type": "code",
   "execution_count": 20,
   "id": "cce7c654",
   "metadata": {},
   "outputs": [
    {
     "name": "stdout",
     "output_type": "stream",
     "text": [
      "CPU times: user 84 µs, sys: 16 µs, total: 100 µs\n",
      "Wall time: 110 µs\n"
     ]
    }
   ],
   "source": [
    "%time for _ in range(10): my_list2 = [x * 2 for x in my_list]"
   ]
  },
  {
   "cell_type": "markdown",
   "id": "a69f5b08",
   "metadata": {},
   "source": [
    "### The NumPy ndarray: A Multidimensional Array Object"
   ]
  },
  {
   "cell_type": "code",
   "execution_count": 22,
   "id": "c560dc55",
   "metadata": {},
   "outputs": [
    {
     "data": {
      "text/plain": [
       "array([[0.88415547, 0.03340967, 0.57050258],\n",
       "       [0.08909221, 0.29618377, 0.08553765]])"
      ]
     },
     "execution_count": 22,
     "metadata": {},
     "output_type": "execute_result"
    }
   ],
   "source": [
    "#Example of nd_array\n",
    "\n",
    "import numpy as np\n",
    "\n",
    "nd_array = np.random.rand(2,3)\n",
    "nd_array"
   ]
  },
  {
   "cell_type": "code",
   "execution_count": 23,
   "id": "b6a05e1b",
   "metadata": {},
   "outputs": [
    {
     "data": {
      "text/plain": [
       "array([[8.84155469, 0.33409674, 5.70502579],\n",
       "       [0.89092211, 2.96183767, 0.8553765 ]])"
      ]
     },
     "execution_count": 23,
     "metadata": {},
     "output_type": "execute_result"
    }
   ],
   "source": [
    "# we can do also mathmatical operation\n",
    "\n",
    "op_nd_array = nd_array * 10\n",
    "op_nd_array"
   ]
  },
  {
   "cell_type": "code",
   "execution_count": 25,
   "id": "178ef6e2",
   "metadata": {},
   "outputs": [
    {
     "data": {
      "text/plain": [
       "(2, 3)"
      ]
     },
     "execution_count": 25,
     "metadata": {},
     "output_type": "execute_result"
    }
   ],
   "source": [
    "op_nd_array.shape"
   ]
  },
  {
   "cell_type": "code",
   "execution_count": 27,
   "id": "fb13ebc8",
   "metadata": {},
   "outputs": [
    {
     "data": {
      "text/plain": [
       "dtype('float64')"
      ]
     },
     "execution_count": 27,
     "metadata": {},
     "output_type": "execute_result"
    }
   ],
   "source": [
    "op_nd_array.dtype"
   ]
  },
  {
   "cell_type": "markdown",
   "id": "16434f5c",
   "metadata": {},
   "source": [
    "### Creating Arrays\n",
    "- __The easiest way to create an array is to use the array function. This accepts any sequence-like object (including other arrays) and produces a new NumPy array containing the passed data__"
   ]
  },
  {
   "cell_type": "code",
   "execution_count": 33,
   "id": "6a9b0d5b",
   "metadata": {},
   "outputs": [
    {
     "data": {
      "text/plain": [
       "array([10, 20, 30, 40, 50, 60, 70, 80, 90])"
      ]
     },
     "execution_count": 33,
     "metadata": {},
     "output_type": "execute_result"
    }
   ],
   "source": [
    "# Example of creating array from list\n",
    "\n",
    "\n",
    "import numpy as np\n",
    "\n",
    "a_data = [10,20,30,40,50,60,70,80,90]\n",
    "a_array = np.array(a_data)\n",
    "a_array"
   ]
  },
  {
   "cell_type": "code",
   "execution_count": 34,
   "id": "b409880c",
   "metadata": {},
   "outputs": [
    {
     "data": {
      "text/plain": [
       "array([[ 1,  2,  3,  4,  5],\n",
       "       [10, 20, 30, 40, 50]])"
      ]
     },
     "execution_count": 34,
     "metadata": {},
     "output_type": "execute_result"
    }
   ],
   "source": [
    "# Another example\n",
    "\n",
    "b_data = [[1,2,3,4,5],[10,20,30,40,50]]\n",
    "b_array = np.array(b_data)\n",
    "b_array"
   ]
  },
  {
   "cell_type": "code",
   "execution_count": 36,
   "id": "b7bc8f10",
   "metadata": {},
   "outputs": [
    {
     "data": {
      "text/plain": [
       "array([0., 0., 0., 0., 0., 0., 0., 0., 0., 0.])"
      ]
     },
     "execution_count": 36,
     "metadata": {},
     "output_type": "execute_result"
    }
   ],
   "source": [
    "# Another way of creating array\n",
    "\n",
    "np.zeros(10)"
   ]
  },
  {
   "cell_type": "code",
   "execution_count": 38,
   "id": "e248cf96",
   "metadata": {},
   "outputs": [
    {
     "data": {
      "text/plain": [
       "array([[0., 0., 0., 0.],\n",
       "       [0., 0., 0., 0.]])"
      ]
     },
     "execution_count": 38,
     "metadata": {},
     "output_type": "execute_result"
    }
   ],
   "source": [
    "np.zeros((2,4))"
   ]
  },
  {
   "cell_type": "code",
   "execution_count": 39,
   "id": "83495692",
   "metadata": {},
   "outputs": [
    {
     "data": {
      "text/plain": [
       "array([[2.4087139e-316, 0.0000000e+000, 0.0000000e+000, 0.0000000e+000],\n",
       "       [0.0000000e+000, 0.0000000e+000, 0.0000000e+000, 0.0000000e+000],\n",
       "       [0.0000000e+000, 0.0000000e+000, 0.0000000e+000, 0.0000000e+000]])"
      ]
     },
     "execution_count": 39,
     "metadata": {},
     "output_type": "execute_result"
    }
   ],
   "source": [
    "np.empty((3,4))"
   ]
  },
  {
   "cell_type": "code",
   "execution_count": 40,
   "id": "59b7a721",
   "metadata": {},
   "outputs": [
    {
     "data": {
      "text/plain": [
       "array([ 0,  1,  2,  3,  4,  5,  6,  7,  8,  9, 10, 11, 12, 13, 14])"
      ]
     },
     "execution_count": 40,
     "metadata": {},
     "output_type": "execute_result"
    }
   ],
   "source": [
    "np.arange(15)"
   ]
  },
  {
   "cell_type": "markdown",
   "id": "44a1adca",
   "metadata": {},
   "source": [
    "### Data Types for ndarrays"
   ]
  },
  {
   "cell_type": "code",
   "execution_count": 43,
   "id": "d491aeae",
   "metadata": {},
   "outputs": [
    {
     "data": {
      "text/plain": [
       "dtype('float64')"
      ]
     },
     "execution_count": 43,
     "metadata": {},
     "output_type": "execute_result"
    }
   ],
   "source": [
    "#create array with datatype\n",
    "\n",
    "c_array = np.arange((10), dtype =np.float64)\n",
    "c_array\n",
    "c_array.dtype"
   ]
  },
  {
   "cell_type": "code",
   "execution_count": 45,
   "id": "b146ade6",
   "metadata": {},
   "outputs": [
    {
     "data": {
      "text/plain": [
       "dtype('int32')"
      ]
     },
     "execution_count": 45,
     "metadata": {},
     "output_type": "execute_result"
    }
   ],
   "source": [
    "d_array = np.arange((10), dtype=np.int32)\n",
    "d_array\n",
    "d_array.dtype"
   ]
  },
  {
   "cell_type": "markdown",
   "id": "85b07568",
   "metadata": {},
   "source": [
    "- __Convert datatype__\n",
    "- __'astype' function convert datatype__"
   ]
  },
  {
   "cell_type": "code",
   "execution_count": 46,
   "id": "5d77d325",
   "metadata": {},
   "outputs": [
    {
     "data": {
      "text/plain": [
       "array([10, 20, 30, 40, 50])"
      ]
     },
     "execution_count": 46,
     "metadata": {},
     "output_type": "execute_result"
    }
   ],
   "source": [
    "e_array = np.array([10,20,30,40,50])\n",
    "e_array"
   ]
  },
  {
   "cell_type": "code",
   "execution_count": 47,
   "id": "b09ef70c",
   "metadata": {},
   "outputs": [
    {
     "data": {
      "text/plain": [
       "array([10., 20., 30., 40., 50.])"
      ]
     },
     "execution_count": 47,
     "metadata": {},
     "output_type": "execute_result"
    }
   ],
   "source": [
    "f_array = e_array.astype(np.float64)\n",
    "f_array"
   ]
  },
  {
   "cell_type": "markdown",
   "id": "571695e9",
   "metadata": {},
   "source": [
    "### Arithmetic with NumPy Arrays"
   ]
  },
  {
   "cell_type": "code",
   "execution_count": 50,
   "id": "23652f91",
   "metadata": {},
   "outputs": [
    {
     "data": {
      "text/plain": [
       "array([[  3,   6,   9,  12,  15],\n",
       "       [ 30,  60,  90, 120, 150]])"
      ]
     },
     "execution_count": 50,
     "metadata": {},
     "output_type": "execute_result"
    }
   ],
   "source": [
    "# Some basic arithmatic examples\n",
    "\n",
    "g_array = np.array([[1,2,3,4,5],[10,20,30,40,50]])\n",
    "g_array*3"
   ]
  },
  {
   "cell_type": "code",
   "execution_count": 51,
   "id": "30c80953",
   "metadata": {},
   "outputs": [
    {
     "data": {
      "text/plain": [
       "array([[   1,    4,    9,   16,   25],\n",
       "       [ 100,  400,  900, 1600, 2500]])"
      ]
     },
     "execution_count": 51,
     "metadata": {},
     "output_type": "execute_result"
    }
   ],
   "source": [
    "h_array = g_array * g_array\n",
    "h_array"
   ]
  },
  {
   "cell_type": "code",
   "execution_count": 52,
   "id": "31639d22",
   "metadata": {},
   "outputs": [
    {
     "data": {
      "text/plain": [
       "array([[      1,      16,      81,     256,     625],\n",
       "       [  10000,  160000,  810000, 2560000, 6250000]])"
      ]
     },
     "execution_count": 52,
     "metadata": {},
     "output_type": "execute_result"
    }
   ],
   "source": [
    "i_array = h_array**2\n",
    "i_array"
   ]
  },
  {
   "cell_type": "code",
   "execution_count": 53,
   "id": "46e96e8d",
   "metadata": {},
   "outputs": [
    {
     "data": {
      "text/plain": [
       "array([[False,  True,  True,  True,  True],\n",
       "       [ True,  True,  True,  True,  True]])"
      ]
     },
     "execution_count": 53,
     "metadata": {},
     "output_type": "execute_result"
    }
   ],
   "source": [
    "j_array = h_array>g_array\n",
    "j_array"
   ]
  },
  {
   "cell_type": "markdown",
   "id": "038ad85e",
   "metadata": {},
   "source": [
    "### Basic Indexing and Slicing"
   ]
  },
  {
   "cell_type": "code",
   "execution_count": 55,
   "id": "76b39860",
   "metadata": {},
   "outputs": [
    {
     "data": {
      "text/plain": [
       "array([6, 7, 8])"
      ]
     },
     "execution_count": 55,
     "metadata": {},
     "output_type": "execute_result"
    }
   ],
   "source": [
    "# example of indexing\n",
    "\n",
    "k_array = np.array([1,2,3,4,5,6,7,8,9,10,11,1,2,13,14,15])"
   ]
  },
  {
   "cell_type": "code",
   "execution_count": 56,
   "id": "53220872",
   "metadata": {},
   "outputs": [
    {
     "data": {
      "text/plain": [
       "array([6, 7, 8])"
      ]
     },
     "execution_count": 56,
     "metadata": {},
     "output_type": "execute_result"
    }
   ],
   "source": [
    "k_array[5:8]"
   ]
  },
  {
   "cell_type": "code",
   "execution_count": 59,
   "id": "cc6301a0",
   "metadata": {},
   "outputs": [
    {
     "data": {
      "text/plain": [
       "array([ 1,  2,  3,  4,  5,  0,  0,  0,  9, 10, 11,  1,  2, 13, 14, 15])"
      ]
     },
     "execution_count": 59,
     "metadata": {},
     "output_type": "execute_result"
    }
   ],
   "source": [
    "k_array[5:8] = 0\n",
    "\n",
    "k_array "
   ]
  },
  {
   "cell_type": "code",
   "execution_count": 60,
   "id": "5283a1d3",
   "metadata": {},
   "outputs": [
    {
     "data": {
      "text/plain": [
       "array([0, 0, 0])"
      ]
     },
     "execution_count": 60,
     "metadata": {},
     "output_type": "execute_result"
    }
   ],
   "source": [
    "k_array[5:8]"
   ]
  },
  {
   "cell_type": "code",
   "execution_count": 61,
   "id": "27c7e5bf",
   "metadata": {},
   "outputs": [
    {
     "data": {
      "text/plain": [
       "15"
      ]
     },
     "execution_count": 61,
     "metadata": {},
     "output_type": "execute_result"
    }
   ],
   "source": [
    "k_array[-1]"
   ]
  },
  {
   "cell_type": "code",
   "execution_count": 63,
   "id": "b9502a00",
   "metadata": {},
   "outputs": [
    {
     "data": {
      "text/plain": [
       "array([ 1,  2,  3,  4,  5,  0,  0,  0,  9, 10, 11,  1,  2])"
      ]
     },
     "execution_count": 63,
     "metadata": {},
     "output_type": "execute_result"
    }
   ],
   "source": [
    "k_array[:-3]"
   ]
  },
  {
   "cell_type": "markdown",
   "id": "07218653",
   "metadata": {},
   "source": [
    "- __ndimension array indexing__"
   ]
  },
  {
   "cell_type": "code",
   "execution_count": 120,
   "id": "f3c7dd67",
   "metadata": {},
   "outputs": [
    {
     "data": {
      "text/plain": [
       "array([[ 1,  2,  3,  4,  5],\n",
       "       [11, 22, 33, 44, 55],\n",
       "       [10, 20, 30, 40, 50]])"
      ]
     },
     "execution_count": 120,
     "metadata": {},
     "output_type": "execute_result"
    }
   ],
   "source": [
    "l_array = np.array([[1,2,3,4,5],[11,22,33,44,55],[10,20,30,40,50]])\n",
    "l_array"
   ]
  },
  {
   "cell_type": "code",
   "execution_count": 121,
   "id": "02d35ad4",
   "metadata": {},
   "outputs": [
    {
     "data": {
      "text/plain": [
       "array([10, 20, 30, 40, 50])"
      ]
     },
     "execution_count": 121,
     "metadata": {},
     "output_type": "execute_result"
    }
   ],
   "source": [
    "l_array[2]"
   ]
  },
  {
   "cell_type": "code",
   "execution_count": 122,
   "id": "0ce95e97",
   "metadata": {},
   "outputs": [
    {
     "data": {
      "text/plain": [
       "10"
      ]
     },
     "execution_count": 122,
     "metadata": {},
     "output_type": "execute_result"
    }
   ],
   "source": [
    "l_array[2][0]"
   ]
  },
  {
   "cell_type": "code",
   "execution_count": 123,
   "id": "cd838400",
   "metadata": {},
   "outputs": [
    {
     "data": {
      "text/plain": [
       "50"
      ]
     },
     "execution_count": 123,
     "metadata": {},
     "output_type": "execute_result"
    }
   ],
   "source": [
    "l_array[2][-1]"
   ]
  },
  {
   "cell_type": "code",
   "execution_count": 124,
   "id": "8a5d3da9",
   "metadata": {},
   "outputs": [
    {
     "data": {
      "text/plain": [
       "array([10, 20, 30, 40])"
      ]
     },
     "execution_count": 124,
     "metadata": {},
     "output_type": "execute_result"
    }
   ],
   "source": [
    "l_array[2][0:-1]"
   ]
  },
  {
   "cell_type": "code",
   "execution_count": 125,
   "id": "b8085462",
   "metadata": {},
   "outputs": [
    {
     "data": {
      "text/plain": [
       "array([[[  1,   2,   3,   4,   5],\n",
       "        [ 10,  20,  30,  40,  50]],\n",
       "\n",
       "       [[ 11,  22,  33,  44,  55],\n",
       "        [100, 200, 300, 400, 500]]])"
      ]
     },
     "execution_count": 125,
     "metadata": {},
     "output_type": "execute_result"
    }
   ],
   "source": [
    "m_array = np.array([[[1,2,3,4,5,],[10,20,30,40,50]],[[11,22,33,44,55],[100,200,300,400,500]]])\n",
    "m_array"
   ]
  },
  {
   "cell_type": "code",
   "execution_count": 126,
   "id": "f08d4e71",
   "metadata": {},
   "outputs": [
    {
     "data": {
      "text/plain": [
       "array([[ 1,  2,  3,  4,  5],\n",
       "       [10, 20, 30, 40, 50]])"
      ]
     },
     "execution_count": 126,
     "metadata": {},
     "output_type": "execute_result"
    }
   ],
   "source": [
    "m_array[0]"
   ]
  },
  {
   "cell_type": "code",
   "execution_count": 127,
   "id": "8aa9c2cc",
   "metadata": {},
   "outputs": [
    {
     "data": {
      "text/plain": [
       "array([10, 20, 30, 40, 50])"
      ]
     },
     "execution_count": 127,
     "metadata": {},
     "output_type": "execute_result"
    }
   ],
   "source": [
    "m_array[0][1]"
   ]
  },
  {
   "cell_type": "code",
   "execution_count": 128,
   "id": "bde9a593",
   "metadata": {},
   "outputs": [
    {
     "data": {
      "text/plain": [
       "50"
      ]
     },
     "execution_count": 128,
     "metadata": {},
     "output_type": "execute_result"
    }
   ],
   "source": [
    "m_array[0][1][-1]"
   ]
  },
  {
   "cell_type": "markdown",
   "id": "537b6a81",
   "metadata": {},
   "source": [
    "- __We can assign both scaler and  array values to m_array[0]__"
   ]
  },
  {
   "cell_type": "code",
   "execution_count": 129,
   "id": "962bb526",
   "metadata": {},
   "outputs": [
    {
     "data": {
      "text/plain": [
       "array([[ 1,  2,  3,  4,  5],\n",
       "       [10, 20, 30, 40, 50]])"
      ]
     },
     "execution_count": 129,
     "metadata": {},
     "output_type": "execute_result"
    }
   ],
   "source": [
    "old_values = m_array[0].copy()\n",
    "old_values"
   ]
  },
  {
   "cell_type": "code",
   "execution_count": 130,
   "id": "01e337e7",
   "metadata": {},
   "outputs": [
    {
     "data": {
      "text/plain": [
       "array([[999, 999, 999, 999, 999],\n",
       "       [999, 999, 999, 999, 999]])"
      ]
     },
     "execution_count": 130,
     "metadata": {},
     "output_type": "execute_result"
    }
   ],
   "source": [
    "# Now let's assign value to m_array[0]\n",
    "\n",
    "m_array[0] = 999\n",
    "m_array[0]"
   ]
  },
  {
   "cell_type": "code",
   "execution_count": 133,
   "id": "e0c677d7",
   "metadata": {},
   "outputs": [
    {
     "data": {
      "text/plain": [
       "array([[ 1,  2,  3,  4,  5],\n",
       "       [10, 20, 30, 40, 50]])"
      ]
     },
     "execution_count": 133,
     "metadata": {},
     "output_type": "execute_result"
    }
   ],
   "source": [
    "m_array[0] = old_values\n",
    "m_array[0]"
   ]
  },
  {
   "cell_type": "code",
   "execution_count": 134,
   "id": "3e83931e",
   "metadata": {},
   "outputs": [
    {
     "data": {
      "text/plain": [
       "array([[[  1,   2,   3,   4,   5],\n",
       "        [ 10,  20,  30,  40,  50]],\n",
       "\n",
       "       [[ 11,  22,  33,  44,  55],\n",
       "        [100, 200, 300, 400, 500]]])"
      ]
     },
     "execution_count": 134,
     "metadata": {},
     "output_type": "execute_result"
    }
   ],
   "source": [
    "m_array"
   ]
  },
  {
   "cell_type": "markdown",
   "id": "0517fc54",
   "metadata": {},
   "source": [
    "- __Indexing with slices__\n"
   ]
  },
  {
   "cell_type": "code",
   "execution_count": 138,
   "id": "bd84054a",
   "metadata": {},
   "outputs": [],
   "source": [
    "n_array = np.array([[1,2,3,4,5],[11,22,33,44,55],[10,20,30,40,50]])"
   ]
  },
  {
   "cell_type": "code",
   "execution_count": 139,
   "id": "e0004ad7",
   "metadata": {},
   "outputs": [
    {
     "data": {
      "text/plain": [
       "array([[ 1,  2,  3,  4,  5],\n",
       "       [11, 22, 33, 44, 55]])"
      ]
     },
     "execution_count": 139,
     "metadata": {},
     "output_type": "execute_result"
    }
   ],
   "source": [
    "n_array[:2]"
   ]
  },
  {
   "cell_type": "code",
   "execution_count": 141,
   "id": "708e9f6c",
   "metadata": {},
   "outputs": [
    {
     "data": {
      "text/plain": [
       "array([[ 1,  2,  3,  4,  5],\n",
       "       [11, 22, 33, 44, 55]])"
      ]
     },
     "execution_count": 141,
     "metadata": {},
     "output_type": "execute_result"
    }
   ],
   "source": [
    "n_array[:2]"
   ]
  },
  {
   "cell_type": "code",
   "execution_count": 142,
   "id": "f0795787",
   "metadata": {},
   "outputs": [
    {
     "data": {
      "text/plain": [
       "array([[ 1,  2],\n",
       "       [11, 22]])"
      ]
     },
     "execution_count": 142,
     "metadata": {},
     "output_type": "execute_result"
    }
   ],
   "source": [
    "n_array[:2,:-3]"
   ]
  },
  {
   "cell_type": "code",
   "execution_count": 143,
   "id": "a4860ec6",
   "metadata": {},
   "outputs": [
    {
     "data": {
      "text/plain": [
       "array([[ 3,  4,  5],\n",
       "       [33, 44, 55]])"
      ]
     },
     "execution_count": 143,
     "metadata": {},
     "output_type": "execute_result"
    }
   ],
   "source": [
    "n_array[:2,2:]"
   ]
  },
  {
   "cell_type": "code",
   "execution_count": 145,
   "id": "aa0dd518",
   "metadata": {},
   "outputs": [
    {
     "data": {
      "text/plain": [
       "array([[ 1],\n",
       "       [11],\n",
       "       [10]])"
      ]
     },
     "execution_count": 145,
     "metadata": {},
     "output_type": "execute_result"
    }
   ],
   "source": [
    "n_array[:,:1]"
   ]
  },
  {
   "cell_type": "code",
   "execution_count": 146,
   "id": "91872b62",
   "metadata": {},
   "outputs": [
    {
     "data": {
      "text/plain": [
       "array([[ 0,  2,  3,  4,  5],\n",
       "       [ 0, 22, 33, 44, 55],\n",
       "       [ 0, 20, 30, 40, 50]])"
      ]
     },
     "execution_count": 146,
     "metadata": {},
     "output_type": "execute_result"
    }
   ],
   "source": [
    "# assing value\n",
    "\n",
    "n_array[:,:1] = 0\n",
    "n_array"
   ]
  },
  {
   "cell_type": "markdown",
   "id": "ca8956fb",
   "metadata": {},
   "source": [
    "### Boolean Indexing\n"
   ]
  },
  {
   "cell_type": "code",
   "execution_count": 147,
   "id": "6d4ec36a",
   "metadata": {},
   "outputs": [
    {
     "data": {
      "text/plain": [
       "array(['Bob', 'Joe', 'Will', 'Bob', 'Will', 'Joe', 'Joe'], dtype='<U4')"
      ]
     },
     "execution_count": 147,
     "metadata": {},
     "output_type": "execute_result"
    }
   ],
   "source": [
    "names = np.array(['Bob', 'Joe', 'Will', 'Bob', 'Will', 'Joe', 'Joe'])\n",
    "names"
   ]
  },
  {
   "cell_type": "code",
   "execution_count": 151,
   "id": "176dc281",
   "metadata": {},
   "outputs": [
    {
     "data": {
      "text/plain": [
       "array([[-0.93732368,  0.84315287,  0.64762758, -1.51619222],\n",
       "       [-0.17516496, -0.71131469,  0.93037684,  1.43853242],\n",
       "       [-0.43118511,  0.03281752, -1.15804405, -0.75730202],\n",
       "       [ 1.20071579,  1.20412027, -1.40552447, -0.43563302],\n",
       "       [ 0.48752352, -0.52494274, -0.89599309, -0.19598958],\n",
       "       [-0.74496032, -0.4592035 , -0.17099975,  1.00343061],\n",
       "       [ 0.52032811, -0.33173973,  0.36954095, -0.04638408]])"
      ]
     },
     "execution_count": 151,
     "metadata": {},
     "output_type": "execute_result"
    }
   ],
   "source": [
    "data = np.random.randn(7, 4)\n",
    "data"
   ]
  },
  {
   "cell_type": "code",
   "execution_count": 152,
   "id": "601cc291",
   "metadata": {},
   "outputs": [
    {
     "data": {
      "text/plain": [
       "array([ True, False, False,  True, False, False, False])"
      ]
     },
     "execution_count": 152,
     "metadata": {},
     "output_type": "execute_result"
    }
   ],
   "source": [
    "names == 'Bob'"
   ]
  },
  {
   "cell_type": "markdown",
   "id": "d860a01b",
   "metadata": {},
   "source": [
    "- __Bob name is in 0 index and 3 index , so it will also select the data from that index__\n",
    "\n"
   ]
  },
  {
   "cell_type": "code",
   "execution_count": 154,
   "id": "a3517d1a",
   "metadata": {},
   "outputs": [
    {
     "data": {
      "text/plain": [
       "array([[-0.93732368,  0.84315287,  0.64762758, -1.51619222],\n",
       "       [ 1.20071579,  1.20412027, -1.40552447, -0.43563302]])"
      ]
     },
     "execution_count": 154,
     "metadata": {},
     "output_type": "execute_result"
    }
   ],
   "source": [
    "data[names == 'Bob']"
   ]
  },
  {
   "cell_type": "code",
   "execution_count": 156,
   "id": "4fd7f96b",
   "metadata": {},
   "outputs": [
    {
     "data": {
      "text/plain": [
       "array([[ 0.64762758, -1.51619222],\n",
       "       [-1.40552447, -0.43563302]])"
      ]
     },
     "execution_count": 156,
     "metadata": {},
     "output_type": "execute_result"
    }
   ],
   "source": [
    "data[names == 'Bob',2:]"
   ]
  },
  {
   "cell_type": "markdown",
   "id": "9ba9c62a",
   "metadata": {},
   "source": [
    "- __To select everything but 'Bob' , you can either use != or negate the condition using ~__\n"
   ]
  },
  {
   "cell_type": "code",
   "execution_count": 157,
   "id": "54f07cd2",
   "metadata": {},
   "outputs": [
    {
     "data": {
      "text/plain": [
       "array([False,  True,  True, False,  True,  True,  True])"
      ]
     },
     "execution_count": 157,
     "metadata": {},
     "output_type": "execute_result"
    }
   ],
   "source": [
    "names != 'Bob'"
   ]
  },
  {
   "cell_type": "code",
   "execution_count": 158,
   "id": "1a68c322",
   "metadata": {},
   "outputs": [
    {
     "data": {
      "text/plain": [
       "array([[-0.17516496, -0.71131469,  0.93037684,  1.43853242],\n",
       "       [-0.43118511,  0.03281752, -1.15804405, -0.75730202],\n",
       "       [ 0.48752352, -0.52494274, -0.89599309, -0.19598958],\n",
       "       [-0.74496032, -0.4592035 , -0.17099975,  1.00343061],\n",
       "       [ 0.52032811, -0.33173973,  0.36954095, -0.04638408]])"
      ]
     },
     "execution_count": 158,
     "metadata": {},
     "output_type": "execute_result"
    }
   ],
   "source": [
    "data[~(names == 'Bob')]"
   ]
  },
  {
   "cell_type": "markdown",
   "id": "888e502a",
   "metadata": {},
   "source": [
    "- __Selecting more than one name__"
   ]
  },
  {
   "cell_type": "code",
   "execution_count": 160,
   "id": "58ea656d",
   "metadata": {},
   "outputs": [
    {
     "data": {
      "text/plain": [
       "array([ True, False,  True,  True,  True, False, False])"
      ]
     },
     "execution_count": 160,
     "metadata": {},
     "output_type": "execute_result"
    }
   ],
   "source": [
    "select_name = (names == 'Bob') | (names == 'Will')\n",
    "select_name"
   ]
  },
  {
   "cell_type": "code",
   "execution_count": 162,
   "id": "444ae7d0",
   "metadata": {},
   "outputs": [
    {
     "data": {
      "text/plain": [
       "array([[-0.93732368,  0.84315287,  0.64762758, -1.51619222],\n",
       "       [-0.43118511,  0.03281752, -1.15804405, -0.75730202],\n",
       "       [ 1.20071579,  1.20412027, -1.40552447, -0.43563302],\n",
       "       [ 0.48752352, -0.52494274, -0.89599309, -0.19598958]])"
      ]
     },
     "execution_count": 162,
     "metadata": {},
     "output_type": "execute_result"
    }
   ],
   "source": [
    "data[select_name]"
   ]
  },
  {
   "cell_type": "code",
   "execution_count": 163,
   "id": "7ac8a0f0",
   "metadata": {},
   "outputs": [
    {
     "data": {
      "text/plain": [
       "array([[7., 7., 7., 7.],\n",
       "       [7., 7., 7., 7.],\n",
       "       [7., 7., 7., 7.],\n",
       "       [7., 7., 7., 7.]])"
      ]
     },
     "execution_count": 163,
     "metadata": {},
     "output_type": "execute_result"
    }
   ],
   "source": [
    "data[select_name] = 7\n",
    "data[select_name]"
   ]
  },
  {
   "cell_type": "code",
   "execution_count": 164,
   "id": "076dd87e",
   "metadata": {},
   "outputs": [
    {
     "data": {
      "text/plain": [
       "array([[ 7.        ,  7.        ,  7.        ,  7.        ],\n",
       "       [-0.17516496, -0.71131469,  0.93037684,  1.43853242],\n",
       "       [ 7.        ,  7.        ,  7.        ,  7.        ],\n",
       "       [ 7.        ,  7.        ,  7.        ,  7.        ],\n",
       "       [ 7.        ,  7.        ,  7.        ,  7.        ],\n",
       "       [-0.74496032, -0.4592035 , -0.17099975,  1.00343061],\n",
       "       [ 0.52032811, -0.33173973,  0.36954095, -0.04638408]])"
      ]
     },
     "execution_count": 164,
     "metadata": {},
     "output_type": "execute_result"
    }
   ],
   "source": [
    "data"
   ]
  },
  {
   "cell_type": "markdown",
   "id": "9abbe79f",
   "metadata": {},
   "source": [
    "##### Fancy Indexing\n",
    "- __Fancy indexing is a term adopted by NumPy to describe indexing using integer arrays__"
   ]
  },
  {
   "cell_type": "code",
   "execution_count": 165,
   "id": "ebf08108",
   "metadata": {},
   "outputs": [
    {
     "data": {
      "text/plain": [
       "array([[2.27246956e-316, 0.00000000e+000, 6.92256433e-310,\n",
       "        6.92256432e-310],\n",
       "       [6.92256558e-310, 6.92256433e-310, 6.92256433e-310,\n",
       "        6.92256554e-310],\n",
       "       [6.92256433e-310, 6.92256547e-310, 6.92256548e-310,\n",
       "        6.92256558e-310],\n",
       "       [6.92256433e-310, 6.92256432e-310, 6.92256433e-310,\n",
       "        6.92256433e-310],\n",
       "       [6.92256433e-310, 6.92256548e-310, 6.92256544e-310,\n",
       "        6.92256433e-310],\n",
       "       [6.92256558e-310, 6.92256558e-310, 6.92256433e-310,\n",
       "        6.92256433e-310],\n",
       "       [6.92256551e-310, 6.92256433e-310, 6.92256433e-310,\n",
       "        6.92256433e-310],\n",
       "       [6.92256433e-310, 6.92256558e-310, 6.92256558e-310,\n",
       "        6.92256558e-310]])"
      ]
     },
     "execution_count": 165,
     "metadata": {},
     "output_type": "execute_result"
    }
   ],
   "source": [
    "arr = np.empty((8, 4))\n",
    "arr"
   ]
  },
  {
   "cell_type": "code",
   "execution_count": 168,
   "id": "70d2a4a0",
   "metadata": {},
   "outputs": [
    {
     "data": {
      "text/plain": [
       "array([[6.92256433e-310, 6.92256548e-310, 6.92256544e-310,\n",
       "        6.92256433e-310],\n",
       "       [6.92256433e-310, 6.92256432e-310, 6.92256433e-310,\n",
       "        6.92256433e-310]])"
      ]
     },
     "execution_count": 168,
     "metadata": {},
     "output_type": "execute_result"
    }
   ],
   "source": [
    "arr[[4,3]]"
   ]
  },
  {
   "cell_type": "markdown",
   "id": "35a94e79",
   "metadata": {},
   "source": [
    "#### Transposing Arrays and Swapping Axes\n",
    "- __Transposing is a special form of reshaping that similarly returns a view on the underlying data without copying anything__\n",
    "- __Arrays have the transpose method and also the special T attribute__\n",
    "\n"
   ]
  },
  {
   "cell_type": "code",
   "execution_count": 172,
   "id": "50974222",
   "metadata": {},
   "outputs": [
    {
     "data": {
      "text/plain": [
       "array([[ 0,  1,  2,  3,  4],\n",
       "       [ 5,  6,  7,  8,  9],\n",
       "       [10, 11, 12, 13, 14]])"
      ]
     },
     "execution_count": 172,
     "metadata": {},
     "output_type": "execute_result"
    }
   ],
   "source": [
    "arr = np.arange(15).reshape((3, 5))\n",
    "arr"
   ]
  },
  {
   "cell_type": "code",
   "execution_count": 171,
   "id": "96192125",
   "metadata": {},
   "outputs": [
    {
     "data": {
      "text/plain": [
       "array([[ 0,  5, 10],\n",
       "       [ 1,  6, 11],\n",
       "       [ 2,  7, 12],\n",
       "       [ 3,  8, 13],\n",
       "       [ 4,  9, 14]])"
      ]
     },
     "execution_count": 171,
     "metadata": {},
     "output_type": "execute_result"
    }
   ],
   "source": [
    "# T attribute\n",
    "\n",
    "arr.T"
   ]
  },
  {
   "cell_type": "code",
   "execution_count": 175,
   "id": "e99921db",
   "metadata": {},
   "outputs": [
    {
     "data": {
      "text/plain": [
       "array([[0.99263292, 0.84634052, 0.43279473],\n",
       "       [0.69237694, 0.54211436, 0.5074233 ],\n",
       "       [0.91240298, 0.18531899, 0.07949051],\n",
       "       [0.35139278, 0.3709864 , 0.20503946],\n",
       "       [0.21120884, 0.8748796 , 0.13988723],\n",
       "       [0.10824964, 0.63140157, 0.72880287],\n",
       "       [0.78122982, 0.61673763, 0.62527744]])"
      ]
     },
     "execution_count": 175,
     "metadata": {},
     "output_type": "execute_result"
    }
   ],
   "source": [
    "# Anothe example:-\n",
    "\n",
    "arr_2 = np.random.rand(7,3)\n",
    "arr_2"
   ]
  },
  {
   "cell_type": "code",
   "execution_count": 176,
   "id": "976ddbe1",
   "metadata": {},
   "outputs": [
    {
     "data": {
      "text/plain": [
       "array([[0.99263292, 0.69237694, 0.91240298, 0.35139278, 0.21120884,\n",
       "        0.10824964, 0.78122982],\n",
       "       [0.84634052, 0.54211436, 0.18531899, 0.3709864 , 0.8748796 ,\n",
       "        0.63140157, 0.61673763],\n",
       "       [0.43279473, 0.5074233 , 0.07949051, 0.20503946, 0.13988723,\n",
       "        0.72880287, 0.62527744]])"
      ]
     },
     "execution_count": 176,
     "metadata": {},
     "output_type": "execute_result"
    }
   ],
   "source": [
    "arr_2.T"
   ]
  },
  {
   "cell_type": "markdown",
   "id": "8e00deb9",
   "metadata": {},
   "source": [
    "- __When doing matrix computations, you may do this very often—for example, when computing the inner matrix product using np.dot__"
   ]
  },
  {
   "cell_type": "code",
   "execution_count": 178,
   "id": "ea905f5b",
   "metadata": {},
   "outputs": [
    {
     "data": {
      "text/plain": [
       "array([[3.08730922, 2.24984562, 1.5224347 ],\n",
       "       [2.24984562, 2.72660184, 1.700355  ],\n",
       "       [1.5224347 , 1.700355  , 1.43484353]])"
      ]
     },
     "execution_count": 178,
     "metadata": {},
     "output_type": "execute_result"
    }
   ],
   "source": [
    "np.dot(arr_2.T, arr_2)"
   ]
  },
  {
   "cell_type": "markdown",
   "id": "61bdc6c1",
   "metadata": {},
   "source": [
    "- __For higher dimensional arrays, transpose will accept a tuple of axis numbers to permute the axes (for extra mind bending)__"
   ]
  },
  {
   "cell_type": "code",
   "execution_count": 188,
   "id": "cf1771e6",
   "metadata": {},
   "outputs": [
    {
     "data": {
      "text/plain": [
       "array([[[ 0,  1,  2,  3],\n",
       "        [ 4,  5,  6,  7]],\n",
       "\n",
       "       [[ 8,  9, 10, 11],\n",
       "        [12, 13, 14, 15]]])"
      ]
     },
     "execution_count": 188,
     "metadata": {},
     "output_type": "execute_result"
    }
   ],
   "source": [
    "arr_3 = np.arange(16).reshape((2, 2, 4))\n",
    "arr_3"
   ]
  },
  {
   "cell_type": "code",
   "execution_count": 184,
   "id": "62791e43",
   "metadata": {},
   "outputs": [
    {
     "data": {
      "text/plain": [
       "array([[[ 0,  1,  2,  3],\n",
       "        [ 8,  9, 10, 11]],\n",
       "\n",
       "       [[ 4,  5,  6,  7],\n",
       "        [12, 13, 14, 15]]])"
      ]
     },
     "execution_count": 184,
     "metadata": {},
     "output_type": "execute_result"
    }
   ],
   "source": [
    "arr_3.transpose((1, 0, 2))"
   ]
  },
  {
   "cell_type": "code",
   "execution_count": 195,
   "id": "5a86b7b7",
   "metadata": {},
   "outputs": [
    {
     "data": {
      "text/plain": [
       "array([[[ 0,  1,  2,  3],\n",
       "        [ 4,  5,  6,  7]],\n",
       "\n",
       "       [[ 8,  9, 10, 11],\n",
       "        [12, 13, 14, 15]]])"
      ]
     },
     "execution_count": 195,
     "metadata": {},
     "output_type": "execute_result"
    }
   ],
   "source": [
    "arr = np.arange(16).reshape((2, 2, 4))\n",
    "arr"
   ]
  },
  {
   "cell_type": "markdown",
   "id": "8fd16e27",
   "metadata": {},
   "source": [
    "- __Simple transporting with T is a speacial case of swapping axes, ndarrays has the method awapaxes, which take the pair of axis number and switches the indicated axes to rerrange the data__\n"
   ]
  },
  {
   "cell_type": "code",
   "execution_count": 196,
   "id": "1792d5af",
   "metadata": {},
   "outputs": [
    {
     "data": {
      "text/plain": [
       "array([[[ 0,  4],\n",
       "        [ 1,  5],\n",
       "        [ 2,  6],\n",
       "        [ 3,  7]],\n",
       "\n",
       "       [[ 8, 12],\n",
       "        [ 9, 13],\n",
       "        [10, 14],\n",
       "        [11, 15]]])"
      ]
     },
     "execution_count": 196,
     "metadata": {},
     "output_type": "execute_result"
    }
   ],
   "source": [
    "arr.swapaxes(1, 2)"
   ]
  },
  {
   "cell_type": "code",
   "execution_count": null,
   "id": "6a2423d8",
   "metadata": {},
   "outputs": [],
   "source": []
  }
 ],
 "metadata": {
  "kernelspec": {
   "display_name": "Python 3",
   "language": "python",
   "name": "python3"
  },
  "language_info": {
   "codemirror_mode": {
    "name": "ipython",
    "version": 3
   },
   "file_extension": ".py",
   "mimetype": "text/x-python",
   "name": "python",
   "nbconvert_exporter": "python",
   "pygments_lexer": "ipython3",
   "version": "3.8.5"
  }
 },
 "nbformat": 4,
 "nbformat_minor": 5
}
