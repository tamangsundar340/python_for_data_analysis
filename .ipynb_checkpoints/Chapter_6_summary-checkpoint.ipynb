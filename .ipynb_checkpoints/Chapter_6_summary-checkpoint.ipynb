{
 "cells": [
  {
   "cell_type": "markdown",
   "id": "9f262549",
   "metadata": {},
   "source": [
    "# 'cat' to read files, cat do not provide us heading of files\n",
    "#### example\n"
   ]
  },
  {
   "cell_type": "code",
   "execution_count": null,
   "id": "92ff9444",
   "metadata": {},
   "outputs": [],
   "source": [
    "data = !cat files/business.csv"
   ]
  },
  {
   "cell_type": "markdown",
   "id": "738022c7",
   "metadata": {},
   "source": [
    "# 'read_csv' function to read files\n",
    "#### example"
   ]
  },
  {
   "cell_type": "code",
   "execution_count": null,
   "id": "d1674d68",
   "metadata": {},
   "outputs": [],
   "source": [
    "pd.read_csv('files/business.csv')"
   ]
  },
  {
   "cell_type": "markdown",
   "id": "e6d515b8",
   "metadata": {},
   "source": [
    "# 'read_csv' function to read nrows\n",
    "#### example\n"
   ]
  },
  {
   "cell_type": "code",
   "execution_count": null,
   "id": "d05ea0e2",
   "metadata": {},
   "outputs": [],
   "source": [
    "pd.read_csv('files/business.csv',nrows=3)"
   ]
  },
  {
   "cell_type": "markdown",
   "id": "5b6f6cb4",
   "metadata": {},
   "source": [
    "# 'read_csv' function with names, names is like a column name\n",
    "#### example"
   ]
  },
  {
   "cell_type": "code",
   "execution_count": null,
   "id": "1c8be24a",
   "metadata": {},
   "outputs": [],
   "source": [
    "pd.read_csv('files/business.csv', names=['a','b','c','d','e','f','g','h','i','j','k','l','m','n'])"
   ]
  },
  {
   "cell_type": "markdown",
   "id": "5d782bb1",
   "metadata": {},
   "source": [
    "# 'read_table' function is also use to read files. We can use delimeter with it\n",
    "#### example"
   ]
  },
  {
   "cell_type": "code",
   "execution_count": null,
   "id": "2ed80209",
   "metadata": {},
   "outputs": [],
   "source": [
    "pd.read_table('files/business.csv', sep=',')"
   ]
  },
  {
   "cell_type": "markdown",
   "id": "a463fa81",
   "metadata": {},
   "source": [
    "# We have chunk to read files in chunk size, we can use to read files from chuk\n",
    "- __example__"
   ]
  },
  {
   "cell_type": "code",
   "execution_count": null,
   "id": "207e81a6",
   "metadata": {},
   "outputs": [],
   "source": [
    "chunker = pd.read_csv('files/business.csv', chunksize=1000)\n",
    "to_series = pd.Series([])\n",
    "for i in chunker:\n",
    "    to_series = i\n",
    "to_series"
   ]
  },
  {
   "cell_type": "markdown",
   "id": "01125c42",
   "metadata": {},
   "source": [
    "# We can also write into the csv files\n",
    "### for this we have 'to_csv' funtion in pandas\n",
    "- __Here we are writting 'data' data's into 'out.csv' file__\n"
   ]
  },
  {
   "cell_type": "code",
   "execution_count": null,
   "id": "e7c3df0d",
   "metadata": {},
   "outputs": [],
   "source": [
    "data = pd.read_csv('files/business.csv')\n",
    "data.to_csv('files/out.csv')"
   ]
  },
  {
   "cell_type": "markdown",
   "id": "dd1e2365",
   "metadata": {},
   "source": [
    "- __we can also use delimeter while wrtting csv file__"
   ]
  },
  {
   "cell_type": "code",
   "execution_count": null,
   "id": "912dddec",
   "metadata": {},
   "outputs": [],
   "source": [
    "import sys\n",
    " data.to_csv(sys.stdout, sep='|')"
   ]
  },
  {
   "cell_type": "markdown",
   "id": "a043647d",
   "metadata": {},
   "source": [
    "- __fill 'missing value'__"
   ]
  },
  {
   "cell_type": "code",
   "execution_count": null,
   "id": "0b871579",
   "metadata": {},
   "outputs": [],
   "source": [
    "data.to_csv(sys.stdout, na_rep='Null')"
   ]
  },
  {
   "cell_type": "markdown",
   "id": "15d00cb6",
   "metadata": {},
   "source": [
    "- __Another method to read files__"
   ]
  },
  {
   "cell_type": "code",
   "execution_count": null,
   "id": "4c5c7d32",
   "metadata": {},
   "outputs": [],
   "source": [
    "with open('files/business.csv') as f:\n",
    "    lines = list(pd.read_csv(f))\n",
    "    print(lines)"
   ]
  },
  {
   "cell_type": "markdown",
   "id": "d48771f1",
   "metadata": {},
   "source": [
    "# we can convert json data into python form using json.loads\n",
    "- __example__"
   ]
  },
  {
   "cell_type": "code",
   "execution_count": null,
   "id": "49e4548c",
   "metadata": {},
   "outputs": [],
   "source": [
    "import json\n",
    "\n",
    "to_python_data = json.loads(obj)\n",
    "to_python_data"
   ]
  },
  {
   "cell_type": "markdown",
   "id": "2e04aa71",
   "metadata": {},
   "source": [
    "#### To convert python data into json we have 'to_json' function\n",
    "- __example__"
   ]
  },
  {
   "cell_type": "code",
   "execution_count": null,
   "id": "ffa52c48",
   "metadata": {},
   "outputs": [],
   "source": [
    "to_json_data = to_python_data.to_json()\n",
    "to_json_data"
   ]
  },
  {
   "cell_type": "markdown",
   "id": "721b79af",
   "metadata": {},
   "source": [
    "# Read HTML files\n",
    "#### example\n",
    "- __'read_html' function return in list so we need to do some things"
   ]
  },
  {
   "cell_type": "code",
   "execution_count": null,
   "id": "e545f262",
   "metadata": {},
   "outputs": [],
   "source": [
    "import pandas as pd\n",
    "\n",
    "table = pd.read_html('files/failed_bank_list.html')\n",
    "failures = table[0]\n",
    "failures"
   ]
  },
  {
   "cell_type": "markdown",
   "id": "3ffd528b",
   "metadata": {},
   "source": [
    "# Binary data format\n",
    "- __Pandas have 'to_pickle' method which is use to store data efficintly in binary format__\n",
    "#### example"
   ]
  },
  {
   "cell_type": "code",
   "execution_count": null,
   "id": "2230f2a6",
   "metadata": {},
   "outputs": [],
   "source": [
    "result = pd.read_csv('files/business.csv')\n",
    "result.to_pickle('files/result_pickle')\n",
    "\n",
    "#Let's read it\n",
    "pd.read_pickle('files/result_pickle')"
   ]
  },
  {
   "cell_type": "markdown",
   "id": "9c70fe5c",
   "metadata": {},
   "source": [
    "### HDF5 is a well-regarded file format intended for storing large quantities of scientific array data\n",
    "#### example"
   ]
  },
  {
   "cell_type": "code",
   "execution_count": null,
   "id": "021aa864",
   "metadata": {},
   "outputs": [],
   "source": [
    "frame = pd.DataFrame({'a':np.random.randn(100)})\n",
    "\n",
    "store = pd.HDFStore('mydata.h5')\n",
    "\n",
    "store['obj1'] = frame\n",
    "\n",
    "store['obj1_col']"
   ]
  },
  {
   "cell_type": "code",
   "execution_count": null,
   "id": "5f7e26d1",
   "metadata": {},
   "outputs": [],
   "source": []
  },
  {
   "cell_type": "code",
   "execution_count": null,
   "id": "6e25ac6c",
   "metadata": {},
   "outputs": [],
   "source": [
    "store.put('obj2', frame, format='table')\n",
    "store.select('obj2', where = ['index>=10 and index<=15'])"
   ]
  },
  {
   "cell_type": "markdown",
   "id": "3145251d",
   "metadata": {},
   "source": [
    "# Interact with API\n",
    "### example "
   ]
  },
  {
   "cell_type": "code",
   "execution_count": null,
   "id": "94c0afe3",
   "metadata": {},
   "outputs": [],
   "source": [
    "import requests\n",
    "url = 'https://api.github.com/repos/pandas-dev/pandas/issues'\n",
    "\n",
    "resp = requests.get(url)\n",
    "\n",
    "data = resp.json()\n",
    "data"
   ]
  },
  {
   "cell_type": "markdown",
   "id": "65c8db46",
   "metadata": {},
   "source": [
    "# Intereact with Database\n",
    "#### let's create database with table"
   ]
  },
  {
   "cell_type": "code",
   "execution_count": null,
   "id": "23b048b9",
   "metadata": {},
   "outputs": [],
   "source": [
    "import sqlite3\n",
    "query = \"\"\" \n",
    "create table test(\n",
    "a varvhar(20),\n",
    "b varchar(20),\n",
    "c Real,\n",
    "d Integer\n",
    ");\n",
    "\"\"\"\n",
    "\n",
    "con = sqlite3.connect('mydata.sqlite')\n",
    "con.execute(query)\n",
    "con.commit()"
   ]
  },
  {
   "cell_type": "markdown",
   "id": "87f547f4",
   "metadata": {},
   "source": [
    "### insert into database"
   ]
  },
  {
   "cell_type": "code",
   "execution_count": null,
   "id": "7681cf04",
   "metadata": {},
   "outputs": [],
   "source": [
    "data = [\n",
    "    ('aa','bb', 1.25, 6),\n",
    "    ('cc','dd', 1.50, 7),\n",
    "    ('ee','ff', 1.75, 8)\n",
    "]\n",
    "\n",
    "stmt = \"INSERT INTO test VALUES(?,?,?,?)\"\n",
    "con.executemany(stmt, data)\n",
    "con.commit()"
   ]
  },
  {
   "cell_type": "code",
   "execution_count": null,
   "id": "e2699a9a",
   "metadata": {},
   "outputs": [],
   "source": [
    "### fetch data from database"
   ]
  },
  {
   "cell_type": "code",
   "execution_count": null,
   "id": "da79008f",
   "metadata": {},
   "outputs": [],
   "source": [
    "cursor = con.execute('select *from test')\n",
    "rows = cursor.fetchall()\n",
    "rows"
   ]
  }
 ],
 "metadata": {
  "kernelspec": {
   "display_name": "Python 3",
   "language": "python",
   "name": "python3"
  },
  "language_info": {
   "codemirror_mode": {
    "name": "ipython",
    "version": 3
   },
   "file_extension": ".py",
   "mimetype": "text/x-python",
   "name": "python",
   "nbconvert_exporter": "python",
   "pygments_lexer": "ipython3",
   "version": "3.8.10"
  }
 },
 "nbformat": 4,
 "nbformat_minor": 5
}
