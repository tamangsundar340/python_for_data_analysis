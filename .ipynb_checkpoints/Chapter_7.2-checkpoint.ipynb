{
 "cells": [
  {
   "cell_type": "markdown",
   "id": "041c355c",
   "metadata": {},
   "source": [
    "## Data Transformation"
   ]
  },
  {
   "cell_type": "markdown",
   "id": "116fc9d6",
   "metadata": {},
   "source": [
    "### Removing Duplicates\n"
   ]
  },
  {
   "cell_type": "code",
   "execution_count": 2,
   "id": "bf53c7ee",
   "metadata": {},
   "outputs": [
    {
     "data": {
      "text/html": [
       "<div>\n",
       "<style scoped>\n",
       "    .dataframe tbody tr th:only-of-type {\n",
       "        vertical-align: middle;\n",
       "    }\n",
       "\n",
       "    .dataframe tbody tr th {\n",
       "        vertical-align: top;\n",
       "    }\n",
       "\n",
       "    .dataframe thead th {\n",
       "        text-align: right;\n",
       "    }\n",
       "</style>\n",
       "<table border=\"1\" class=\"dataframe\">\n",
       "  <thead>\n",
       "    <tr style=\"text-align: right;\">\n",
       "      <th></th>\n",
       "      <th>k1</th>\n",
       "      <th>k2</th>\n",
       "    </tr>\n",
       "  </thead>\n",
       "  <tbody>\n",
       "    <tr>\n",
       "      <th>0</th>\n",
       "      <td>one</td>\n",
       "      <td>1</td>\n",
       "    </tr>\n",
       "    <tr>\n",
       "      <th>1</th>\n",
       "      <td>two</td>\n",
       "      <td>1</td>\n",
       "    </tr>\n",
       "    <tr>\n",
       "      <th>2</th>\n",
       "      <td>one</td>\n",
       "      <td>2</td>\n",
       "    </tr>\n",
       "    <tr>\n",
       "      <th>3</th>\n",
       "      <td>two</td>\n",
       "      <td>3</td>\n",
       "    </tr>\n",
       "    <tr>\n",
       "      <th>4</th>\n",
       "      <td>one</td>\n",
       "      <td>3</td>\n",
       "    </tr>\n",
       "    <tr>\n",
       "      <th>5</th>\n",
       "      <td>two</td>\n",
       "      <td>4</td>\n",
       "    </tr>\n",
       "    <tr>\n",
       "      <th>6</th>\n",
       "      <td>two</td>\n",
       "      <td>4</td>\n",
       "    </tr>\n",
       "  </tbody>\n",
       "</table>\n",
       "</div>"
      ],
      "text/plain": [
       "    k1  k2\n",
       "0  one   1\n",
       "1  two   1\n",
       "2  one   2\n",
       "3  two   3\n",
       "4  one   3\n",
       "5  two   4\n",
       "6  two   4"
      ]
     },
     "execution_count": 2,
     "metadata": {},
     "output_type": "execute_result"
    }
   ],
   "source": [
    "import pandas as pd\n",
    "\n",
    "data = pd.DataFrame({'k1': ['one', 'two'] * 3 + ['two'],\n",
    "                     'k2': [1, 1, 2, 3, 3, 4, 4]})\n",
    "data"
   ]
  },
  {
   "cell_type": "markdown",
   "id": "e8bb667d",
   "metadata": {},
   "source": [
    "- __The DataFrame method 'duplicated' returns a boolean Series indicating whether each row is a duplicate (has been observed in a previous row) or not:__"
   ]
  },
  {
   "cell_type": "code",
   "execution_count": 4,
   "id": "5fec6b9a",
   "metadata": {},
   "outputs": [
    {
     "data": {
      "text/plain": [
       "0    False\n",
       "1    False\n",
       "2    False\n",
       "3    False\n",
       "4    False\n",
       "5    False\n",
       "6     True\n",
       "dtype: bool"
      ]
     },
     "execution_count": 4,
     "metadata": {},
     "output_type": "execute_result"
    }
   ],
   "source": [
    "# is duplicate\n",
    "\n",
    "data.duplicated()"
   ]
  },
  {
   "cell_type": "markdown",
   "id": "6fea58d9",
   "metadata": {},
   "source": [
    "- __Let's remove duplicate parts__"
   ]
  },
  {
   "cell_type": "code",
   "execution_count": 6,
   "id": "8d08097e",
   "metadata": {},
   "outputs": [
    {
     "data": {
      "text/html": [
       "<div>\n",
       "<style scoped>\n",
       "    .dataframe tbody tr th:only-of-type {\n",
       "        vertical-align: middle;\n",
       "    }\n",
       "\n",
       "    .dataframe tbody tr th {\n",
       "        vertical-align: top;\n",
       "    }\n",
       "\n",
       "    .dataframe thead th {\n",
       "        text-align: right;\n",
       "    }\n",
       "</style>\n",
       "<table border=\"1\" class=\"dataframe\">\n",
       "  <thead>\n",
       "    <tr style=\"text-align: right;\">\n",
       "      <th></th>\n",
       "      <th>k1</th>\n",
       "      <th>k2</th>\n",
       "    </tr>\n",
       "  </thead>\n",
       "  <tbody>\n",
       "    <tr>\n",
       "      <th>0</th>\n",
       "      <td>one</td>\n",
       "      <td>1</td>\n",
       "    </tr>\n",
       "    <tr>\n",
       "      <th>1</th>\n",
       "      <td>two</td>\n",
       "      <td>1</td>\n",
       "    </tr>\n",
       "    <tr>\n",
       "      <th>2</th>\n",
       "      <td>one</td>\n",
       "      <td>2</td>\n",
       "    </tr>\n",
       "    <tr>\n",
       "      <th>3</th>\n",
       "      <td>two</td>\n",
       "      <td>3</td>\n",
       "    </tr>\n",
       "    <tr>\n",
       "      <th>4</th>\n",
       "      <td>one</td>\n",
       "      <td>3</td>\n",
       "    </tr>\n",
       "    <tr>\n",
       "      <th>5</th>\n",
       "      <td>two</td>\n",
       "      <td>4</td>\n",
       "    </tr>\n",
       "  </tbody>\n",
       "</table>\n",
       "</div>"
      ],
      "text/plain": [
       "    k1  k2\n",
       "0  one   1\n",
       "1  two   1\n",
       "2  one   2\n",
       "3  two   3\n",
       "4  one   3\n",
       "5  two   4"
      ]
     },
     "execution_count": 6,
     "metadata": {},
     "output_type": "execute_result"
    }
   ],
   "source": [
    "data.drop_duplicates()"
   ]
  },
  {
   "cell_type": "markdown",
   "id": "cd4788f7",
   "metadata": {},
   "source": [
    "### Transforming Data Using a Function or Mapping"
   ]
  },
  {
   "cell_type": "code",
   "execution_count": 7,
   "id": "bc3d8934",
   "metadata": {},
   "outputs": [
    {
     "data": {
      "text/html": [
       "<div>\n",
       "<style scoped>\n",
       "    .dataframe tbody tr th:only-of-type {\n",
       "        vertical-align: middle;\n",
       "    }\n",
       "\n",
       "    .dataframe tbody tr th {\n",
       "        vertical-align: top;\n",
       "    }\n",
       "\n",
       "    .dataframe thead th {\n",
       "        text-align: right;\n",
       "    }\n",
       "</style>\n",
       "<table border=\"1\" class=\"dataframe\">\n",
       "  <thead>\n",
       "    <tr style=\"text-align: right;\">\n",
       "      <th></th>\n",
       "      <th>food</th>\n",
       "      <th>ounces</th>\n",
       "    </tr>\n",
       "  </thead>\n",
       "  <tbody>\n",
       "    <tr>\n",
       "      <th>0</th>\n",
       "      <td>bacon</td>\n",
       "      <td>4.0</td>\n",
       "    </tr>\n",
       "    <tr>\n",
       "      <th>1</th>\n",
       "      <td>pulled pork</td>\n",
       "      <td>3.0</td>\n",
       "    </tr>\n",
       "    <tr>\n",
       "      <th>2</th>\n",
       "      <td>bacon</td>\n",
       "      <td>12.0</td>\n",
       "    </tr>\n",
       "    <tr>\n",
       "      <th>3</th>\n",
       "      <td>Pastrami</td>\n",
       "      <td>6.0</td>\n",
       "    </tr>\n",
       "    <tr>\n",
       "      <th>4</th>\n",
       "      <td>corned beef</td>\n",
       "      <td>7.5</td>\n",
       "    </tr>\n",
       "    <tr>\n",
       "      <th>5</th>\n",
       "      <td>Bacon</td>\n",
       "      <td>8.0</td>\n",
       "    </tr>\n",
       "    <tr>\n",
       "      <th>6</th>\n",
       "      <td>pastrami</td>\n",
       "      <td>3.0</td>\n",
       "    </tr>\n",
       "    <tr>\n",
       "      <th>7</th>\n",
       "      <td>honey ham</td>\n",
       "      <td>5.0</td>\n",
       "    </tr>\n",
       "    <tr>\n",
       "      <th>8</th>\n",
       "      <td>nova lox</td>\n",
       "      <td>6.0</td>\n",
       "    </tr>\n",
       "  </tbody>\n",
       "</table>\n",
       "</div>"
      ],
      "text/plain": [
       "          food  ounces\n",
       "0        bacon     4.0\n",
       "1  pulled pork     3.0\n",
       "2        bacon    12.0\n",
       "3     Pastrami     6.0\n",
       "4  corned beef     7.5\n",
       "5        Bacon     8.0\n",
       "6     pastrami     3.0\n",
       "7    honey ham     5.0\n",
       "8     nova lox     6.0"
      ]
     },
     "execution_count": 7,
     "metadata": {},
     "output_type": "execute_result"
    }
   ],
   "source": [
    "data = pd.DataFrame({'food': ['bacon', 'pulled pork', 'bacon','Pastrami', 'corned beef', 'Bacon','pastrami', 'honey ham', 'nova lox'],\n",
    "                    'ounces': [4, 3, 12, 6, 7.5, 8, 3, 5, 6]})\n",
    "data"
   ]
  },
  {
   "cell_type": "markdown",
   "id": "60437fb1",
   "metadata": {},
   "source": [
    "- __Let's say you wanted to add column that indicate the type of animal that each food come from. Let's write down mapping of each distinct meat type to kind of animal:__"
   ]
  },
  {
   "cell_type": "code",
   "execution_count": 8,
   "id": "e4e55299",
   "metadata": {},
   "outputs": [],
   "source": [
    "meat_to_animal = {\n",
    "'bacon': 'pig',\n",
    "'pulled pork': 'pig',\n",
    "'pastrami': 'cow',\n",
    "'corned beef': 'cow',\n",
    "'honey ham': 'pig',\n",
    "'nova lox': 'salmon'\n",
    "}"
   ]
  },
  {
   "cell_type": "markdown",
   "id": "a82ccc78",
   "metadata": {},
   "source": [
    "- __The 'map' method on a Series accepts a function or dict-like object containing a mapping, but here we have a small problem in that some of the meats are capitalized and others are not. Thus, we need to convert each value to lowercase using the 'str.lower' Series method:__"
   ]
  },
  {
   "cell_type": "code",
   "execution_count": 9,
   "id": "8972b675",
   "metadata": {},
   "outputs": [
    {
     "data": {
      "text/plain": [
       "0          bacon\n",
       "1    pulled pork\n",
       "2          bacon\n",
       "3       Pastrami\n",
       "4    corned beef\n",
       "5          Bacon\n",
       "6       pastrami\n",
       "7      honey ham\n",
       "8       nova lox\n",
       "Name: food, dtype: object"
      ]
     },
     "execution_count": 9,
     "metadata": {},
     "output_type": "execute_result"
    }
   ],
   "source": [
    "lowercased_food = data['food']\n",
    "lowercased_food"
   ]
  },
  {
   "cell_type": "code",
   "execution_count": 10,
   "id": "88be2031",
   "metadata": {},
   "outputs": [],
   "source": [
    "data['animal'] = lowercased_food.map(meat_to_animal)"
   ]
  },
  {
   "cell_type": "code",
   "execution_count": 13,
   "id": "970bd10f",
   "metadata": {},
   "outputs": [
    {
     "data": {
      "text/html": [
       "<div>\n",
       "<style scoped>\n",
       "    .dataframe tbody tr th:only-of-type {\n",
       "        vertical-align: middle;\n",
       "    }\n",
       "\n",
       "    .dataframe tbody tr th {\n",
       "        vertical-align: top;\n",
       "    }\n",
       "\n",
       "    .dataframe thead th {\n",
       "        text-align: right;\n",
       "    }\n",
       "</style>\n",
       "<table border=\"1\" class=\"dataframe\">\n",
       "  <thead>\n",
       "    <tr style=\"text-align: right;\">\n",
       "      <th></th>\n",
       "      <th>food</th>\n",
       "      <th>ounces</th>\n",
       "      <th>animal</th>\n",
       "    </tr>\n",
       "  </thead>\n",
       "  <tbody>\n",
       "    <tr>\n",
       "      <th>0</th>\n",
       "      <td>bacon</td>\n",
       "      <td>4.0</td>\n",
       "      <td>pig</td>\n",
       "    </tr>\n",
       "    <tr>\n",
       "      <th>1</th>\n",
       "      <td>pulled pork</td>\n",
       "      <td>3.0</td>\n",
       "      <td>pig</td>\n",
       "    </tr>\n",
       "    <tr>\n",
       "      <th>2</th>\n",
       "      <td>bacon</td>\n",
       "      <td>12.0</td>\n",
       "      <td>pig</td>\n",
       "    </tr>\n",
       "    <tr>\n",
       "      <th>3</th>\n",
       "      <td>Pastrami</td>\n",
       "      <td>6.0</td>\n",
       "      <td>NaN</td>\n",
       "    </tr>\n",
       "    <tr>\n",
       "      <th>4</th>\n",
       "      <td>corned beef</td>\n",
       "      <td>7.5</td>\n",
       "      <td>cow</td>\n",
       "    </tr>\n",
       "    <tr>\n",
       "      <th>5</th>\n",
       "      <td>Bacon</td>\n",
       "      <td>8.0</td>\n",
       "      <td>NaN</td>\n",
       "    </tr>\n",
       "    <tr>\n",
       "      <th>6</th>\n",
       "      <td>pastrami</td>\n",
       "      <td>3.0</td>\n",
       "      <td>cow</td>\n",
       "    </tr>\n",
       "    <tr>\n",
       "      <th>7</th>\n",
       "      <td>honey ham</td>\n",
       "      <td>5.0</td>\n",
       "      <td>pig</td>\n",
       "    </tr>\n",
       "    <tr>\n",
       "      <th>8</th>\n",
       "      <td>nova lox</td>\n",
       "      <td>6.0</td>\n",
       "      <td>salmon</td>\n",
       "    </tr>\n",
       "  </tbody>\n",
       "</table>\n",
       "</div>"
      ],
      "text/plain": [
       "          food  ounces  animal\n",
       "0        bacon     4.0     pig\n",
       "1  pulled pork     3.0     pig\n",
       "2        bacon    12.0     pig\n",
       "3     Pastrami     6.0     NaN\n",
       "4  corned beef     7.5     cow\n",
       "5        Bacon     8.0     NaN\n",
       "6     pastrami     3.0     cow\n",
       "7    honey ham     5.0     pig\n",
       "8     nova lox     6.0  salmon"
      ]
     },
     "execution_count": 13,
     "metadata": {},
     "output_type": "execute_result"
    }
   ],
   "source": [
    "#Now let's check data\n",
    "\n",
    "data"
   ]
  },
  {
   "cell_type": "markdown",
   "id": "13f60222",
   "metadata": {},
   "source": [
    "### Replacing values"
   ]
  },
  {
   "cell_type": "markdown",
   "id": "2fd708bc",
   "metadata": {},
   "source": [
    "- __Filling in missing data with the fillna method is a special case of more general value\n",
    "replacement. As you’ve already seen, map can be used to modify a subset of values in\n",
    "an object but replace provides a simpler and more flexible way to do so__"
   ]
  },
  {
   "cell_type": "code",
   "execution_count": 14,
   "id": "3d5421fa",
   "metadata": {},
   "outputs": [
    {
     "data": {
      "text/plain": [
       "0       1.0\n",
       "1    -999.0\n",
       "2       2.0\n",
       "3    -999.0\n",
       "4   -1000.0\n",
       "5       3.0\n",
       "dtype: float64"
      ]
     },
     "execution_count": 14,
     "metadata": {},
     "output_type": "execute_result"
    }
   ],
   "source": [
    "data = pd.Series([1., -999., 2., -999., -1000., 3.])\n",
    "data"
   ]
  },
  {
   "cell_type": "markdown",
   "id": "0be1e983",
   "metadata": {},
   "source": [
    "- __Let's use replace method__"
   ]
  },
  {
   "cell_type": "code",
   "execution_count": 22,
   "id": "c9f6a019",
   "metadata": {},
   "outputs": [
    {
     "data": {
      "text/plain": [
       "0       1.0\n",
       "1     999.0\n",
       "2       2.0\n",
       "3     999.0\n",
       "4   -1000.0\n",
       "5       3.0\n",
       "dtype: float64"
      ]
     },
     "execution_count": 22,
     "metadata": {},
     "output_type": "execute_result"
    }
   ],
   "source": [
    "data.replace(-999., 999)"
   ]
  },
  {
   "cell_type": "code",
   "execution_count": 23,
   "id": "5ca17f96",
   "metadata": {},
   "outputs": [
    {
     "data": {
      "text/plain": [
       "0      11.0\n",
       "1    -999.0\n",
       "2      22.0\n",
       "3    -999.0\n",
       "4   -1000.0\n",
       "5       3.0\n",
       "dtype: float64"
      ]
     },
     "execution_count": 23,
     "metadata": {},
     "output_type": "execute_result"
    }
   ],
   "source": [
    "data.replace([1,2],[11,22])"
   ]
  },
  {
   "cell_type": "markdown",
   "id": "286098ab",
   "metadata": {},
   "source": [
    "### Renaming Axis Indexes"
   ]
  },
  {
   "cell_type": "markdown",
   "id": "4d5e40c0",
   "metadata": {},
   "source": [
    "- __We can also transformed the axis lable by using the mapping function without producing new labled objects. We can also modify the axis without creating or producing new data structure__"
   ]
  },
  {
   "cell_type": "code",
   "execution_count": 24,
   "id": "d3a9da32",
   "metadata": {},
   "outputs": [
    {
     "data": {
      "text/html": [
       "<div>\n",
       "<style scoped>\n",
       "    .dataframe tbody tr th:only-of-type {\n",
       "        vertical-align: middle;\n",
       "    }\n",
       "\n",
       "    .dataframe tbody tr th {\n",
       "        vertical-align: top;\n",
       "    }\n",
       "\n",
       "    .dataframe thead th {\n",
       "        text-align: right;\n",
       "    }\n",
       "</style>\n",
       "<table border=\"1\" class=\"dataframe\">\n",
       "  <thead>\n",
       "    <tr style=\"text-align: right;\">\n",
       "      <th></th>\n",
       "      <th>one</th>\n",
       "      <th>two</th>\n",
       "      <th>three</th>\n",
       "      <th>four</th>\n",
       "    </tr>\n",
       "  </thead>\n",
       "  <tbody>\n",
       "    <tr>\n",
       "      <th>Ohio</th>\n",
       "      <td>0</td>\n",
       "      <td>1</td>\n",
       "      <td>2</td>\n",
       "      <td>3</td>\n",
       "    </tr>\n",
       "    <tr>\n",
       "      <th>Colorado</th>\n",
       "      <td>4</td>\n",
       "      <td>5</td>\n",
       "      <td>6</td>\n",
       "      <td>7</td>\n",
       "    </tr>\n",
       "    <tr>\n",
       "      <th>New York</th>\n",
       "      <td>8</td>\n",
       "      <td>9</td>\n",
       "      <td>10</td>\n",
       "      <td>11</td>\n",
       "    </tr>\n",
       "  </tbody>\n",
       "</table>\n",
       "</div>"
      ],
      "text/plain": [
       "          one  two  three  four\n",
       "Ohio        0    1      2     3\n",
       "Colorado    4    5      6     7\n",
       "New York    8    9     10    11"
      ]
     },
     "execution_count": 24,
     "metadata": {},
     "output_type": "execute_result"
    }
   ],
   "source": [
    "data = pd.DataFrame(np.arange(12).reshape((3, 4)),\n",
    "                    index=['Ohio', 'Colorado', 'New York'],\n",
    "                    columns=['one', 'two', 'three', 'four']\n",
    "                   )\n",
    "data"
   ]
  },
  {
   "cell_type": "markdown",
   "id": "81670df5",
   "metadata": {},
   "source": [
    "- __Like a Series, the axis indexes have a map method:__\n"
   ]
  },
  {
   "cell_type": "code",
   "execution_count": 26,
   "id": "d651bfe3",
   "metadata": {},
   "outputs": [
    {
     "data": {
      "text/plain": [
       "Index(['OHIO', 'COLORADO', 'NEW YORK'], dtype='object')"
      ]
     },
     "execution_count": 26,
     "metadata": {},
     "output_type": "execute_result"
    }
   ],
   "source": [
    "transform = lambda x: x.upper()\n",
    "data.index.map(transform)"
   ]
  },
  {
   "cell_type": "code",
   "execution_count": 28,
   "id": "05a04735",
   "metadata": {},
   "outputs": [
    {
     "data": {
      "text/plain": [
       "Index(['ONE', 'TWO', 'THREE', 'FOUR'], dtype='object')"
      ]
     },
     "execution_count": 28,
     "metadata": {},
     "output_type": "execute_result"
    }
   ],
   "source": [
    "data.columns.map(transform)"
   ]
  },
  {
   "cell_type": "markdown",
   "id": "63118431",
   "metadata": {},
   "source": [
    "- __You can assign to index , modifying the DataFrame in-place:__"
   ]
  },
  {
   "cell_type": "code",
   "execution_count": 29,
   "id": "5391f607",
   "metadata": {},
   "outputs": [
    {
     "data": {
      "text/html": [
       "<div>\n",
       "<style scoped>\n",
       "    .dataframe tbody tr th:only-of-type {\n",
       "        vertical-align: middle;\n",
       "    }\n",
       "\n",
       "    .dataframe tbody tr th {\n",
       "        vertical-align: top;\n",
       "    }\n",
       "\n",
       "    .dataframe thead th {\n",
       "        text-align: right;\n",
       "    }\n",
       "</style>\n",
       "<table border=\"1\" class=\"dataframe\">\n",
       "  <thead>\n",
       "    <tr style=\"text-align: right;\">\n",
       "      <th></th>\n",
       "      <th>one</th>\n",
       "      <th>two</th>\n",
       "      <th>three</th>\n",
       "      <th>four</th>\n",
       "    </tr>\n",
       "  </thead>\n",
       "  <tbody>\n",
       "    <tr>\n",
       "      <th>OHIO</th>\n",
       "      <td>0</td>\n",
       "      <td>1</td>\n",
       "      <td>2</td>\n",
       "      <td>3</td>\n",
       "    </tr>\n",
       "    <tr>\n",
       "      <th>COLORADO</th>\n",
       "      <td>4</td>\n",
       "      <td>5</td>\n",
       "      <td>6</td>\n",
       "      <td>7</td>\n",
       "    </tr>\n",
       "    <tr>\n",
       "      <th>NEW YORK</th>\n",
       "      <td>8</td>\n",
       "      <td>9</td>\n",
       "      <td>10</td>\n",
       "      <td>11</td>\n",
       "    </tr>\n",
       "  </tbody>\n",
       "</table>\n",
       "</div>"
      ],
      "text/plain": [
       "          one  two  three  four\n",
       "OHIO        0    1      2     3\n",
       "COLORADO    4    5      6     7\n",
       "NEW YORK    8    9     10    11"
      ]
     },
     "execution_count": 29,
     "metadata": {},
     "output_type": "execute_result"
    }
   ],
   "source": [
    "data.index = data.index.map(transform)\n",
    "data"
   ]
  },
  {
   "cell_type": "markdown",
   "id": "2729a324",
   "metadata": {},
   "source": [
    "- __If you want to create a transformed version of a dataset without modifying the original, a useful method is rename :__"
   ]
  },
  {
   "cell_type": "code",
   "execution_count": 33,
   "id": "11497917",
   "metadata": {},
   "outputs": [
    {
     "data": {
      "text/html": [
       "<div>\n",
       "<style scoped>\n",
       "    .dataframe tbody tr th:only-of-type {\n",
       "        vertical-align: middle;\n",
       "    }\n",
       "\n",
       "    .dataframe tbody tr th {\n",
       "        vertical-align: top;\n",
       "    }\n",
       "\n",
       "    .dataframe thead th {\n",
       "        text-align: right;\n",
       "    }\n",
       "</style>\n",
       "<table border=\"1\" class=\"dataframe\">\n",
       "  <thead>\n",
       "    <tr style=\"text-align: right;\">\n",
       "      <th></th>\n",
       "      <th>ONE</th>\n",
       "      <th>TWO</th>\n",
       "      <th>THREE</th>\n",
       "      <th>FOUR</th>\n",
       "    </tr>\n",
       "  </thead>\n",
       "  <tbody>\n",
       "    <tr>\n",
       "      <th>OHIO</th>\n",
       "      <td>0</td>\n",
       "      <td>1</td>\n",
       "      <td>2</td>\n",
       "      <td>3</td>\n",
       "    </tr>\n",
       "    <tr>\n",
       "      <th>COLORADO</th>\n",
       "      <td>4</td>\n",
       "      <td>5</td>\n",
       "      <td>6</td>\n",
       "      <td>7</td>\n",
       "    </tr>\n",
       "    <tr>\n",
       "      <th>NEW YORK</th>\n",
       "      <td>8</td>\n",
       "      <td>9</td>\n",
       "      <td>10</td>\n",
       "      <td>11</td>\n",
       "    </tr>\n",
       "  </tbody>\n",
       "</table>\n",
       "</div>"
      ],
      "text/plain": [
       "          ONE  TWO  THREE  FOUR\n",
       "OHIO        0    1      2     3\n",
       "COLORADO    4    5      6     7\n",
       "NEW YORK    8    9     10    11"
      ]
     },
     "execution_count": 33,
     "metadata": {},
     "output_type": "execute_result"
    }
   ],
   "source": [
    "data.rename(index=str.upper, columns=str.upper)"
   ]
  },
  {
   "cell_type": "markdown",
   "id": "864612e8",
   "metadata": {},
   "source": [
    "- __We can also rename column name__\n"
   ]
  },
  {
   "cell_type": "code",
   "execution_count": 34,
   "id": "d29fb919",
   "metadata": {},
   "outputs": [
    {
     "data": {
      "text/html": [
       "<div>\n",
       "<style scoped>\n",
       "    .dataframe tbody tr th:only-of-type {\n",
       "        vertical-align: middle;\n",
       "    }\n",
       "\n",
       "    .dataframe tbody tr th {\n",
       "        vertical-align: top;\n",
       "    }\n",
       "\n",
       "    .dataframe thead th {\n",
       "        text-align: right;\n",
       "    }\n",
       "</style>\n",
       "<table border=\"1\" class=\"dataframe\">\n",
       "  <thead>\n",
       "    <tr style=\"text-align: right;\">\n",
       "      <th></th>\n",
       "      <th>one</th>\n",
       "      <th>two</th>\n",
       "      <th>peekaboo</th>\n",
       "      <th>four</th>\n",
       "    </tr>\n",
       "  </thead>\n",
       "  <tbody>\n",
       "    <tr>\n",
       "      <th>INDIANA</th>\n",
       "      <td>0</td>\n",
       "      <td>1</td>\n",
       "      <td>2</td>\n",
       "      <td>3</td>\n",
       "    </tr>\n",
       "    <tr>\n",
       "      <th>COLORADO</th>\n",
       "      <td>4</td>\n",
       "      <td>5</td>\n",
       "      <td>6</td>\n",
       "      <td>7</td>\n",
       "    </tr>\n",
       "    <tr>\n",
       "      <th>NEW YORK</th>\n",
       "      <td>8</td>\n",
       "      <td>9</td>\n",
       "      <td>10</td>\n",
       "      <td>11</td>\n",
       "    </tr>\n",
       "  </tbody>\n",
       "</table>\n",
       "</div>"
      ],
      "text/plain": [
       "          one  two  peekaboo  four\n",
       "INDIANA     0    1         2     3\n",
       "COLORADO    4    5         6     7\n",
       "NEW YORK    8    9        10    11"
      ]
     },
     "execution_count": 34,
     "metadata": {},
     "output_type": "execute_result"
    }
   ],
   "source": [
    "data.rename(index={'OHIO': 'INDIANA'}, columns={'three': 'peekaboo'})"
   ]
  },
  {
   "cell_type": "markdown",
   "id": "4b6c05e0",
   "metadata": {},
   "source": [
    "### Discretization and Binning"
   ]
  },
  {
   "cell_type": "markdown",
   "id": "f7718cdd",
   "metadata": {},
   "source": [
    "- __Let's say you data about the group of people in the study and your want to put them into groups into dscrete age buckets__"
   ]
  },
  {
   "cell_type": "code",
   "execution_count": 3,
   "id": "238e37cb",
   "metadata": {},
   "outputs": [],
   "source": [
    "ages = [20, 22, 25, 27, 21, 23, 37, 31, 61, 45, 41, 32]"
   ]
  },
  {
   "cell_type": "markdown",
   "id": "81150d3a",
   "metadata": {},
   "source": [
    "- __Let's deivde these into group 18-25, 26-35, 36-60__\n",
    "- __for this we will use 'cut' method of pandas__"
   ]
  },
  {
   "cell_type": "code",
   "execution_count": 1,
   "id": "70d51339",
   "metadata": {},
   "outputs": [
    {
     "data": {
      "text/plain": [
       "[18, 25, 35, 60, 100]"
      ]
     },
     "execution_count": 1,
     "metadata": {},
     "output_type": "execute_result"
    }
   ],
   "source": [
    "bins = [18, 25, 35, 60, 100]"
   ]
  },
  {
   "cell_type": "code",
   "execution_count": 4,
   "id": "b7c43055",
   "metadata": {},
   "outputs": [
    {
     "data": {
      "text/plain": [
       "[(18, 25], (18, 25], (18, 25], (25, 35], (18, 25], ..., (25, 35], (60, 100], (35, 60], (35, 60], (25, 35]]\n",
       "Length: 12\n",
       "Categories (4, interval[int64]): [(18, 25] < (25, 35] < (35, 60] < (60, 100]]"
      ]
     },
     "execution_count": 4,
     "metadata": {},
     "output_type": "execute_result"
    }
   ],
   "source": [
    "import pandas as pd\n",
    "\n",
    "cats = pd.cut(ages, bins)\n",
    "cats"
   ]
  },
  {
   "cell_type": "code",
   "execution_count": 20,
   "id": "952b0591",
   "metadata": {},
   "outputs": [
    {
     "data": {
      "text/plain": [
       "IntervalIndex([(-3.878, -2.09], (-2.09, -0.309], (-0.309, 1.473], (1.473, 3.254]],\n",
       "              closed='right',\n",
       "              dtype='interval[float64]')"
      ]
     },
     "execution_count": 20,
     "metadata": {},
     "output_type": "execute_result"
    }
   ],
   "source": [
    "# let's find categories\n",
    "\n",
    "cats.categories"
   ]
  },
  {
   "cell_type": "code",
   "execution_count": 7,
   "id": "8b7b9e52",
   "metadata": {},
   "outputs": [
    {
     "data": {
      "text/plain": [
       "(18, 25]     5\n",
       "(25, 35]     3\n",
       "(35, 60]     3\n",
       "(60, 100]    1\n",
       "dtype: int64"
      ]
     },
     "execution_count": 7,
     "metadata": {},
     "output_type": "execute_result"
    }
   ],
   "source": [
    "#couunt values in that range\n",
    "\n",
    "pd.value_counts(cats)"
   ]
  },
  {
   "cell_type": "markdown",
   "id": "5dde18f6",
   "metadata": {},
   "source": [
    "- __another example__"
   ]
  },
  {
   "cell_type": "code",
   "execution_count": 9,
   "id": "9d4cbbdf",
   "metadata": {},
   "outputs": [
    {
     "data": {
      "text/plain": [
       "array([0.50524027, 0.82536114, 0.87897729, 0.95991592, 0.00462971,\n",
       "       0.03265415, 0.37242904, 0.82340564, 0.79455816, 0.34849283,\n",
       "       0.68462261, 0.68924725, 0.78371243, 0.84116093, 0.912038  ,\n",
       "       0.13426596, 0.50474311, 0.43686343, 0.3587991 , 0.29840108])"
      ]
     },
     "execution_count": 9,
     "metadata": {},
     "output_type": "execute_result"
    }
   ],
   "source": [
    "import numpy as np\n",
    "\n",
    "data = np.random.rand(20)\n",
    "data"
   ]
  },
  {
   "cell_type": "markdown",
   "id": "a65cc539",
   "metadata": {},
   "source": [
    "- __we can pass an integer number of bins to cut instead of explicit bin edges__"
   ]
  },
  {
   "cell_type": "code",
   "execution_count": 11,
   "id": "3829d5a6",
   "metadata": {},
   "outputs": [
    {
     "data": {
      "text/plain": [
       "[(0.48, 0.72], (0.72, 0.96], (0.72, 0.96], (0.72, 0.96], (0.0037, 0.24], ..., (0.0037, 0.24], (0.48, 0.72], (0.24, 0.48], (0.24, 0.48], (0.24, 0.48]]\n",
       "Length: 20\n",
       "Categories (4, interval[float64]): [(0.0037, 0.24] < (0.24, 0.48] < (0.48, 0.72] < (0.72, 0.96]]"
      ]
     },
     "execution_count": 11,
     "metadata": {},
     "output_type": "execute_result"
    }
   ],
   "source": [
    "pd.cut(data,4,precision=2)"
   ]
  },
  {
   "cell_type": "markdown",
   "id": "aab3e9c8",
   "metadata": {},
   "source": [
    "- __Another example__"
   ]
  },
  {
   "cell_type": "code",
   "execution_count": 12,
   "id": "2f40eb4e",
   "metadata": {},
   "outputs": [
    {
     "data": {
      "text/plain": [
       "array([-0.28329751,  0.69647383,  0.50932473, -0.19788467,  0.3805382 ,\n",
       "        0.79857702, -0.39722477, -1.15207044, -0.31161365,  1.32508242,\n",
       "       -1.43234083, -0.859545  , -0.84025562, -0.34535447, -0.63715876,\n",
       "       -0.28001133, -2.72469632,  1.09097762,  0.08838981, -0.01332076,\n",
       "        0.6081183 ,  0.1504571 , -1.27992839,  0.80678876,  0.14207136,\n",
       "       -0.12238775,  0.10154687, -1.48925138,  1.10591033,  0.34753241,\n",
       "        0.62966578, -2.02831419,  1.05901848,  0.52347709,  0.57545962,\n",
       "       -0.47828719, -0.86736387,  0.88996649, -1.23015075,  0.68688127,\n",
       "       -0.77093433, -0.91926497,  1.23646628,  0.09595641,  2.26254434,\n",
       "        2.05952892,  0.29047633,  0.42038511,  1.73783325,  0.10718633,\n",
       "       -0.20088158, -2.04345659, -0.37325266,  0.22527216, -0.50674888,\n",
       "       -1.164767  ,  0.17728947,  0.43819735, -0.52788876, -0.4102603 ,\n",
       "       -0.57712589,  1.3416967 ,  0.10667698, -1.68010006, -1.14046142,\n",
       "       -0.48153535, -1.52800811, -1.98560062,  0.2916103 , -1.85858274,\n",
       "       -1.00065665, -2.06049247,  0.56595998, -1.22454941,  0.4148255 ,\n",
       "       -0.93945033, -1.84810209, -0.45851891,  1.28533557, -0.54536498,\n",
       "       -0.72787897,  0.57488301,  0.1499027 , -0.59648448,  1.38164774,\n",
       "        0.02981922, -0.992711  , -1.29201173, -0.38631674, -0.75582031,\n",
       "        1.52652292,  0.40182422,  0.25051646,  0.49396238,  0.09189513,\n",
       "        1.58905092,  0.752374  ,  0.00585766, -0.50007938,  0.51139195,\n",
       "       -0.1875399 , -0.01381383, -0.45387414, -2.38960226,  0.52374955,\n",
       "       -1.5439668 , -0.4984249 , -0.25886365,  1.53141965, -0.86083972,\n",
       "        1.14705002, -1.03487994,  0.05708326, -0.05417318, -1.05996563,\n",
       "       -0.89590913,  0.23501803,  0.52854168, -1.01869354,  0.48739653,\n",
       "        0.15681387,  0.46115582, -0.06180434, -0.21767857, -1.58035058,\n",
       "       -0.11296835,  0.63114027,  0.1014285 ,  0.38482355,  0.86530448,\n",
       "        0.59885578,  0.25283177,  1.46362462,  0.37584949,  2.12301779,\n",
       "        1.68795469, -0.84483499, -0.00629508,  0.91561687,  1.30380495,\n",
       "       -0.60920016,  0.05132006,  0.73565235, -0.10464723, -2.09819958,\n",
       "       -0.30591555,  2.15867423, -1.38023234,  0.55351481, -0.5381031 ,\n",
       "        1.60192128, -2.83990468, -1.15948214, -1.51861596, -1.74896341,\n",
       "        0.01200648,  1.43210371, -0.75895993, -0.25481435, -0.36566501,\n",
       "       -1.08821608, -0.32102921, -0.16391188,  0.51754127,  0.88611444,\n",
       "        0.25802367,  0.09390857,  0.83518371,  2.10580256, -0.04074026,\n",
       "        1.13058405, -1.40499559,  1.79351909,  0.7751112 , -0.68226984,\n",
       "        0.10771373,  0.84037741, -0.2047594 , -0.38095688,  0.03674831,\n",
       "       -0.43694975, -0.2499311 , -1.11285687,  0.68271489, -0.60301928,\n",
       "       -0.48307282, -0.07186287, -0.59715485,  0.04714099, -0.53411362,\n",
       "       -0.96989834, -0.89837499, -1.3009244 , -0.81424823,  1.22274925,\n",
       "        0.18993132, -0.13161396,  0.57601471,  0.18421187,  0.24165135,\n",
       "        0.13866789, -1.06539695,  1.71895357,  1.11526593, -0.54951744,\n",
       "       -1.18198417, -0.8510202 ,  0.11424312, -0.62519105, -0.5173651 ,\n",
       "        0.15535688, -1.81917288,  1.24549429, -2.02939947, -0.21633187,\n",
       "       -0.39422765,  0.04100552,  0.69425064,  0.0170659 ,  1.18490672,\n",
       "       -0.26187234,  0.03721591, -0.3612822 , -0.17011173,  1.4422233 ,\n",
       "       -1.00234389, -0.89606938,  0.56469479,  1.69985817,  1.22431528,\n",
       "        0.81737572, -0.36227628,  1.39778151, -1.22091082, -1.99288822,\n",
       "        2.16541476,  0.520639  , -0.33105148,  0.08028827, -1.23888216,\n",
       "        1.26889402,  0.15196159, -1.8066859 ,  0.04228295, -1.40279009,\n",
       "       -0.06677418,  0.4085927 , -0.76471428, -0.06839532, -1.03737692,\n",
       "        0.77784535, -0.21800756, -0.06458071,  1.53159238, -0.16751332,\n",
       "       -1.19281582,  0.20464542,  0.02281405, -1.5641069 ,  0.49197631,\n",
       "       -0.90009674,  2.87414039, -0.09665456,  0.253234  ,  0.56658053,\n",
       "        1.21046459,  0.83475857, -0.37297946,  0.09882828, -0.1238973 ,\n",
       "        0.45794196,  0.84006832, -0.01529911, -1.32426306,  0.50479052,\n",
       "        0.82251492,  0.15845219,  0.19616216, -0.28170538, -0.26618532,\n",
       "       -0.22885577, -0.27150439,  1.43986314,  0.07975754,  1.78203639,\n",
       "       -0.87392678, -0.69961714, -0.36266484, -0.9057601 , -0.21198825,\n",
       "        0.61677186,  0.13022756,  0.42968295,  1.02863916, -0.34135447,\n",
       "        1.30011104,  0.07499873, -0.20540488, -0.92793255,  0.45805188,\n",
       "       -0.51366419, -0.57314372,  1.48730381, -0.34055197, -1.23115576,\n",
       "       -1.55811138,  0.09808467, -1.69847481,  0.18329393,  0.70266406,\n",
       "       -0.09558148,  0.49605413, -0.87865998,  0.16303148, -0.9900675 ,\n",
       "       -0.44166557,  1.22253957, -1.30002427,  1.12239263, -0.2560406 ,\n",
       "        0.4035778 ,  0.37457234, -1.01071107,  0.30767401, -1.31733321,\n",
       "        1.10498853,  0.24075923, -0.20816675, -1.10351509, -0.30466222,\n",
       "        1.91822673, -1.16983598,  0.36568784,  1.16347647,  0.02765968,\n",
       "       -1.13548606,  1.36840428,  0.34919684, -1.04315721, -0.66725668,\n",
       "        0.33509006, -0.61154519, -0.10960767, -0.6716293 , -0.6169657 ,\n",
       "        0.27052354, -0.32128862, -0.72199398, -0.45341483, -0.13470715,\n",
       "        0.62227766, -1.38973058,  0.95786728, -1.00951943,  0.01790412,\n",
       "        0.20094411, -0.92971666, -0.49019904,  1.89084577,  1.88482682,\n",
       "        3.00596958,  0.49798259, -0.50065416,  0.79193259,  0.89158738,\n",
       "       -1.17205802,  0.576518  ,  0.43793438, -0.12708227,  0.27536598,\n",
       "       -0.32317779, -0.16570114, -0.84858421, -0.14379309, -0.88252731,\n",
       "        0.76098002, -0.20264781, -0.51006722,  0.80654579,  0.20678739,\n",
       "       -0.60598305, -0.34142244,  0.48414248,  0.42586482,  0.81401852,\n",
       "       -1.50175963,  0.61494445, -0.0828253 ,  0.04022747, -0.81263189,\n",
       "        0.8224215 ,  0.2568163 , -0.62360511, -0.64980837, -0.25559469,\n",
       "       -0.69756737, -0.4897491 ,  0.92362736, -1.26543579,  0.81903842,\n",
       "       -0.8671316 ,  0.17319783, -2.09306281, -0.31079172, -1.62667378,\n",
       "        1.09674   ,  0.03517361, -1.25286692, -1.12031703, -1.21122857,\n",
       "       -0.21661403,  1.47148937,  1.06171163,  1.06561866,  1.52970886,\n",
       "        0.44374049, -1.13585721, -0.5612828 , -0.37828264,  0.1194233 ,\n",
       "        1.23721937, -0.36592056, -1.01447973, -0.09679091,  0.06217841,\n",
       "       -1.83759737,  2.60995536,  0.7343586 , -0.31589861, -0.57084402,\n",
       "       -0.34792433,  0.81093844,  0.3563354 ,  0.11338663,  0.7961799 ,\n",
       "        0.58378052, -0.07549237,  1.26400256,  0.35318203, -0.13630745,\n",
       "       -0.03382754,  0.74739925,  1.53508635, -1.99406566, -1.39901587,\n",
       "       -0.46090405,  0.01758724, -0.30811063,  0.80102634,  0.02137476,\n",
       "        0.52504595, -1.21573783,  1.19348855,  0.18589694, -0.64846121,\n",
       "       -0.42063863,  0.26472539,  1.37245824,  2.23486472, -0.28800464,\n",
       "       -2.17448743,  0.86023191,  0.78595848,  0.92609175,  0.81988298,\n",
       "       -1.6573856 , -1.50768145,  0.32980752,  2.1290755 ,  0.0195716 ,\n",
       "        0.63744324,  0.47516424,  2.41157253, -0.01807086,  0.94136691,\n",
       "       -0.87037847,  0.67779174,  1.2052566 , -1.1399331 , -1.17822952,\n",
       "        0.43344092, -1.4430223 ,  0.38739046, -0.78300972, -0.60579144,\n",
       "       -1.47290109,  1.61962919, -0.3949509 , -1.61350961, -1.15369896,\n",
       "       -0.21964315, -0.11185311,  0.12515944,  0.07250144,  1.454766  ,\n",
       "        0.84675007,  1.0481038 ,  0.22414452, -0.09886254,  0.91350288,\n",
       "       -0.22284455, -0.46778067,  1.53246804,  0.28929117, -0.77515419,\n",
       "        0.60749684, -0.3788697 , -1.49330156, -1.07897488, -0.28587866,\n",
       "       -1.26225446,  0.22064001, -1.54905291, -0.48802993, -0.18521262,\n",
       "        1.40194188, -0.96766382,  1.55566938,  0.82093141, -0.63583332,\n",
       "        0.7710265 ,  3.25399528,  0.73548769, -1.37641541, -0.0675771 ,\n",
       "       -0.51184433,  1.15961125,  0.99788012, -0.31992702, -1.15573971,\n",
       "        0.05116662,  1.91097373,  0.48622938, -0.46532948,  0.99289689,\n",
       "        0.52788207,  1.1141476 ,  0.22137732,  0.77462922, -1.08116407,\n",
       "       -1.24020516, -0.24724472, -0.16872784,  0.2200304 ,  0.79472968,\n",
       "       -0.15357279,  0.23840289,  0.33911794, -1.36774646, -0.2360484 ,\n",
       "       -0.59116139, -0.14282527, -0.05203562,  1.25884655, -0.93881237,\n",
       "       -0.09019849,  1.80784736, -0.58036757, -0.85539765,  0.48098089,\n",
       "       -1.50816102, -0.89593242,  1.62043791,  0.09940148,  0.96551055,\n",
       "        0.36509219,  0.95437476, -0.12824245, -0.89871128, -0.10045202,\n",
       "        1.8100976 , -1.14169189, -0.09903829,  0.72316925, -0.47245266,\n",
       "        0.10667616,  1.4943191 , -1.19102454, -0.20651981,  2.75057751,\n",
       "        0.11473835, -1.0686312 ,  0.62183336,  0.03272426,  0.25705947,\n",
       "        0.5854428 ,  1.26192725,  1.21437626,  0.86140493,  0.75823713,\n",
       "       -0.9425914 ,  0.21146505,  1.63360193, -0.02386779, -0.97586915,\n",
       "       -0.41590359,  0.71253672,  1.07049688, -0.50390908, -2.43763889,\n",
       "       -1.09850847,  1.09014891,  0.26750022, -0.96513301, -0.53321721,\n",
       "        0.08104467,  0.56110758,  0.95453363, -0.808398  ,  2.01020792,\n",
       "        0.54142262,  1.05910545,  0.10559807,  2.7631592 , -0.03786329,\n",
       "       -0.2709927 ,  1.0391816 ,  0.25683051,  0.58249761, -0.86995902,\n",
       "       -0.25506468, -0.44898963,  1.19229119,  1.05206398, -0.33888271,\n",
       "       -0.941865  , -0.45520822,  1.46508085, -0.16744201, -1.09471383,\n",
       "       -0.6494641 ,  2.58085832,  0.13364357,  0.60453044, -1.82116077,\n",
       "        1.63938461,  0.36984109,  0.15453797,  0.23677668, -0.399653  ,\n",
       "       -0.42608891, -0.05061417, -0.27887343, -0.86628548, -0.30153463,\n",
       "       -0.19625182,  0.1931097 ,  0.04380599,  1.16559553,  0.51690473,\n",
       "        0.1555028 ,  0.07165405,  0.25256949,  0.98533407, -1.0952521 ,\n",
       "       -1.2501552 ,  0.8695375 ,  0.2888849 ,  0.34428169, -1.56754736,\n",
       "        1.94691228, -0.6261797 , -0.26523943, -0.54821924, -1.36514805,\n",
       "       -0.57095815, -0.68877995, -1.88916396, -1.77888212,  0.34747432,\n",
       "        1.6328694 , -0.50103982,  2.48678457,  1.33429006,  0.58980881,\n",
       "       -2.63187894, -0.5247393 , -0.42047094, -0.79320108,  0.38500599,\n",
       "        0.6327642 ,  1.15080024, -0.03598647,  0.60599495,  0.43976038,\n",
       "       -2.22087907,  0.7517922 ,  0.20441988, -0.93367365,  0.68674944,\n",
       "        1.35174136,  1.46269648, -0.37426683,  0.82885361, -1.53196407,\n",
       "        0.24126069,  0.17208724,  1.65732488, -0.11490934,  1.18740571,\n",
       "       -0.10607039, -0.46524428, -0.22415701, -1.63034264,  0.71327214,\n",
       "        0.4720629 , -1.19018929,  0.48986571, -1.07343153, -1.32762142,\n",
       "       -1.68442638,  0.7886512 , -0.2068736 , -0.7133908 , -3.8710324 ,\n",
       "       -0.9190124 ,  0.02695948, -1.06312668, -1.43487116, -0.39925087,\n",
       "        0.31178868, -0.71378026, -2.44503977, -0.80491037, -0.46772598,\n",
       "       -0.91554644,  0.0758126 ,  1.51867485, -0.38220515,  1.78462691,\n",
       "       -0.42804239,  2.51742259, -1.4569598 ,  0.17088819, -0.56947887,\n",
       "       -0.16619768, -0.28757544,  1.40980712,  0.1830469 ,  0.91642695,\n",
       "        0.23839428, -0.67289019,  1.27714166, -1.03679814, -0.68229547,\n",
       "       -0.52563231,  1.1588448 ,  0.29031322,  0.51623644, -0.4121911 ,\n",
       "        0.00794153, -0.26864646,  0.26098542,  0.52452519, -0.03748144,\n",
       "        0.54110923,  1.49962594,  0.13828329,  1.3013579 , -1.59115821,\n",
       "        0.99317497, -0.22485566,  0.22874492,  0.10849726,  0.61046518,\n",
       "       -0.18921851,  0.82938558,  1.14052625,  2.43227176,  0.29244292,\n",
       "       -0.58372771, -0.96675162,  1.59620051, -1.10579079,  0.11785142,\n",
       "        1.39711695, -1.25732778, -1.48306219, -2.63598996, -0.01017282,\n",
       "        0.21042466, -1.20519234,  0.97649257,  0.44832193, -0.41877074,\n",
       "        0.69855925,  0.67570069, -0.90228747,  0.82614444, -0.03310163,\n",
       "        0.62386768, -1.30862362, -1.2605444 ,  1.13383317, -0.03757405,\n",
       "       -1.76355383,  0.65876182,  1.71300846, -0.65819787, -0.51560052,\n",
       "       -0.88475669, -2.15960577, -1.54751655, -0.79681295, -0.54259943,\n",
       "       -0.25175253, -0.14161643, -1.032962  , -0.91437634,  0.86072014,\n",
       "        0.10171672,  0.43858487,  0.59086671, -0.56030861,  0.34002039,\n",
       "        0.93997705,  1.22903364,  1.07673901,  0.49193248,  0.12655399,\n",
       "        0.624042  ,  1.00184297,  1.35096373,  1.16270227,  0.3252622 ,\n",
       "       -1.48815319,  0.66111898,  0.15548739,  0.11844892,  0.99655137,\n",
       "       -1.29142246,  0.87211234,  0.19261607, -0.41209517,  0.25569879,\n",
       "        1.33365949,  1.61723098,  0.81732075,  0.67227102,  1.07288542,\n",
       "        1.00192916, -0.67906919, -0.13928218,  1.79468638, -0.01474507,\n",
       "        0.90912825,  0.10930086,  0.65602366,  2.47202413,  1.34280163,\n",
       "       -0.06514795, -0.62311637, -0.52129135,  0.538456  , -0.67180665,\n",
       "        0.70482666, -2.52386197, -0.45788559, -1.29206209,  0.91714195,\n",
       "       -0.16395862, -1.11911804, -0.16282872, -1.14808431,  0.72312626,\n",
       "        0.26557067, -0.14272945, -0.05076859,  0.66596021,  0.64178419,\n",
       "        0.75449959,  1.0839004 , -0.06376833, -1.65198232, -0.49874845,\n",
       "        1.4578587 ,  2.56057484,  0.44621608,  0.17425496,  0.15648681,\n",
       "       -0.93624939,  0.10424149, -1.03332388, -0.75286063, -1.13947555,\n",
       "       -1.07042937, -0.46864147, -0.12028383,  1.32532195,  1.12335936,\n",
       "        0.26221293,  0.89456066, -0.19480554, -1.70924956, -0.88310542,\n",
       "        1.00566346,  0.00883002, -0.9138501 ,  1.17956719, -0.04914173,\n",
       "        0.78943086, -0.22500648,  1.17607183,  0.58230256, -0.00664685,\n",
       "        0.05160926, -1.21926887, -0.06178673,  1.28845972,  1.09038435,\n",
       "        1.58932658, -0.40896521, -0.40910164, -0.47636424, -2.34986722,\n",
       "        0.18928714, -0.72205332, -0.61159322,  0.59428866,  0.08435423,\n",
       "        0.42480929, -1.22956645,  1.02816711,  1.06632059, -1.33509914,\n",
       "       -0.50290188, -1.31252946,  0.27445757,  0.39263939, -1.02685998,\n",
       "       -1.82641224, -0.23287713, -1.35937683,  0.92697392,  1.45318774,\n",
       "        0.99742327, -0.70301884,  0.24066   , -0.7934361 ,  0.28406851,\n",
       "       -0.48758833, -0.33385272,  1.04045036,  0.69538627, -1.66471795,\n",
       "       -0.41378277,  1.91802643,  0.40522336,  0.50608198, -0.47429981,\n",
       "       -0.07644304, -1.3179184 , -0.04045804, -0.65060063,  0.25476413,\n",
       "        0.11525192,  0.67344617,  1.56110087, -0.53605419, -0.06089213,\n",
       "        0.27916545, -1.0567744 , -0.18541064,  0.3140407 , -2.27716933,\n",
       "       -1.0002399 , -0.31107619, -0.01830518,  0.02105244, -0.90759235,\n",
       "       -0.49173853, -0.77434656, -0.72948588, -1.37481184, -0.56069668,\n",
       "        0.26156482, -0.47880332,  0.24204812, -0.27573256, -2.42233811,\n",
       "        0.24530744, -1.13144139,  0.54420812, -1.466574  , -2.33751717,\n",
       "       -1.54450704, -0.77295714,  1.09600865,  1.37315984, -1.10657184,\n",
       "        0.1584016 , -0.6019525 ,  0.52156582, -0.85072623,  0.81459752,\n",
       "        0.41501115,  2.10773985, -1.30491137,  1.25095076,  0.77359639])"
      ]
     },
     "execution_count": 12,
     "metadata": {},
     "output_type": "execute_result"
    }
   ],
   "source": [
    "data = np.random.randn(1000)\n",
    "data"
   ]
  },
  {
   "cell_type": "code",
   "execution_count": 14,
   "id": "8ba512bb",
   "metadata": {},
   "outputs": [
    {
     "data": {
      "text/plain": [
       "[(-0.309, 1.473], (-0.309, 1.473], (-0.309, 1.473], (-0.309, 1.473], (-0.309, 1.473], ..., (-0.309, 1.473], (1.473, 3.254], (-2.09, -0.309], (-0.309, 1.473], (-0.309, 1.473]]\n",
       "Length: 1000\n",
       "Categories (4, interval[float64]): [(-3.878, -2.09] < (-2.09, -0.309] < (-0.309, 1.473] < (1.473, 3.254]]"
      ]
     },
     "execution_count": 14,
     "metadata": {},
     "output_type": "execute_result"
    }
   ],
   "source": [
    "cats = pd.cut(data,4)\n",
    "cats"
   ]
  },
  {
   "cell_type": "code",
   "execution_count": 15,
   "id": "0501418c",
   "metadata": {},
   "outputs": [
    {
     "data": {
      "text/plain": [
       "(-0.309, 1.473]    563\n",
       "(-2.09, -0.309]    356\n",
       "(1.473, 3.254]      63\n",
       "(-3.878, -2.09]     18\n",
       "dtype: int64"
      ]
     },
     "execution_count": 15,
     "metadata": {},
     "output_type": "execute_result"
    }
   ],
   "source": [
    "pd.value_counts(cats)"
   ]
  },
  {
   "cell_type": "markdown",
   "id": "d297616b",
   "metadata": {},
   "source": [
    "### Detecting and Filtering Outliers\n",
    "- __Filtering or transforming outliers is largely a matter of applying array operations.__\n"
   ]
  },
  {
   "cell_type": "code",
   "execution_count": 16,
   "id": "6d380217",
   "metadata": {},
   "outputs": [
    {
     "data": {
      "text/html": [
       "<div>\n",
       "<style scoped>\n",
       "    .dataframe tbody tr th:only-of-type {\n",
       "        vertical-align: middle;\n",
       "    }\n",
       "\n",
       "    .dataframe tbody tr th {\n",
       "        vertical-align: top;\n",
       "    }\n",
       "\n",
       "    .dataframe thead th {\n",
       "        text-align: right;\n",
       "    }\n",
       "</style>\n",
       "<table border=\"1\" class=\"dataframe\">\n",
       "  <thead>\n",
       "    <tr style=\"text-align: right;\">\n",
       "      <th></th>\n",
       "      <th>0</th>\n",
       "      <th>1</th>\n",
       "      <th>2</th>\n",
       "      <th>3</th>\n",
       "    </tr>\n",
       "  </thead>\n",
       "  <tbody>\n",
       "    <tr>\n",
       "      <th>0</th>\n",
       "      <td>0.739944</td>\n",
       "      <td>0.094338</td>\n",
       "      <td>0.361905</td>\n",
       "      <td>0.475463</td>\n",
       "    </tr>\n",
       "    <tr>\n",
       "      <th>1</th>\n",
       "      <td>-0.182451</td>\n",
       "      <td>2.482996</td>\n",
       "      <td>2.190688</td>\n",
       "      <td>-0.131998</td>\n",
       "    </tr>\n",
       "    <tr>\n",
       "      <th>2</th>\n",
       "      <td>0.453916</td>\n",
       "      <td>-0.604206</td>\n",
       "      <td>-1.056480</td>\n",
       "      <td>-1.363392</td>\n",
       "    </tr>\n",
       "    <tr>\n",
       "      <th>3</th>\n",
       "      <td>-1.454186</td>\n",
       "      <td>1.175676</td>\n",
       "      <td>-1.018282</td>\n",
       "      <td>0.003432</td>\n",
       "    </tr>\n",
       "    <tr>\n",
       "      <th>4</th>\n",
       "      <td>-0.588149</td>\n",
       "      <td>1.129856</td>\n",
       "      <td>-0.865058</td>\n",
       "      <td>-1.303113</td>\n",
       "    </tr>\n",
       "    <tr>\n",
       "      <th>...</th>\n",
       "      <td>...</td>\n",
       "      <td>...</td>\n",
       "      <td>...</td>\n",
       "      <td>...</td>\n",
       "    </tr>\n",
       "    <tr>\n",
       "      <th>995</th>\n",
       "      <td>0.704879</td>\n",
       "      <td>-0.069154</td>\n",
       "      <td>0.585960</td>\n",
       "      <td>1.325228</td>\n",
       "    </tr>\n",
       "    <tr>\n",
       "      <th>996</th>\n",
       "      <td>1.303773</td>\n",
       "      <td>-0.449581</td>\n",
       "      <td>-1.290746</td>\n",
       "      <td>1.483015</td>\n",
       "    </tr>\n",
       "    <tr>\n",
       "      <th>997</th>\n",
       "      <td>-0.486026</td>\n",
       "      <td>0.973949</td>\n",
       "      <td>0.318537</td>\n",
       "      <td>-1.849429</td>\n",
       "    </tr>\n",
       "    <tr>\n",
       "      <th>998</th>\n",
       "      <td>0.162705</td>\n",
       "      <td>-1.735722</td>\n",
       "      <td>0.219019</td>\n",
       "      <td>1.209766</td>\n",
       "    </tr>\n",
       "    <tr>\n",
       "      <th>999</th>\n",
       "      <td>0.837424</td>\n",
       "      <td>-0.318336</td>\n",
       "      <td>-0.055143</td>\n",
       "      <td>-0.639957</td>\n",
       "    </tr>\n",
       "  </tbody>\n",
       "</table>\n",
       "<p>1000 rows × 4 columns</p>\n",
       "</div>"
      ],
      "text/plain": [
       "            0         1         2         3\n",
       "0    0.739944  0.094338  0.361905  0.475463\n",
       "1   -0.182451  2.482996  2.190688 -0.131998\n",
       "2    0.453916 -0.604206 -1.056480 -1.363392\n",
       "3   -1.454186  1.175676 -1.018282  0.003432\n",
       "4   -0.588149  1.129856 -0.865058 -1.303113\n",
       "..        ...       ...       ...       ...\n",
       "995  0.704879 -0.069154  0.585960  1.325228\n",
       "996  1.303773 -0.449581 -1.290746  1.483015\n",
       "997 -0.486026  0.973949  0.318537 -1.849429\n",
       "998  0.162705 -1.735722  0.219019  1.209766\n",
       "999  0.837424 -0.318336 -0.055143 -0.639957\n",
       "\n",
       "[1000 rows x 4 columns]"
      ]
     },
     "execution_count": 16,
     "metadata": {},
     "output_type": "execute_result"
    }
   ],
   "source": [
    "data = pd.DataFrame(np.random.randn(1000, 4))\n",
    "data"
   ]
  },
  {
   "cell_type": "code",
   "execution_count": 18,
   "id": "efe3d36b",
   "metadata": {},
   "outputs": [
    {
     "data": {
      "text/html": [
       "<div>\n",
       "<style scoped>\n",
       "    .dataframe tbody tr th:only-of-type {\n",
       "        vertical-align: middle;\n",
       "    }\n",
       "\n",
       "    .dataframe tbody tr th {\n",
       "        vertical-align: top;\n",
       "    }\n",
       "\n",
       "    .dataframe thead th {\n",
       "        text-align: right;\n",
       "    }\n",
       "</style>\n",
       "<table border=\"1\" class=\"dataframe\">\n",
       "  <thead>\n",
       "    <tr style=\"text-align: right;\">\n",
       "      <th></th>\n",
       "      <th>0</th>\n",
       "      <th>1</th>\n",
       "      <th>2</th>\n",
       "      <th>3</th>\n",
       "    </tr>\n",
       "  </thead>\n",
       "  <tbody>\n",
       "    <tr>\n",
       "      <th>count</th>\n",
       "      <td>1000.000000</td>\n",
       "      <td>1000.000000</td>\n",
       "      <td>1000.000000</td>\n",
       "      <td>1000.000000</td>\n",
       "    </tr>\n",
       "    <tr>\n",
       "      <th>mean</th>\n",
       "      <td>-0.054164</td>\n",
       "      <td>-0.023482</td>\n",
       "      <td>-0.001122</td>\n",
       "      <td>0.010325</td>\n",
       "    </tr>\n",
       "    <tr>\n",
       "      <th>std</th>\n",
       "      <td>1.022017</td>\n",
       "      <td>1.034671</td>\n",
       "      <td>0.930680</td>\n",
       "      <td>1.030806</td>\n",
       "    </tr>\n",
       "    <tr>\n",
       "      <th>min</th>\n",
       "      <td>-2.864327</td>\n",
       "      <td>-3.307033</td>\n",
       "      <td>-3.331742</td>\n",
       "      <td>-3.133937</td>\n",
       "    </tr>\n",
       "    <tr>\n",
       "      <th>25%</th>\n",
       "      <td>-0.713493</td>\n",
       "      <td>-0.710143</td>\n",
       "      <td>-0.603772</td>\n",
       "      <td>-0.663430</td>\n",
       "    </tr>\n",
       "    <tr>\n",
       "      <th>50%</th>\n",
       "      <td>-0.049706</td>\n",
       "      <td>-0.051692</td>\n",
       "      <td>-0.006663</td>\n",
       "      <td>0.013526</td>\n",
       "    </tr>\n",
       "    <tr>\n",
       "      <th>75%</th>\n",
       "      <td>0.654988</td>\n",
       "      <td>0.654663</td>\n",
       "      <td>0.593711</td>\n",
       "      <td>0.726343</td>\n",
       "    </tr>\n",
       "    <tr>\n",
       "      <th>max</th>\n",
       "      <td>3.325734</td>\n",
       "      <td>3.411398</td>\n",
       "      <td>2.578913</td>\n",
       "      <td>2.817692</td>\n",
       "    </tr>\n",
       "  </tbody>\n",
       "</table>\n",
       "</div>"
      ],
      "text/plain": [
       "                 0            1            2            3\n",
       "count  1000.000000  1000.000000  1000.000000  1000.000000\n",
       "mean     -0.054164    -0.023482    -0.001122     0.010325\n",
       "std       1.022017     1.034671     0.930680     1.030806\n",
       "min      -2.864327    -3.307033    -3.331742    -3.133937\n",
       "25%      -0.713493    -0.710143    -0.603772    -0.663430\n",
       "50%      -0.049706    -0.051692    -0.006663     0.013526\n",
       "75%       0.654988     0.654663     0.593711     0.726343\n",
       "max       3.325734     3.411398     2.578913     2.817692"
      ]
     },
     "execution_count": 18,
     "metadata": {},
     "output_type": "execute_result"
    }
   ],
   "source": [
    "data.describe()"
   ]
  },
  {
   "cell_type": "markdown",
   "id": "be058a7d",
   "metadata": {},
   "source": [
    "- __Let's say you want to find value in one of the columns exceeding in 3 absolute values__\n"
   ]
  },
  {
   "cell_type": "code",
   "execution_count": 22,
   "id": "c54b046f",
   "metadata": {},
   "outputs": [
    {
     "data": {
      "text/plain": [
       "0      0.361905\n",
       "1      2.190688\n",
       "2     -1.056480\n",
       "3     -1.018282\n",
       "4     -0.865058\n",
       "         ...   \n",
       "995    0.585960\n",
       "996   -1.290746\n",
       "997    0.318537\n",
       "998    0.219019\n",
       "999   -0.055143\n",
       "Name: 2, Length: 1000, dtype: float64"
      ]
     },
     "execution_count": 22,
     "metadata": {},
     "output_type": "execute_result"
    }
   ],
   "source": [
    "col = data[2]\n",
    "col"
   ]
  },
  {
   "cell_type": "code",
   "execution_count": 23,
   "id": "12fc7e91",
   "metadata": {},
   "outputs": [
    {
     "data": {
      "text/plain": [
       "864   -3.331742\n",
       "Name: 2, dtype: float64"
      ]
     },
     "execution_count": 23,
     "metadata": {},
     "output_type": "execute_result"
    }
   ],
   "source": [
    "col[np.abs(col)>3]"
   ]
  },
  {
   "cell_type": "markdown",
   "id": "fb74d47f",
   "metadata": {},
   "source": [
    "- __To select all rows having a value exceeding 3 or –3, you can use the any method on a\n",
    "boolean DataFrame:__"
   ]
  },
  {
   "cell_type": "code",
   "execution_count": 24,
   "id": "22d472d5",
   "metadata": {},
   "outputs": [
    {
     "data": {
      "text/html": [
       "<div>\n",
       "<style scoped>\n",
       "    .dataframe tbody tr th:only-of-type {\n",
       "        vertical-align: middle;\n",
       "    }\n",
       "\n",
       "    .dataframe tbody tr th {\n",
       "        vertical-align: top;\n",
       "    }\n",
       "\n",
       "    .dataframe thead th {\n",
       "        text-align: right;\n",
       "    }\n",
       "</style>\n",
       "<table border=\"1\" class=\"dataframe\">\n",
       "  <thead>\n",
       "    <tr style=\"text-align: right;\">\n",
       "      <th></th>\n",
       "      <th>0</th>\n",
       "      <th>1</th>\n",
       "      <th>2</th>\n",
       "      <th>3</th>\n",
       "    </tr>\n",
       "  </thead>\n",
       "  <tbody>\n",
       "    <tr>\n",
       "      <th>7</th>\n",
       "      <td>3.075076</td>\n",
       "      <td>0.270260</td>\n",
       "      <td>-0.659502</td>\n",
       "      <td>0.388007</td>\n",
       "    </tr>\n",
       "    <tr>\n",
       "      <th>42</th>\n",
       "      <td>0.056894</td>\n",
       "      <td>-1.337601</td>\n",
       "      <td>-0.776966</td>\n",
       "      <td>-3.133937</td>\n",
       "    </tr>\n",
       "    <tr>\n",
       "      <th>164</th>\n",
       "      <td>-2.239333</td>\n",
       "      <td>3.411398</td>\n",
       "      <td>0.103656</td>\n",
       "      <td>0.933392</td>\n",
       "    </tr>\n",
       "    <tr>\n",
       "      <th>320</th>\n",
       "      <td>0.748741</td>\n",
       "      <td>-3.043540</td>\n",
       "      <td>0.423652</td>\n",
       "      <td>-0.255932</td>\n",
       "    </tr>\n",
       "    <tr>\n",
       "      <th>821</th>\n",
       "      <td>3.325734</td>\n",
       "      <td>0.514552</td>\n",
       "      <td>-0.094404</td>\n",
       "      <td>0.431691</td>\n",
       "    </tr>\n",
       "    <tr>\n",
       "      <th>864</th>\n",
       "      <td>0.022212</td>\n",
       "      <td>0.591466</td>\n",
       "      <td>-3.331742</td>\n",
       "      <td>0.431040</td>\n",
       "    </tr>\n",
       "    <tr>\n",
       "      <th>880</th>\n",
       "      <td>0.231857</td>\n",
       "      <td>-3.307033</td>\n",
       "      <td>2.138216</td>\n",
       "      <td>1.513971</td>\n",
       "    </tr>\n",
       "  </tbody>\n",
       "</table>\n",
       "</div>"
      ],
      "text/plain": [
       "            0         1         2         3\n",
       "7    3.075076  0.270260 -0.659502  0.388007\n",
       "42   0.056894 -1.337601 -0.776966 -3.133937\n",
       "164 -2.239333  3.411398  0.103656  0.933392\n",
       "320  0.748741 -3.043540  0.423652 -0.255932\n",
       "821  3.325734  0.514552 -0.094404  0.431691\n",
       "864  0.022212  0.591466 -3.331742  0.431040\n",
       "880  0.231857 -3.307033  2.138216  1.513971"
      ]
     },
     "execution_count": 24,
     "metadata": {},
     "output_type": "execute_result"
    }
   ],
   "source": [
    "data[(np.abs(data)>3).any(1)]"
   ]
  },
  {
   "cell_type": "markdown",
   "id": "af97f1d7",
   "metadata": {},
   "source": [
    "- __Values can be set based on these criteria. Here is code to cap values outside the inter‐\n",
    "val –3 to 3:__"
   ]
  },
  {
   "cell_type": "code",
   "execution_count": 25,
   "id": "1239bf7a",
   "metadata": {},
   "outputs": [
    {
     "data": {
      "text/html": [
       "<div>\n",
       "<style scoped>\n",
       "    .dataframe tbody tr th:only-of-type {\n",
       "        vertical-align: middle;\n",
       "    }\n",
       "\n",
       "    .dataframe tbody tr th {\n",
       "        vertical-align: top;\n",
       "    }\n",
       "\n",
       "    .dataframe thead th {\n",
       "        text-align: right;\n",
       "    }\n",
       "</style>\n",
       "<table border=\"1\" class=\"dataframe\">\n",
       "  <thead>\n",
       "    <tr style=\"text-align: right;\">\n",
       "      <th></th>\n",
       "      <th>0</th>\n",
       "      <th>1</th>\n",
       "      <th>2</th>\n",
       "      <th>3</th>\n",
       "    </tr>\n",
       "  </thead>\n",
       "  <tbody>\n",
       "    <tr>\n",
       "      <th>count</th>\n",
       "      <td>1000.000000</td>\n",
       "      <td>1000.000000</td>\n",
       "      <td>1000.000000</td>\n",
       "      <td>1000.000000</td>\n",
       "    </tr>\n",
       "    <tr>\n",
       "      <th>mean</th>\n",
       "      <td>-0.054565</td>\n",
       "      <td>-0.023542</td>\n",
       "      <td>-0.000790</td>\n",
       "      <td>0.010459</td>\n",
       "    </tr>\n",
       "    <tr>\n",
       "      <th>std</th>\n",
       "      <td>1.020762</td>\n",
       "      <td>1.032327</td>\n",
       "      <td>0.929550</td>\n",
       "      <td>1.030405</td>\n",
       "    </tr>\n",
       "    <tr>\n",
       "      <th>min</th>\n",
       "      <td>-2.864327</td>\n",
       "      <td>-3.000000</td>\n",
       "      <td>-3.000000</td>\n",
       "      <td>-3.000000</td>\n",
       "    </tr>\n",
       "    <tr>\n",
       "      <th>25%</th>\n",
       "      <td>-0.713493</td>\n",
       "      <td>-0.710143</td>\n",
       "      <td>-0.603772</td>\n",
       "      <td>-0.663430</td>\n",
       "    </tr>\n",
       "    <tr>\n",
       "      <th>50%</th>\n",
       "      <td>-0.049706</td>\n",
       "      <td>-0.051692</td>\n",
       "      <td>-0.006663</td>\n",
       "      <td>0.013526</td>\n",
       "    </tr>\n",
       "    <tr>\n",
       "      <th>75%</th>\n",
       "      <td>0.654988</td>\n",
       "      <td>0.654663</td>\n",
       "      <td>0.593711</td>\n",
       "      <td>0.726343</td>\n",
       "    </tr>\n",
       "    <tr>\n",
       "      <th>max</th>\n",
       "      <td>3.000000</td>\n",
       "      <td>3.000000</td>\n",
       "      <td>2.578913</td>\n",
       "      <td>2.817692</td>\n",
       "    </tr>\n",
       "  </tbody>\n",
       "</table>\n",
       "</div>"
      ],
      "text/plain": [
       "                 0            1            2            3\n",
       "count  1000.000000  1000.000000  1000.000000  1000.000000\n",
       "mean     -0.054565    -0.023542    -0.000790     0.010459\n",
       "std       1.020762     1.032327     0.929550     1.030405\n",
       "min      -2.864327    -3.000000    -3.000000    -3.000000\n",
       "25%      -0.713493    -0.710143    -0.603772    -0.663430\n",
       "50%      -0.049706    -0.051692    -0.006663     0.013526\n",
       "75%       0.654988     0.654663     0.593711     0.726343\n",
       "max       3.000000     3.000000     2.578913     2.817692"
      ]
     },
     "execution_count": 25,
     "metadata": {},
     "output_type": "execute_result"
    }
   ],
   "source": [
    "data[np.abs(data) > 3] = np.sign(data) * 3\n",
    "data.describe()"
   ]
  },
  {
   "cell_type": "markdown",
   "id": "5f871123",
   "metadata": {},
   "source": [
    "### Permutation and Random Sampling"
   ]
  },
  {
   "cell_type": "markdown",
   "id": "21b2f7f5",
   "metadata": {},
   "source": [
    "- __Permuting (randomly reordering) a Series or the rows in a DataFrame is easy to do\n",
    "using the 'numpy.random.permutation' function__"
   ]
  },
  {
   "cell_type": "code",
   "execution_count": 26,
   "id": "de919681",
   "metadata": {},
   "outputs": [
    {
     "data": {
      "text/html": [
       "<div>\n",
       "<style scoped>\n",
       "    .dataframe tbody tr th:only-of-type {\n",
       "        vertical-align: middle;\n",
       "    }\n",
       "\n",
       "    .dataframe tbody tr th {\n",
       "        vertical-align: top;\n",
       "    }\n",
       "\n",
       "    .dataframe thead th {\n",
       "        text-align: right;\n",
       "    }\n",
       "</style>\n",
       "<table border=\"1\" class=\"dataframe\">\n",
       "  <thead>\n",
       "    <tr style=\"text-align: right;\">\n",
       "      <th></th>\n",
       "      <th>0</th>\n",
       "      <th>1</th>\n",
       "      <th>2</th>\n",
       "      <th>3</th>\n",
       "    </tr>\n",
       "  </thead>\n",
       "  <tbody>\n",
       "    <tr>\n",
       "      <th>0</th>\n",
       "      <td>0</td>\n",
       "      <td>1</td>\n",
       "      <td>2</td>\n",
       "      <td>3</td>\n",
       "    </tr>\n",
       "    <tr>\n",
       "      <th>1</th>\n",
       "      <td>4</td>\n",
       "      <td>5</td>\n",
       "      <td>6</td>\n",
       "      <td>7</td>\n",
       "    </tr>\n",
       "    <tr>\n",
       "      <th>2</th>\n",
       "      <td>8</td>\n",
       "      <td>9</td>\n",
       "      <td>10</td>\n",
       "      <td>11</td>\n",
       "    </tr>\n",
       "    <tr>\n",
       "      <th>3</th>\n",
       "      <td>12</td>\n",
       "      <td>13</td>\n",
       "      <td>14</td>\n",
       "      <td>15</td>\n",
       "    </tr>\n",
       "    <tr>\n",
       "      <th>4</th>\n",
       "      <td>16</td>\n",
       "      <td>17</td>\n",
       "      <td>18</td>\n",
       "      <td>19</td>\n",
       "    </tr>\n",
       "  </tbody>\n",
       "</table>\n",
       "</div>"
      ],
      "text/plain": [
       "    0   1   2   3\n",
       "0   0   1   2   3\n",
       "1   4   5   6   7\n",
       "2   8   9  10  11\n",
       "3  12  13  14  15\n",
       "4  16  17  18  19"
      ]
     },
     "execution_count": 26,
     "metadata": {},
     "output_type": "execute_result"
    }
   ],
   "source": [
    "df = pd.DataFrame(np.arange(5 * 4).reshape((5, 4)))\n",
    "df"
   ]
  },
  {
   "cell_type": "code",
   "execution_count": 30,
   "id": "8263447e",
   "metadata": {},
   "outputs": [
    {
     "data": {
      "text/plain": [
       "array([2, 3, 4, 0, 1])"
      ]
     },
     "execution_count": 30,
     "metadata": {},
     "output_type": "execute_result"
    }
   ],
   "source": [
    "sampler = np.random.permutation(5)\n",
    "sampler"
   ]
  },
  {
   "cell_type": "markdown",
   "id": "49527d86",
   "metadata": {},
   "source": [
    "- __'take' method__"
   ]
  },
  {
   "cell_type": "code",
   "execution_count": 32,
   "id": "38d9858a",
   "metadata": {},
   "outputs": [
    {
     "data": {
      "text/html": [
       "<div>\n",
       "<style scoped>\n",
       "    .dataframe tbody tr th:only-of-type {\n",
       "        vertical-align: middle;\n",
       "    }\n",
       "\n",
       "    .dataframe tbody tr th {\n",
       "        vertical-align: top;\n",
       "    }\n",
       "\n",
       "    .dataframe thead th {\n",
       "        text-align: right;\n",
       "    }\n",
       "</style>\n",
       "<table border=\"1\" class=\"dataframe\">\n",
       "  <thead>\n",
       "    <tr style=\"text-align: right;\">\n",
       "      <th></th>\n",
       "      <th>0</th>\n",
       "      <th>1</th>\n",
       "      <th>2</th>\n",
       "      <th>3</th>\n",
       "    </tr>\n",
       "  </thead>\n",
       "  <tbody>\n",
       "    <tr>\n",
       "      <th>2</th>\n",
       "      <td>8</td>\n",
       "      <td>9</td>\n",
       "      <td>10</td>\n",
       "      <td>11</td>\n",
       "    </tr>\n",
       "    <tr>\n",
       "      <th>3</th>\n",
       "      <td>12</td>\n",
       "      <td>13</td>\n",
       "      <td>14</td>\n",
       "      <td>15</td>\n",
       "    </tr>\n",
       "    <tr>\n",
       "      <th>4</th>\n",
       "      <td>16</td>\n",
       "      <td>17</td>\n",
       "      <td>18</td>\n",
       "      <td>19</td>\n",
       "    </tr>\n",
       "    <tr>\n",
       "      <th>0</th>\n",
       "      <td>0</td>\n",
       "      <td>1</td>\n",
       "      <td>2</td>\n",
       "      <td>3</td>\n",
       "    </tr>\n",
       "    <tr>\n",
       "      <th>1</th>\n",
       "      <td>4</td>\n",
       "      <td>5</td>\n",
       "      <td>6</td>\n",
       "      <td>7</td>\n",
       "    </tr>\n",
       "  </tbody>\n",
       "</table>\n",
       "</div>"
      ],
      "text/plain": [
       "    0   1   2   3\n",
       "2   8   9  10  11\n",
       "3  12  13  14  15\n",
       "4  16  17  18  19\n",
       "0   0   1   2   3\n",
       "1   4   5   6   7"
      ]
     },
     "execution_count": 32,
     "metadata": {},
     "output_type": "execute_result"
    }
   ],
   "source": [
    "df.take(sampler)"
   ]
  },
  {
   "cell_type": "markdown",
   "id": "4104bdee",
   "metadata": {},
   "source": [
    "- __'sample' method to take sample__\n"
   ]
  },
  {
   "cell_type": "code",
   "execution_count": 37,
   "id": "fb947540",
   "metadata": {},
   "outputs": [
    {
     "data": {
      "text/html": [
       "<div>\n",
       "<style scoped>\n",
       "    .dataframe tbody tr th:only-of-type {\n",
       "        vertical-align: middle;\n",
       "    }\n",
       "\n",
       "    .dataframe tbody tr th {\n",
       "        vertical-align: top;\n",
       "    }\n",
       "\n",
       "    .dataframe thead th {\n",
       "        text-align: right;\n",
       "    }\n",
       "</style>\n",
       "<table border=\"1\" class=\"dataframe\">\n",
       "  <thead>\n",
       "    <tr style=\"text-align: right;\">\n",
       "      <th></th>\n",
       "      <th>0</th>\n",
       "      <th>1</th>\n",
       "      <th>2</th>\n",
       "      <th>3</th>\n",
       "    </tr>\n",
       "  </thead>\n",
       "  <tbody>\n",
       "    <tr>\n",
       "      <th>3</th>\n",
       "      <td>12</td>\n",
       "      <td>13</td>\n",
       "      <td>14</td>\n",
       "      <td>15</td>\n",
       "    </tr>\n",
       "    <tr>\n",
       "      <th>0</th>\n",
       "      <td>0</td>\n",
       "      <td>1</td>\n",
       "      <td>2</td>\n",
       "      <td>3</td>\n",
       "    </tr>\n",
       "    <tr>\n",
       "      <th>4</th>\n",
       "      <td>16</td>\n",
       "      <td>17</td>\n",
       "      <td>18</td>\n",
       "      <td>19</td>\n",
       "    </tr>\n",
       "  </tbody>\n",
       "</table>\n",
       "</div>"
      ],
      "text/plain": [
       "    0   1   2   3\n",
       "3  12  13  14  15\n",
       "0   0   1   2   3\n",
       "4  16  17  18  19"
      ]
     },
     "execution_count": 37,
     "metadata": {},
     "output_type": "execute_result"
    }
   ],
   "source": [
    "df.sample(n=3)"
   ]
  },
  {
   "cell_type": "markdown",
   "id": "2216363c",
   "metadata": {},
   "source": [
    "### Computing Indicator/Dummy Variables"
   ]
  },
  {
   "cell_type": "markdown",
   "id": "800a0c08",
   "metadata": {},
   "source": [
    "- __Another type of transformation for statistical modeling or machine learning applications is converting a categorical variable into a “dummy” or “indicator” matrix__\n",
    "- __If a column in a DataFrame has k distinct values, you would derive a matrix or DataFrame with k columns containing all 1s and 0s__\n",
    "- __pandas have 'get_dummies' fucntion for doing this__"
   ]
  },
  {
   "cell_type": "code",
   "execution_count": 4,
   "id": "bce486ad",
   "metadata": {},
   "outputs": [
    {
     "data": {
      "text/html": [
       "<div>\n",
       "<style scoped>\n",
       "    .dataframe tbody tr th:only-of-type {\n",
       "        vertical-align: middle;\n",
       "    }\n",
       "\n",
       "    .dataframe tbody tr th {\n",
       "        vertical-align: top;\n",
       "    }\n",
       "\n",
       "    .dataframe thead th {\n",
       "        text-align: right;\n",
       "    }\n",
       "</style>\n",
       "<table border=\"1\" class=\"dataframe\">\n",
       "  <thead>\n",
       "    <tr style=\"text-align: right;\">\n",
       "      <th></th>\n",
       "      <th>key</th>\n",
       "      <th>data1</th>\n",
       "    </tr>\n",
       "  </thead>\n",
       "  <tbody>\n",
       "    <tr>\n",
       "      <th>0</th>\n",
       "      <td>b</td>\n",
       "      <td>0</td>\n",
       "    </tr>\n",
       "    <tr>\n",
       "      <th>1</th>\n",
       "      <td>b</td>\n",
       "      <td>1</td>\n",
       "    </tr>\n",
       "    <tr>\n",
       "      <th>2</th>\n",
       "      <td>a</td>\n",
       "      <td>2</td>\n",
       "    </tr>\n",
       "    <tr>\n",
       "      <th>3</th>\n",
       "      <td>c</td>\n",
       "      <td>3</td>\n",
       "    </tr>\n",
       "    <tr>\n",
       "      <th>4</th>\n",
       "      <td>a</td>\n",
       "      <td>4</td>\n",
       "    </tr>\n",
       "    <tr>\n",
       "      <th>5</th>\n",
       "      <td>b</td>\n",
       "      <td>5</td>\n",
       "    </tr>\n",
       "  </tbody>\n",
       "</table>\n",
       "</div>"
      ],
      "text/plain": [
       "  key  data1\n",
       "0   b      0\n",
       "1   b      1\n",
       "2   a      2\n",
       "3   c      3\n",
       "4   a      4\n",
       "5   b      5"
      ]
     },
     "execution_count": 4,
     "metadata": {},
     "output_type": "execute_result"
    }
   ],
   "source": [
    "import pandas as pd\n",
    "\n",
    "df = pd.DataFrame({\n",
    "    'key': ['b', 'b', 'a', 'c', 'a', 'b'],\n",
    "    'data1': range(6)\n",
    "})\n",
    "df"
   ]
  },
  {
   "cell_type": "code",
   "execution_count": 3,
   "id": "0886ef83",
   "metadata": {},
   "outputs": [
    {
     "data": {
      "text/html": [
       "<div>\n",
       "<style scoped>\n",
       "    .dataframe tbody tr th:only-of-type {\n",
       "        vertical-align: middle;\n",
       "    }\n",
       "\n",
       "    .dataframe tbody tr th {\n",
       "        vertical-align: top;\n",
       "    }\n",
       "\n",
       "    .dataframe thead th {\n",
       "        text-align: right;\n",
       "    }\n",
       "</style>\n",
       "<table border=\"1\" class=\"dataframe\">\n",
       "  <thead>\n",
       "    <tr style=\"text-align: right;\">\n",
       "      <th></th>\n",
       "      <th>a</th>\n",
       "      <th>b</th>\n",
       "      <th>c</th>\n",
       "    </tr>\n",
       "  </thead>\n",
       "  <tbody>\n",
       "    <tr>\n",
       "      <th>0</th>\n",
       "      <td>0</td>\n",
       "      <td>1</td>\n",
       "      <td>0</td>\n",
       "    </tr>\n",
       "    <tr>\n",
       "      <th>1</th>\n",
       "      <td>0</td>\n",
       "      <td>1</td>\n",
       "      <td>0</td>\n",
       "    </tr>\n",
       "    <tr>\n",
       "      <th>2</th>\n",
       "      <td>1</td>\n",
       "      <td>0</td>\n",
       "      <td>0</td>\n",
       "    </tr>\n",
       "    <tr>\n",
       "      <th>3</th>\n",
       "      <td>0</td>\n",
       "      <td>0</td>\n",
       "      <td>1</td>\n",
       "    </tr>\n",
       "    <tr>\n",
       "      <th>4</th>\n",
       "      <td>1</td>\n",
       "      <td>0</td>\n",
       "      <td>0</td>\n",
       "    </tr>\n",
       "    <tr>\n",
       "      <th>5</th>\n",
       "      <td>0</td>\n",
       "      <td>1</td>\n",
       "      <td>0</td>\n",
       "    </tr>\n",
       "  </tbody>\n",
       "</table>\n",
       "</div>"
      ],
      "text/plain": [
       "   a  b  c\n",
       "0  0  1  0\n",
       "1  0  1  0\n",
       "2  1  0  0\n",
       "3  0  0  1\n",
       "4  1  0  0\n",
       "5  0  1  0"
      ]
     },
     "execution_count": 3,
     "metadata": {},
     "output_type": "execute_result"
    }
   ],
   "source": [
    "pd.get_dummies(df['key'])"
   ]
  },
  {
   "cell_type": "markdown",
   "id": "10588ff6",
   "metadata": {},
   "source": [
    "- __in some cases, you want to add a prefix to the columns in the indicator DataFrmae, which can be merged with the other data.__\n",
    "- __'get_dummies' has a prefix argument for doing it__"
   ]
  },
  {
   "cell_type": "code",
   "execution_count": 5,
   "id": "5ef54ef0",
   "metadata": {},
   "outputs": [
    {
     "data": {
      "text/html": [
       "<div>\n",
       "<style scoped>\n",
       "    .dataframe tbody tr th:only-of-type {\n",
       "        vertical-align: middle;\n",
       "    }\n",
       "\n",
       "    .dataframe tbody tr th {\n",
       "        vertical-align: top;\n",
       "    }\n",
       "\n",
       "    .dataframe thead th {\n",
       "        text-align: right;\n",
       "    }\n",
       "</style>\n",
       "<table border=\"1\" class=\"dataframe\">\n",
       "  <thead>\n",
       "    <tr style=\"text-align: right;\">\n",
       "      <th></th>\n",
       "      <th>key_a</th>\n",
       "      <th>key_b</th>\n",
       "      <th>key_c</th>\n",
       "    </tr>\n",
       "  </thead>\n",
       "  <tbody>\n",
       "    <tr>\n",
       "      <th>0</th>\n",
       "      <td>0</td>\n",
       "      <td>1</td>\n",
       "      <td>0</td>\n",
       "    </tr>\n",
       "    <tr>\n",
       "      <th>1</th>\n",
       "      <td>0</td>\n",
       "      <td>1</td>\n",
       "      <td>0</td>\n",
       "    </tr>\n",
       "    <tr>\n",
       "      <th>2</th>\n",
       "      <td>1</td>\n",
       "      <td>0</td>\n",
       "      <td>0</td>\n",
       "    </tr>\n",
       "    <tr>\n",
       "      <th>3</th>\n",
       "      <td>0</td>\n",
       "      <td>0</td>\n",
       "      <td>1</td>\n",
       "    </tr>\n",
       "    <tr>\n",
       "      <th>4</th>\n",
       "      <td>1</td>\n",
       "      <td>0</td>\n",
       "      <td>0</td>\n",
       "    </tr>\n",
       "    <tr>\n",
       "      <th>5</th>\n",
       "      <td>0</td>\n",
       "      <td>1</td>\n",
       "      <td>0</td>\n",
       "    </tr>\n",
       "  </tbody>\n",
       "</table>\n",
       "</div>"
      ],
      "text/plain": [
       "   key_a  key_b  key_c\n",
       "0      0      1      0\n",
       "1      0      1      0\n",
       "2      1      0      0\n",
       "3      0      0      1\n",
       "4      1      0      0\n",
       "5      0      1      0"
      ]
     },
     "execution_count": 5,
     "metadata": {},
     "output_type": "execute_result"
    }
   ],
   "source": [
    "dummies = pd.get_dummies(df['key'], prefix='key')\n",
    "dummies"
   ]
  },
  {
   "cell_type": "code",
   "execution_count": 6,
   "id": "dad6d196",
   "metadata": {},
   "outputs": [
    {
     "data": {
      "text/html": [
       "<div>\n",
       "<style scoped>\n",
       "    .dataframe tbody tr th:only-of-type {\n",
       "        vertical-align: middle;\n",
       "    }\n",
       "\n",
       "    .dataframe tbody tr th {\n",
       "        vertical-align: top;\n",
       "    }\n",
       "\n",
       "    .dataframe thead th {\n",
       "        text-align: right;\n",
       "    }\n",
       "</style>\n",
       "<table border=\"1\" class=\"dataframe\">\n",
       "  <thead>\n",
       "    <tr style=\"text-align: right;\">\n",
       "      <th></th>\n",
       "      <th>data1</th>\n",
       "      <th>key_a</th>\n",
       "      <th>key_b</th>\n",
       "      <th>key_c</th>\n",
       "    </tr>\n",
       "  </thead>\n",
       "  <tbody>\n",
       "    <tr>\n",
       "      <th>0</th>\n",
       "      <td>0</td>\n",
       "      <td>0</td>\n",
       "      <td>1</td>\n",
       "      <td>0</td>\n",
       "    </tr>\n",
       "    <tr>\n",
       "      <th>1</th>\n",
       "      <td>1</td>\n",
       "      <td>0</td>\n",
       "      <td>1</td>\n",
       "      <td>0</td>\n",
       "    </tr>\n",
       "    <tr>\n",
       "      <th>2</th>\n",
       "      <td>2</td>\n",
       "      <td>1</td>\n",
       "      <td>0</td>\n",
       "      <td>0</td>\n",
       "    </tr>\n",
       "    <tr>\n",
       "      <th>3</th>\n",
       "      <td>3</td>\n",
       "      <td>0</td>\n",
       "      <td>0</td>\n",
       "      <td>1</td>\n",
       "    </tr>\n",
       "    <tr>\n",
       "      <th>4</th>\n",
       "      <td>4</td>\n",
       "      <td>1</td>\n",
       "      <td>0</td>\n",
       "      <td>0</td>\n",
       "    </tr>\n",
       "    <tr>\n",
       "      <th>5</th>\n",
       "      <td>5</td>\n",
       "      <td>0</td>\n",
       "      <td>1</td>\n",
       "      <td>0</td>\n",
       "    </tr>\n",
       "  </tbody>\n",
       "</table>\n",
       "</div>"
      ],
      "text/plain": [
       "   data1  key_a  key_b  key_c\n",
       "0      0      0      1      0\n",
       "1      1      0      1      0\n",
       "2      2      1      0      0\n",
       "3      3      0      0      1\n",
       "4      4      1      0      0\n",
       "5      5      0      1      0"
      ]
     },
     "execution_count": 6,
     "metadata": {},
     "output_type": "execute_result"
    }
   ],
   "source": [
    "df_with_dummy = df[['data1']].join(dummies)\n",
    "df_with_dummy"
   ]
  },
  {
   "cell_type": "markdown",
   "id": "f0acb19a",
   "metadata": {},
   "source": [
    "- __If a row in a DataFrame belongs to multiple categories, things are bit more complicated__\n",
    "- __Let's look at the MovieLens 1M dataset__"
   ]
  },
  {
   "cell_type": "code",
   "execution_count": 30,
   "id": "cac21c5e",
   "metadata": {},
   "outputs": [],
   "source": [
    "mnames = ['movie_id', 'title', 'genres']"
   ]
  },
  {
   "cell_type": "code",
   "execution_count": 33,
   "id": "47d6f0a7",
   "metadata": {},
   "outputs": [
    {
     "name": "stderr",
     "output_type": "stream",
     "text": [
      "<ipython-input-33-dfefdf4fadb0>:1: ParserWarning: Falling back to the 'python' engine because the 'c' engine does not support regex separators (separators > 1 char and different from '\\s+' are interpreted as regex); you can avoid this warning by specifying engine='python'.\n",
      "  movies = pd.read_table('ml-1m/movies.dat', sep='::', header=None, names=mnames)\n"
     ]
    },
    {
     "data": {
      "text/html": [
       "<div>\n",
       "<style scoped>\n",
       "    .dataframe tbody tr th:only-of-type {\n",
       "        vertical-align: middle;\n",
       "    }\n",
       "\n",
       "    .dataframe tbody tr th {\n",
       "        vertical-align: top;\n",
       "    }\n",
       "\n",
       "    .dataframe thead th {\n",
       "        text-align: right;\n",
       "    }\n",
       "</style>\n",
       "<table border=\"1\" class=\"dataframe\">\n",
       "  <thead>\n",
       "    <tr style=\"text-align: right;\">\n",
       "      <th></th>\n",
       "      <th>movie_id</th>\n",
       "      <th>title</th>\n",
       "      <th>genres</th>\n",
       "    </tr>\n",
       "  </thead>\n",
       "  <tbody>\n",
       "    <tr>\n",
       "      <th>0</th>\n",
       "      <td>1</td>\n",
       "      <td>Toy Story (1995)</td>\n",
       "      <td>Animation|Children's|Comedy</td>\n",
       "    </tr>\n",
       "    <tr>\n",
       "      <th>1</th>\n",
       "      <td>2</td>\n",
       "      <td>Jumanji (1995)</td>\n",
       "      <td>Adventure|Children's|Fantasy</td>\n",
       "    </tr>\n",
       "    <tr>\n",
       "      <th>2</th>\n",
       "      <td>3</td>\n",
       "      <td>Grumpier Old Men (1995)</td>\n",
       "      <td>Comedy|Romance</td>\n",
       "    </tr>\n",
       "    <tr>\n",
       "      <th>3</th>\n",
       "      <td>4</td>\n",
       "      <td>Waiting to Exhale (1995)</td>\n",
       "      <td>Comedy|Drama</td>\n",
       "    </tr>\n",
       "    <tr>\n",
       "      <th>4</th>\n",
       "      <td>5</td>\n",
       "      <td>Father of the Bride Part II (1995)</td>\n",
       "      <td>Comedy</td>\n",
       "    </tr>\n",
       "    <tr>\n",
       "      <th>5</th>\n",
       "      <td>6</td>\n",
       "      <td>Heat (1995)</td>\n",
       "      <td>Action|Crime|Thriller</td>\n",
       "    </tr>\n",
       "    <tr>\n",
       "      <th>6</th>\n",
       "      <td>7</td>\n",
       "      <td>Sabrina (1995)</td>\n",
       "      <td>Comedy|Romance</td>\n",
       "    </tr>\n",
       "    <tr>\n",
       "      <th>7</th>\n",
       "      <td>8</td>\n",
       "      <td>Tom and Huck (1995)</td>\n",
       "      <td>Adventure|Children's</td>\n",
       "    </tr>\n",
       "    <tr>\n",
       "      <th>8</th>\n",
       "      <td>9</td>\n",
       "      <td>Sudden Death (1995)</td>\n",
       "      <td>Action</td>\n",
       "    </tr>\n",
       "    <tr>\n",
       "      <th>9</th>\n",
       "      <td>10</td>\n",
       "      <td>GoldenEye (1995)</td>\n",
       "      <td>Action|Adventure|Thriller</td>\n",
       "    </tr>\n",
       "  </tbody>\n",
       "</table>\n",
       "</div>"
      ],
      "text/plain": [
       "   movie_id                               title                        genres\n",
       "0         1                    Toy Story (1995)   Animation|Children's|Comedy\n",
       "1         2                      Jumanji (1995)  Adventure|Children's|Fantasy\n",
       "2         3             Grumpier Old Men (1995)                Comedy|Romance\n",
       "3         4            Waiting to Exhale (1995)                  Comedy|Drama\n",
       "4         5  Father of the Bride Part II (1995)                        Comedy\n",
       "5         6                         Heat (1995)         Action|Crime|Thriller\n",
       "6         7                      Sabrina (1995)                Comedy|Romance\n",
       "7         8                 Tom and Huck (1995)          Adventure|Children's\n",
       "8         9                 Sudden Death (1995)                        Action\n",
       "9        10                    GoldenEye (1995)     Action|Adventure|Thriller"
      ]
     },
     "execution_count": 33,
     "metadata": {},
     "output_type": "execute_result"
    }
   ],
   "source": [
    "movies = pd.read_table('ml-1m/movies.dat', sep='::', header=None, names=mnames)\n",
    "movies[:10]"
   ]
  },
  {
   "cell_type": "code",
   "execution_count": 36,
   "id": "deecbfe4",
   "metadata": {},
   "outputs": [],
   "source": [
    "all_genre = []"
   ]
  },
  {
   "cell_type": "code",
   "execution_count": 39,
   "id": "afbc8333",
   "metadata": {},
   "outputs": [
    {
     "data": {
      "text/plain": [
       "array(['Animation', \"Children's\", 'Comedy', 'Adventure', 'Fantasy',\n",
       "       'Romance', 'Drama', 'Action', 'Crime', 'Thriller', 'Horror',\n",
       "       'Sci-Fi', 'Documentary', 'War', 'Musical', 'Mystery', 'Film-Noir',\n",
       "       'Western'], dtype=object)"
      ]
     },
     "execution_count": 39,
     "metadata": {},
     "output_type": "execute_result"
    }
   ],
   "source": [
    "for i in movies.genres:\n",
    "    all_genre.extend(i.split('|'))\n",
    "    \n",
    "pd.unique(all_genre)"
   ]
  },
  {
   "cell_type": "code",
   "execution_count": null,
   "id": "1d67e75a",
   "metadata": {},
   "outputs": [],
   "source": [
    "gen = movies.genres[0]\n",
    "gen"
   ]
  }
 ],
 "metadata": {
  "kernelspec": {
   "display_name": "Python 3",
   "language": "python",
   "name": "python3"
  },
  "language_info": {
   "codemirror_mode": {
    "name": "ipython",
    "version": 3
   },
   "file_extension": ".py",
   "mimetype": "text/x-python",
   "name": "python",
   "nbconvert_exporter": "python",
   "pygments_lexer": "ipython3",
   "version": "3.8.10"
  }
 },
 "nbformat": 4,
 "nbformat_minor": 5
}
