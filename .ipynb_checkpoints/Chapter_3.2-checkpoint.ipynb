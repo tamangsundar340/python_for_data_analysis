{
 "cells": [
  {
   "cell_type": "markdown",
   "id": "e919b497",
   "metadata": {},
   "source": [
    "# Built-in Data Structures, Functions, and Files\n",
    "\n"
   ]
  },
  {
   "cell_type": "markdown",
   "id": "5da0eeee",
   "metadata": {},
   "source": [
    "## Tuple\n",
    "- __tuple are immutable python object, fixed-length__\n",
    "- __tuple can not be modified__\n"
   ]
  },
  {
   "cell_type": "code",
   "execution_count": 2,
   "id": "550e4bb0",
   "metadata": {},
   "outputs": [
    {
     "data": {
      "text/plain": [
       "(2, 3, 4, 5, 6, 7)"
      ]
     },
     "execution_count": 2,
     "metadata": {},
     "output_type": "execute_result"
    }
   ],
   "source": [
    "tup = 2, 3, 4, 5, 6, 7\n",
    "tup"
   ]
  },
  {
   "cell_type": "code",
   "execution_count": 3,
   "id": "681ae393",
   "metadata": {},
   "outputs": [
    {
     "data": {
      "text/plain": [
       "((2, 3, 4), (7, 3, 5))"
      ]
     },
     "execution_count": 3,
     "metadata": {},
     "output_type": "execute_result"
    }
   ],
   "source": [
    "# Nested tuple\n",
    "tups = (2,3,4),(7,3,5)\n",
    "tups"
   ]
  },
  {
   "cell_type": "code",
   "execution_count": 4,
   "id": "7a435ed0",
   "metadata": {},
   "outputs": [
    {
     "data": {
      "text/plain": [
       "('s', 't', 'r', 'i', 'n', 'g')"
      ]
     },
     "execution_count": 4,
     "metadata": {},
     "output_type": "execute_result"
    }
   ],
   "source": [
    "t = tuple('string')\n",
    "t"
   ]
  },
  {
   "cell_type": "markdown",
   "id": "3c522a60",
   "metadata": {},
   "source": [
    "- __If the inside is mutable like list then we can modify__\n"
   ]
  },
  {
   "cell_type": "code",
   "execution_count": 5,
   "id": "29f240e6",
   "metadata": {},
   "outputs": [
    {
     "data": {
      "text/plain": [
       "('foo', [1, 2, 3], True)"
      ]
     },
     "execution_count": 5,
     "metadata": {},
     "output_type": "execute_result"
    }
   ],
   "source": [
    "tupp = tuple(['foo', [1, 2], True])\n",
    "tupp[1].append(3)\n",
    "tupp"
   ]
  },
  {
   "cell_type": "markdown",
   "id": "5ab16e0f",
   "metadata": {},
   "source": [
    "- __Tuple can be concate using '+' sign__"
   ]
  },
  {
   "cell_type": "code",
   "execution_count": 6,
   "id": "2177a7b6",
   "metadata": {},
   "outputs": [
    {
     "data": {
      "text/plain": [
       "(4, None, 'foo', 6, 0, 'bar')"
      ]
     },
     "execution_count": 6,
     "metadata": {},
     "output_type": "execute_result"
    }
   ],
   "source": [
    "a = (4, None, 'foo') + (6, 0) + ('bar',)\n",
    "a"
   ]
  },
  {
   "cell_type": "markdown",
   "id": "793784af",
   "metadata": {},
   "source": [
    "- __Unpack with tuple__"
   ]
  },
  {
   "cell_type": "code",
   "execution_count": 7,
   "id": "d6a2f5f3",
   "metadata": {},
   "outputs": [
    {
     "data": {
      "text/plain": [
       "5"
      ]
     },
     "execution_count": 7,
     "metadata": {},
     "output_type": "execute_result"
    }
   ],
   "source": [
    "tup = (4, 5, 6)\n",
    "a, b, c = tup\n",
    "b"
   ]
  },
  {
   "cell_type": "code",
   "execution_count": 8,
   "id": "8dac419c",
   "metadata": {},
   "outputs": [
    {
     "data": {
      "text/plain": [
       "7"
      ]
     },
     "execution_count": 8,
     "metadata": {},
     "output_type": "execute_result"
    }
   ],
   "source": [
    "tup = 4, 5, (6, 7)\n",
    "a, b, (c, d) = tup\n",
    "d"
   ]
  },
  {
   "cell_type": "code",
   "execution_count": 9,
   "id": "2508fd17",
   "metadata": {},
   "outputs": [
    {
     "data": {
      "text/plain": [
       "2"
      ]
     },
     "execution_count": 9,
     "metadata": {},
     "output_type": "execute_result"
    }
   ],
   "source": [
    "# Swapping values \n",
    "a, b = 1, 2\n",
    "a, b = b, a\n",
    "a"
   ]
  },
  {
   "cell_type": "code",
   "execution_count": 11,
   "id": "62a39818",
   "metadata": {},
   "outputs": [
    {
     "data": {
      "text/plain": [
       "[3, 4, 5]"
      ]
     },
     "execution_count": 11,
     "metadata": {},
     "output_type": "execute_result"
    }
   ],
   "source": [
    "values = 1, 2, 3, 4, 5\n",
    "a, b, *rest = values\n",
    "a, b\n",
    "# above will give this output (1,2)\n",
    "rest"
   ]
  },
  {
   "cell_type": "markdown",
   "id": "8e4198b6",
   "metadata": {},
   "source": [
    "- __Tuple methods__"
   ]
  },
  {
   "cell_type": "code",
   "execution_count": 12,
   "id": "1eb8f2a1",
   "metadata": {},
   "outputs": [
    {
     "data": {
      "text/plain": [
       "4"
      ]
     },
     "execution_count": 12,
     "metadata": {},
     "output_type": "execute_result"
    }
   ],
   "source": [
    "a = (1, 2, 2, 2, 3, 4, 2)\n",
    "a.count(2)"
   ]
  },
  {
   "cell_type": "markdown",
   "id": "eb49c398",
   "metadata": {},
   "source": [
    "## List\n",
    "- __list can be modified__\n",
    "- __These are written inside the []__"
   ]
  },
  {
   "cell_type": "code",
   "execution_count": 13,
   "id": "55bd0b93",
   "metadata": {},
   "outputs": [
    {
     "data": {
      "text/plain": [
       "[2, 3, 7, None]"
      ]
     },
     "execution_count": 13,
     "metadata": {},
     "output_type": "execute_result"
    }
   ],
   "source": [
    "# EXample:-\n",
    "\n",
    "a_list = [2, 3, 7, None]\n",
    "a_list"
   ]
  },
  {
   "cell_type": "code",
   "execution_count": 14,
   "id": "2cd1179d",
   "metadata": {},
   "outputs": [
    {
     "data": {
      "text/plain": [
       "[1, 2, 3, 4, 5, 6, 7, 8]"
      ]
     },
     "execution_count": 14,
     "metadata": {},
     "output_type": "execute_result"
    }
   ],
   "source": [
    "# convert tuple to list\n",
    "\n",
    "a_tuple = (1,2,3,4,5,6,7,8)\n",
    "b_list = list(a_tuple)\n",
    "b_list"
   ]
  },
  {
   "cell_type": "code",
   "execution_count": 17,
   "id": "30f6aeea",
   "metadata": {},
   "outputs": [
    {
     "data": {
      "text/plain": [
       "[0, 1, 2, 3, 4, 5, 6, 7, 8, 9]"
      ]
     },
     "execution_count": 17,
     "metadata": {},
     "output_type": "execute_result"
    }
   ],
   "source": [
    "# create a list with rage\n",
    "\n",
    "c_tuple = range(0,10)\n",
    "c_list = list(c_tuple)\n",
    "c_list"
   ]
  },
  {
   "cell_type": "code",
   "execution_count": 24,
   "id": "be313ed4",
   "metadata": {},
   "outputs": [
    {
     "data": {
      "text/plain": [
       "['fish', 'apple', 'ball', 'dog']"
      ]
     },
     "execution_count": 24,
     "metadata": {},
     "output_type": "execute_result"
    }
   ],
   "source": [
    "# Adding and removing elements\n",
    "d_list = ['apple','ball', 'cat', 'dog']\n",
    "d_list.insert(0, 'fish')\n",
    "# d_list\n",
    "\n",
    "# drop using index\n",
    "d_list.pop(-2)\n",
    "d_list"
   ]
  },
  {
   "cell_type": "code",
   "execution_count": 27,
   "id": "52f1bc4e",
   "metadata": {},
   "outputs": [
    {
     "data": {
      "text/plain": [
       "False"
      ]
     },
     "execution_count": 27,
     "metadata": {},
     "output_type": "execute_result"
    }
   ],
   "source": [
    "# Check in the list\n",
    "\n",
    "f_list = ['apple','ball', 'cat', 'dog']\n",
    "\n",
    "'dog' in f_list\n",
    "'dog' not in f_list"
   ]
  },
  {
   "cell_type": "code",
   "execution_count": 28,
   "id": "1d58676b",
   "metadata": {},
   "outputs": [
    {
     "data": {
      "text/plain": [
       "[1, 2, 3, 4, 'a', 'b', 'c']"
      ]
     },
     "execution_count": 28,
     "metadata": {},
     "output_type": "execute_result"
    }
   ],
   "source": [
    "# Concating and combing \n",
    "\n",
    "g_list = [1,2,3,4]\n",
    "h_list = ['a','b', 'c']\n",
    "i_list = g_list + h_list\n",
    "i_list"
   ]
  },
  {
   "cell_type": "code",
   "execution_count": 30,
   "id": "32d4869a",
   "metadata": {},
   "outputs": [
    {
     "data": {
      "text/plain": [
       "[1, 2, 3, 4, 5, 'a', 'b', 'c', 'd', 6, 7, 8, 9]"
      ]
     },
     "execution_count": 30,
     "metadata": {},
     "output_type": "execute_result"
    }
   ],
   "source": [
    "# Append multiple values in alredy define list\n",
    "\n",
    "j_list = [1,2,3,4,5,'a', 'b', 'c', 'd']\n",
    "k_list = [6,7,8,9]\n",
    "j_list.extend(k_list)\n",
    "j_list"
   ]
  },
  {
   "cell_type": "markdown",
   "id": "b75f8224",
   "metadata": {},
   "source": [
    "#### Note :-"
   ]
  },
  {
   "cell_type": "code",
   "execution_count": 51,
   "id": "c0a92057",
   "metadata": {},
   "outputs": [
    {
     "ename": "TypeError",
     "evalue": "can only concatenate list (not \"str\") to list",
     "output_type": "error",
     "traceback": [
      "\u001b[0;31m---------------------------------------------------------------------------\u001b[0m",
      "\u001b[0;31mTypeError\u001b[0m                                 Traceback (most recent call last)",
      "\u001b[0;32m<ipython-input-51-6d1c718b910e>\u001b[0m in \u001b[0;36m<module>\u001b[0;34m\u001b[0m\n\u001b[1;32m      8\u001b[0m \u001b[0;34m\u001b[0m\u001b[0m\n\u001b[1;32m      9\u001b[0m \u001b[0;32mfor\u001b[0m \u001b[0mchunk\u001b[0m \u001b[0;32min\u001b[0m \u001b[0mlist_of_lists\u001b[0m\u001b[0;34m:\u001b[0m\u001b[0;34m\u001b[0m\u001b[0;34m\u001b[0m\u001b[0m\n\u001b[0;32m---> 10\u001b[0;31m     \u001b[0meverything\u001b[0m \u001b[0;34m=\u001b[0m \u001b[0meverything\u001b[0m \u001b[0;34m+\u001b[0m \u001b[0mchunk\u001b[0m\u001b[0;34m\u001b[0m\u001b[0;34m\u001b[0m\u001b[0m\n\u001b[0m",
      "\u001b[0;31mTypeError\u001b[0m: can only concatenate list (not \"str\") to list"
     ]
    }
   ],
   "source": [
    "list_of_lists = ['a','b','c','d','e']\n",
    "everything = ['f','g']\n",
    "\n",
    "for chunk in list_of_lists:\n",
    "    everything.extend(chunk)\n",
    "    \n",
    "# Above code is faster than given below\n",
    "\n",
    "for chunk in list_of_lists:\n",
    "    everything = everything + chunk"
   ]
  },
  {
   "cell_type": "code",
   "execution_count": 32,
   "id": "ce1a7aab",
   "metadata": {},
   "outputs": [
    {
     "data": {
      "text/plain": [
       "[1, 7, 8, 12, 22, 23, 56, 78, 90]"
      ]
     },
     "execution_count": 32,
     "metadata": {},
     "output_type": "execute_result"
    }
   ],
   "source": [
    "# Sorting\n",
    "\n",
    "m_list = [12,7,8,22,56,78,90,1,23]\n",
    "m_list.sort()\n",
    "m_list"
   ]
  },
  {
   "cell_type": "code",
   "execution_count": 34,
   "id": "cfa53944",
   "metadata": {},
   "outputs": [
    {
     "data": {
      "text/plain": [
       "['He', 'saw', 'six', 'small', 'foxes']"
      ]
     },
     "execution_count": 34,
     "metadata": {},
     "output_type": "execute_result"
    }
   ],
   "source": [
    "# Sorting the string base on length\n",
    "\n",
    "n_list = ['saw', 'small', 'He', 'foxes', 'six']\n",
    "n_list.sort(key=len)\n",
    "n_list"
   ]
  },
  {
   "cell_type": "markdown",
   "id": "105d2ab9",
   "metadata": {},
   "source": [
    "#### Slicing"
   ]
  },
  {
   "cell_type": "code",
   "execution_count": 37,
   "id": "0ed279ce",
   "metadata": {},
   "outputs": [
    {
     "data": {
      "text/plain": [
       "[7, 2, 3, 7, 5]"
      ]
     },
     "execution_count": 37,
     "metadata": {},
     "output_type": "execute_result"
    }
   ],
   "source": [
    "#Basic slicing\n",
    "seq = [7, 2, 3, 7, 5, 6, 0, 1]\n",
    "\n",
    "seq[1:5]\n",
    "seq[:5]"
   ]
  },
  {
   "cell_type": "code",
   "execution_count": 38,
   "id": "bd3c26ea",
   "metadata": {},
   "outputs": [
    {
     "data": {
      "text/plain": [
       "[5, 6, 0, 1]"
      ]
     },
     "execution_count": 38,
     "metadata": {},
     "output_type": "execute_result"
    }
   ],
   "source": [
    "# Negative slicing\n",
    "seq[-4:]"
   ]
  },
  {
   "cell_type": "code",
   "execution_count": 44,
   "id": "c844774f",
   "metadata": {},
   "outputs": [
    {
     "data": {
      "text/plain": [
       "1"
      ]
     },
     "execution_count": 44,
     "metadata": {},
     "output_type": "execute_result"
    }
   ],
   "source": [
    "# Negative slicing\n",
    "\n",
    "seq[:-1]\n",
    "seq[-1]"
   ]
  },
  {
   "cell_type": "code",
   "execution_count": 45,
   "id": "ee3ecf84",
   "metadata": {},
   "outputs": [
    {
     "data": {
      "text/plain": [
       "[7, 3, 5, 0]"
      ]
     },
     "execution_count": 45,
     "metadata": {},
     "output_type": "execute_result"
    }
   ],
   "source": [
    "# Double column slicing\n",
    "#select element skipping one element\n",
    "\n",
    "seq[::2]"
   ]
  },
  {
   "cell_type": "code",
   "execution_count": 47,
   "id": "b026ccfd",
   "metadata": {},
   "outputs": [
    {
     "data": {
      "text/plain": [
       "[1, 6, 7, 2]"
      ]
     },
     "execution_count": 47,
     "metadata": {},
     "output_type": "execute_result"
    }
   ],
   "source": [
    "#select element skipping one element from last\n",
    "\n",
    "seq[::-2]"
   ]
  },
  {
   "cell_type": "markdown",
   "id": "ec46e699",
   "metadata": {},
   "source": [
    "#### enumerate\n",
    "- __Python have the built-in function enumerate which returns a sequence of (i, value) tuple__"
   ]
  },
  {
   "cell_type": "code",
   "execution_count": 53,
   "id": "47ac6785",
   "metadata": {},
   "outputs": [
    {
     "name": "stdout",
     "output_type": "stream",
     "text": [
      "0 a\n",
      "1 b\n",
      "2 c\n"
     ]
    }
   ],
   "source": [
    "collection = ['a','b','c']\n",
    "for i, value in enumerate(collection):\n",
    "    print(i, value)"
   ]
  },
  {
   "cell_type": "code",
   "execution_count": 58,
   "id": "5d706cbe",
   "metadata": {},
   "outputs": [
    {
     "data": {
      "text/plain": [
       "{0: 'a', 1: 'b', 2: 'c'}"
      ]
     },
     "execution_count": 58,
     "metadata": {},
     "output_type": "execute_result"
    }
   ],
   "source": [
    "# another example:\n",
    "\n",
    "some_list = ['a','b','c']\n",
    "some_set = {}\n",
    "\n",
    "for i, value in enumerate(some_list):\n",
    "    some_set[i]= value\n",
    "some_set"
   ]
  },
  {
   "cell_type": "markdown",
   "id": "42c671f8",
   "metadata": {},
   "source": [
    "#### sorted\n",
    "- __It retuns a new sorted list from the elements of any sequence__"
   ]
  },
  {
   "cell_type": "code",
   "execution_count": 59,
   "id": "a1ac8c2a",
   "metadata": {},
   "outputs": [
    {
     "data": {
      "text/plain": [
       "[0, 1, 2, 2, 3, 6, 7]"
      ]
     },
     "execution_count": 59,
     "metadata": {},
     "output_type": "execute_result"
    }
   ],
   "source": [
    "# example:- \n",
    "\n",
    "sorted([7, 1, 2, 6, 0, 3, 2])"
   ]
  },
  {
   "cell_type": "markdown",
   "id": "f92f41c7",
   "metadata": {},
   "source": [
    "#### Zip\n",
    "- __It “pairs” up the elements of a number of lists, tuples, or other sequences to create a\n",
    "list of tuples__"
   ]
  },
  {
   "cell_type": "code",
   "execution_count": 64,
   "id": "d83764ed",
   "metadata": {},
   "outputs": [
    {
     "data": {
      "text/plain": [
       "[('foo', 'one'), ('bar', 'two'), ('baz', 'three')]"
      ]
     },
     "execution_count": 64,
     "metadata": {},
     "output_type": "execute_result"
    }
   ],
   "source": [
    "# example:- \n",
    "\n",
    "seq1 = ['foo', 'bar', 'baz']\n",
    "seq2 = ['one', 'two', 'three']\n",
    "a_ziped = zip(seq1,seq2)\n",
    "\n",
    "list(a_ziped)"
   ]
  },
  {
   "cell_type": "code",
   "execution_count": 65,
   "id": "f89d947c",
   "metadata": {},
   "outputs": [
    {
     "name": "stdout",
     "output_type": "stream",
     "text": [
      "0: foo, one\n",
      "1: bar, two\n",
      "2: baz, three\n"
     ]
    }
   ],
   "source": [
    "# examples of zip\n",
    "\n",
    "for i, (a, b) in enumerate(zip(seq1, seq2)):\n",
    "    print('{0}: {1}, {2}'.format(i, a, b))"
   ]
  },
  {
   "cell_type": "code",
   "execution_count": 66,
   "id": "977a1624",
   "metadata": {},
   "outputs": [
    {
     "data": {
      "text/plain": [
       "('Nolan', 'Roger', 'Schilling')"
      ]
     },
     "execution_count": 66,
     "metadata": {},
     "output_type": "execute_result"
    }
   ],
   "source": [
    "# We can also unziped the ziped file\n",
    "# Example:-\n",
    "\n",
    "pitchers = [('Nolan', 'Ryan'), ('Roger', 'Clemens'), ('Schilling', 'Curt')]\n",
    "\n",
    "first_name, last_name = zip(*pitchers)\n",
    "first_name"
   ]
  },
  {
   "cell_type": "code",
   "execution_count": 67,
   "id": "c0188b2c",
   "metadata": {},
   "outputs": [
    {
     "data": {
      "text/plain": [
       "('Ryan', 'Clemens', 'Curt')"
      ]
     },
     "execution_count": 67,
     "metadata": {},
     "output_type": "execute_result"
    }
   ],
   "source": [
    "last_name"
   ]
  },
  {
   "cell_type": "markdown",
   "id": "6a710dd5",
   "metadata": {},
   "source": [
    "#### Reversed\n",
    "- __It reversed iterates over the elements of a sequence in reverse order__"
   ]
  },
  {
   "cell_type": "code",
   "execution_count": 68,
   "id": "b4ce8e51",
   "metadata": {},
   "outputs": [
    {
     "data": {
      "text/plain": [
       "[9, 8, 7, 6, 5, 4, 3, 2, 1, 0]"
      ]
     },
     "execution_count": 68,
     "metadata": {},
     "output_type": "execute_result"
    }
   ],
   "source": [
    "list(reversed(range(10)))"
   ]
  },
  {
   "cell_type": "markdown",
   "id": "9876edcc",
   "metadata": {},
   "source": [
    "## Dict\n",
    "- __It is one of the most important data structure in python__\n",
    "- __we use {} to create dict__"
   ]
  },
  {
   "cell_type": "code",
   "execution_count": 70,
   "id": "0ab5a301",
   "metadata": {},
   "outputs": [
    {
     "data": {
      "text/plain": [
       "'some value'"
      ]
     },
     "execution_count": 70,
     "metadata": {},
     "output_type": "execute_result"
    }
   ],
   "source": [
    "# example of dict\n",
    "\n",
    "a_dict = {'a' : 'some value', 'b' : [1, 2, 3, 4]}\n",
    "a_dict['a']"
   ]
  },
  {
   "cell_type": "code",
   "execution_count": 73,
   "id": "0f06c68e",
   "metadata": {},
   "outputs": [
    {
     "data": {
      "text/plain": [
       "True"
      ]
     },
     "execution_count": 73,
     "metadata": {},
     "output_type": "execute_result"
    }
   ],
   "source": [
    "# Chek in dict\n",
    "\n",
    "'b' in a_dict"
   ]
  },
  {
   "cell_type": "code",
   "execution_count": 75,
   "id": "8a373484",
   "metadata": {},
   "outputs": [
    {
     "data": {
      "text/plain": [
       "{'a': 'some value', 'b': [1, 2, 3, 4], 5: 'added values'}"
      ]
     },
     "execution_count": 75,
     "metadata": {},
     "output_type": "execute_result"
    }
   ],
   "source": [
    "# Insert values in dict\n",
    "\n",
    "a_dict[5] = 'added values'\n",
    "a_dict"
   ]
  },
  {
   "cell_type": "code",
   "execution_count": 76,
   "id": "1b34d816",
   "metadata": {},
   "outputs": [
    {
     "data": {
      "text/plain": [
       "{'a': 'some value',\n",
       " 'b': [1, 2, 3, 4],\n",
       " 5: 'added values',\n",
       " 'dummy': 'Dummy data'}"
      ]
     },
     "execution_count": 76,
     "metadata": {},
     "output_type": "execute_result"
    }
   ],
   "source": [
    "# Insert another dummy values in dict\n",
    "\n",
    "a_dict['dummy'] = 'Dummy data'\n",
    "a_dict"
   ]
  },
  {
   "cell_type": "code",
   "execution_count": 77,
   "id": "7439d22d",
   "metadata": {},
   "outputs": [
    {
     "data": {
      "text/plain": [
       "'Dummy data'"
      ]
     },
     "execution_count": 77,
     "metadata": {},
     "output_type": "execute_result"
    }
   ],
   "source": [
    "# Remove data from dict\n",
    "\n",
    "b_dict = a_dict.pop('dummy')\n",
    "b_dict"
   ]
  },
  {
   "cell_type": "code",
   "execution_count": 79,
   "id": "8c399f83",
   "metadata": {},
   "outputs": [
    {
     "data": {
      "text/plain": [
       "{'a': 'some value', 'b': [1, 2, 3, 4], 5: 'added values'}"
      ]
     },
     "execution_count": 79,
     "metadata": {},
     "output_type": "execute_result"
    }
   ],
   "source": [
    "#Now check values\n",
    "\n",
    "a_dict"
   ]
  },
  {
   "cell_type": "code",
   "execution_count": 82,
   "id": "b36820e7",
   "metadata": {},
   "outputs": [
    {
     "data": {
      "text/plain": [
       "['a', 'b', 5]"
      ]
     },
     "execution_count": 82,
     "metadata": {},
     "output_type": "execute_result"
    }
   ],
   "source": [
    "# Find keys and values\n",
    "\n",
    "a_keys = list(a_dict.keys())\n",
    "a_keys"
   ]
  },
  {
   "cell_type": "code",
   "execution_count": 83,
   "id": "f4e027dd",
   "metadata": {},
   "outputs": [
    {
     "data": {
      "text/plain": [
       "['some value', [1, 2, 3, 4], 'added values']"
      ]
     },
     "execution_count": 83,
     "metadata": {},
     "output_type": "execute_result"
    }
   ],
   "source": [
    "b_values = list(a_dict.values())\n",
    "b_values"
   ]
  },
  {
   "cell_type": "code",
   "execution_count": 86,
   "id": "e7be1216",
   "metadata": {},
   "outputs": [
    {
     "data": {
      "text/plain": [
       "{'a': 'some value',\n",
       " 'b': [1, 2, 3, 4],\n",
       " 5: 'added values',\n",
       " 'c': ['a', 'b', 'c', 'd']}"
      ]
     },
     "execution_count": 86,
     "metadata": {},
     "output_type": "execute_result"
    }
   ],
   "source": [
    "#Add data to dict\n",
    "\n",
    "c_dict = {'c':['a','b','c','d']}\n",
    "d_dict = a_dict.update(c_dict)\n",
    "\n",
    "a_dict"
   ]
  },
  {
   "cell_type": "markdown",
   "id": "5866c0ce",
   "metadata": {},
   "source": [
    "#### Creating dicts from sequences"
   ]
  },
  {
   "cell_type": "code",
   "execution_count": 88,
   "id": "83d6ff35",
   "metadata": {},
   "outputs": [
    {
     "data": {
      "text/plain": [
       "{0: 4, 1: 3, 2: 2, 3: 1, 4: 0}"
      ]
     },
     "execution_count": 88,
     "metadata": {},
     "output_type": "execute_result"
    }
   ],
   "source": [
    "# Example of creatign dict from squences\n",
    "\n",
    "\n",
    "mapping = {}\n",
    "key_list = range(5)\n",
    "value_list = reversed(range(5))\n",
    "for key, value in zip(key_list, value_list):\n",
    "    mapping[key] = value\n",
    "mapping"
   ]
  },
  {
   "cell_type": "markdown",
   "id": "74bd16f1",
   "metadata": {},
   "source": [
    "## Set\n",
    "- __It is unordered collection of unique elements__\n",
    "- __Set is just like a dict but only keys no values__\n"
   ]
  },
  {
   "cell_type": "code",
   "execution_count": 3,
   "id": "3f0092ed",
   "metadata": {},
   "outputs": [
    {
     "data": {
      "text/plain": [
       "{1, 2, 3, 4, 5}"
      ]
     },
     "execution_count": 3,
     "metadata": {},
     "output_type": "execute_result"
    }
   ],
   "source": [
    "# Example\n",
    "\n",
    "set([2, 2, 2, 1, 3, 3])\n",
    "\n",
    "a_set = {1,2,3,4,5,2}\n",
    "a_set"
   ]
  },
  {
   "cell_type": "code",
   "execution_count": 4,
   "id": "40539104",
   "metadata": {},
   "outputs": [
    {
     "data": {
      "text/plain": [
       "{1, 2, 3, 4, 5, 6, 7, 8}"
      ]
     },
     "execution_count": 4,
     "metadata": {},
     "output_type": "execute_result"
    }
   ],
   "source": [
    "#union and intersection of set\n",
    "\n",
    "b_set = {1,2,3,4,5,2}\n",
    "c_set = {3, 4, 5, 6, 7, 8}\n",
    "\n",
    "union_set = b_set.union(c_set)\n",
    "union_set"
   ]
  },
  {
   "cell_type": "code",
   "execution_count": 5,
   "id": "f9d289ec",
   "metadata": {},
   "outputs": [
    {
     "data": {
      "text/plain": [
       "{3, 4, 5}"
      ]
     },
     "execution_count": 5,
     "metadata": {},
     "output_type": "execute_result"
    }
   ],
   "source": [
    "intersection_set = b_set.intersection(c_set)\n",
    "intersection_set"
   ]
  },
  {
   "cell_type": "code",
   "execution_count": 14,
   "id": "3b0a09f6",
   "metadata": {},
   "outputs": [],
   "source": [
    "#Difference of set\n",
    "\n",
    "diff_set = b_set.difference(a_set)\n"
   ]
  },
  {
   "cell_type": "code",
   "execution_count": 21,
   "id": "8baacc24",
   "metadata": {},
   "outputs": [
    {
     "data": {
      "text/plain": [
       "{1, 2, 3, 4, 5}"
      ]
     },
     "execution_count": 21,
     "metadata": {},
     "output_type": "execute_result"
    }
   ],
   "source": [
    "#Copy set\n",
    "\n",
    "c_set = a_set.copy()\n",
    "c_set\n"
   ]
  },
  {
   "cell_type": "markdown",
   "id": "bac687b0",
   "metadata": {},
   "source": [
    "### List, Set, and Dict Comprehensions\n",
    "- __List comprehensions are one of the most-loved Python language features__\n",
    "- __They allow\n",
    "you to concisely form a new list by filtering the elements of a collection, transforming\n",
    "the elements passing the filter in one concise expression__"
   ]
  },
  {
   "cell_type": "code",
   "execution_count": null,
   "id": "94e35206",
   "metadata": {},
   "outputs": [],
   "source": [
    "# Example:-\n",
    "\n",
    "result = []\n",
    "for val in collection:\n",
    "    if condition:\n",
    "        result.append(expr)\n",
    "\n",
    "# This can be written in one line of code\n",
    "\n",
    "[expr for val in collection if condition]"
   ]
  },
  {
   "cell_type": "code",
   "execution_count": 23,
   "id": "f9d74dc4",
   "metadata": {},
   "outputs": [
    {
     "data": {
      "text/plain": [
       "[2, 4, 6, 8, 10]"
      ]
     },
     "execution_count": 23,
     "metadata": {},
     "output_type": "execute_result"
    }
   ],
   "source": [
    "# EXample of code :-\n",
    "\n",
    "result = []\n",
    "collection = [1,2,3,4,5,6,7,8,9,10]\n",
    "\n",
    "for val in collection:\n",
    "    if val%2 == 0:\n",
    "        result.append(val)\n",
    "result"
   ]
  },
  {
   "cell_type": "code",
   "execution_count": 26,
   "id": "345962bc",
   "metadata": {},
   "outputs": [
    {
     "data": {
      "text/plain": [
       "[2, 4, 6, 8, 10]"
      ]
     },
     "execution_count": 26,
     "metadata": {},
     "output_type": "execute_result"
    }
   ],
   "source": [
    "a_result = [val for val in collection if val%2==0]\n",
    "a_result"
   ]
  },
  {
   "cell_type": "code",
   "execution_count": 28,
   "id": "1cc64576",
   "metadata": {},
   "outputs": [
    {
     "data": {
      "text/plain": [
       "['BAT', 'CAR', 'DOVE', 'PYTHON']"
      ]
     },
     "execution_count": 28,
     "metadata": {},
     "output_type": "execute_result"
    }
   ],
   "source": [
    "# Another example:-\n",
    "\n",
    "strings = ['a', 'as', 'bat', 'car', 'dove', 'python']\n",
    "to_upper = [val.upper() for val in strings if len(val)>2]\n",
    "to_upper"
   ]
  },
  {
   "cell_type": "markdown",
   "id": "42bb1152",
   "metadata": {},
   "source": [
    "#### Nested list comprehensions"
   ]
  },
  {
   "cell_type": "code",
   "execution_count": 40,
   "id": "d4dcb0c0",
   "metadata": {},
   "outputs": [
    {
     "data": {
      "text/plain": [
       "['Steven']"
      ]
     },
     "execution_count": 40,
     "metadata": {},
     "output_type": "execute_result"
    }
   ],
   "source": [
    "# Example:-\n",
    "\n",
    "all_name = [['John', 'Emily', 'Michael', 'Mary', 'Steven'],['Maria', 'Juan', 'Javier', 'Natalia', 'Pilar']]\n",
    "\n",
    "names = []\n",
    "for name in all_name:\n",
    "    enough_es = [ename for ename in name if ename.count('e')>=2]\n",
    "    names.extend(enough_es)\n",
    "names\n",
    "\n",
    "# This can be written as\n",
    "\n",
    "filtered_name = [name for names in all_name for name in names if name.count('e')>=2]\n",
    "filtered_name"
   ]
  },
  {
   "cell_type": "code",
   "execution_count": null,
   "id": "953a1b21",
   "metadata": {},
   "outputs": [],
   "source": []
  }
 ],
 "metadata": {
  "kernelspec": {
   "display_name": "Python 3",
   "language": "python",
   "name": "python3"
  },
  "language_info": {
   "codemirror_mode": {
    "name": "ipython",
    "version": 3
   },
   "file_extension": ".py",
   "mimetype": "text/x-python",
   "name": "python",
   "nbconvert_exporter": "python",
   "pygments_lexer": "ipython3",
   "version": "3.8.5"
  }
 },
 "nbformat": 4,
 "nbformat_minor": 5
}
