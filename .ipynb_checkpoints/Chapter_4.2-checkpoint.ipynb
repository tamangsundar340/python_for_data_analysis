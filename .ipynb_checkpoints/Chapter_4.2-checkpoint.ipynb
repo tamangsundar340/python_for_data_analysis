{
 "cells": [
  {
   "cell_type": "markdown",
   "id": "5c562d75",
   "metadata": {},
   "source": [
    "# Universal Functions: Fast Element-Wise Array Functions"
   ]
  },
  {
   "cell_type": "markdown",
   "id": "96601828",
   "metadata": {},
   "source": [
    "- __A universal function, or ufunc, is a function that performs element-wise operations on data in ndarrays__"
   ]
  },
  {
   "cell_type": "code",
   "execution_count": 1,
   "id": "81d9980f",
   "metadata": {},
   "outputs": [
    {
     "data": {
      "text/plain": [
       "array([0.        , 1.        , 1.41421356, 1.73205081, 2.        ,\n",
       "       2.23606798, 2.44948974, 2.64575131, 2.82842712, 3.        ])"
      ]
     },
     "execution_count": 1,
     "metadata": {},
     "output_type": "execute_result"
    }
   ],
   "source": [
    "# Example\n",
    "import numpy as np\n",
    "\n",
    "array_1 = np.arange(10)\n",
    "np.sqrt(array_2)\n"
   ]
  },
  {
   "cell_type": "code",
   "execution_count": 2,
   "id": "e9e9bd54",
   "metadata": {},
   "outputs": [
    {
     "data": {
      "text/plain": [
       "array([1.00000000e+00, 2.71828183e+00, 7.38905610e+00, 2.00855369e+01,\n",
       "       5.45981500e+01, 1.48413159e+02, 4.03428793e+02, 1.09663316e+03,\n",
       "       2.98095799e+03, 8.10308393e+03])"
      ]
     },
     "execution_count": 2,
     "metadata": {},
     "output_type": "execute_result"
    }
   ],
   "source": [
    "array_2 = np.array([0, 1, 2, 3, 4, 5, 6, 7, 8, 9])\n",
    "np.exp(array_2)"
   ]
  },
  {
   "cell_type": "markdown",
   "id": "e7251f3e",
   "metadata": {},
   "source": [
    "- __'sqrt' menas square root 'exp' means exponent, both of these are 'ufunc'__\n",
    "- __'add' or 'maximum' takes two arrays and return a single arrays as result__\n",
    "- __example:-__"
   ]
  },
  {
   "cell_type": "code",
   "execution_count": 3,
   "id": "9dd97b01",
   "metadata": {},
   "outputs": [
    {
     "data": {
      "text/plain": [
       "array([0.31398961, 0.87211579, 0.96824204, 0.68419818, 0.96221652,\n",
       "       0.68995211, 0.4655619 , 0.75993821])"
      ]
     },
     "execution_count": 3,
     "metadata": {},
     "output_type": "execute_result"
    }
   ],
   "source": [
    "a_array = np.random.rand(8)\n",
    "b_array = np.random.rand(8)\n",
    "\n",
    "# let's use maximum\n",
    "np.maximum(a_array, b_array)"
   ]
  },
  {
   "cell_type": "code",
   "execution_count": 4,
   "id": "790e84ab",
   "metadata": {},
   "outputs": [
    {
     "data": {
      "text/plain": [
       "array([0.61116115, 1.16671011, 1.40504582, 0.93687283, 1.18370317,\n",
       "       0.76552799, 0.6078341 , 0.95231848])"
      ]
     },
     "execution_count": 4,
     "metadata": {},
     "output_type": "execute_result"
    }
   ],
   "source": [
    "# let's try add\n",
    "\n",
    "np.add(a_array, b_array)"
   ]
  },
  {
   "cell_type": "markdown",
   "id": "4d8ffdbd",
   "metadata": {},
   "source": [
    "- __'ufunc' can return multiple arrays from one aray by using '.modf' functin__\n",
    "- __it retrun fractional and integral parts__\n"
   ]
  },
  {
   "cell_type": "code",
   "execution_count": 11,
   "id": "c44d3b74",
   "metadata": {},
   "outputs": [
    {
     "data": {
      "text/plain": [
       "array([ 3.01234  , -4.1423232,  5.313    , -2.024344 ])"
      ]
     },
     "execution_count": 11,
     "metadata": {},
     "output_type": "execute_result"
    }
   ],
   "source": [
    "# example:-\n",
    "\n",
    "c_array = np.array([3.01234, -4.1423232, 5.313, -2.024344])\n",
    "c_array"
   ]
  },
  {
   "cell_type": "code",
   "execution_count": 12,
   "id": "d281809b",
   "metadata": {},
   "outputs": [],
   "source": [
    "fractional, integral = np.modf(c_array)"
   ]
  },
  {
   "cell_type": "code",
   "execution_count": 13,
   "id": "75888f93",
   "metadata": {},
   "outputs": [
    {
     "data": {
      "text/plain": [
       "array([ 0.01234  , -0.1423232,  0.313    , -0.024344 ])"
      ]
     },
     "execution_count": 13,
     "metadata": {},
     "output_type": "execute_result"
    }
   ],
   "source": [
    "fractional"
   ]
  },
  {
   "cell_type": "code",
   "execution_count": 14,
   "id": "f83deb92",
   "metadata": {},
   "outputs": [
    {
     "data": {
      "text/plain": [
       "array([ 3., -4.,  5., -2.])"
      ]
     },
     "execution_count": 14,
     "metadata": {},
     "output_type": "execute_result"
    }
   ],
   "source": [
    "integral"
   ]
  },
  {
   "cell_type": "markdown",
   "id": "b83f0b5b",
   "metadata": {},
   "source": [
    "### Array-Oriented Programming with Arrays\n",
    "\n",
    "- __As a simple example, suppose we wished to evaluate the function sqrt(x^2 + y^2) across a regular grid of values__\n",
    "- __The 'np.meshgrid' function takes two 1D arrays and produces two 2D matrices corresponding to all pairs of (x, y) in the two arrays__"
   ]
  },
  {
   "cell_type": "code",
   "execution_count": 15,
   "id": "2e81ae8e",
   "metadata": {},
   "outputs": [],
   "source": [
    "# Example\n",
    "\n",
    "points = np.arange(-5, 5, 0.01)"
   ]
  },
  {
   "cell_type": "code",
   "execution_count": 17,
   "id": "52c635fd",
   "metadata": {},
   "outputs": [],
   "source": [
    "xs, ys = np.meshgrid(points, points)\n"
   ]
  },
  {
   "cell_type": "code",
   "execution_count": 18,
   "id": "75400d2b",
   "metadata": {},
   "outputs": [
    {
     "data": {
      "text/plain": [
       "array([[-5.  , -4.99, -4.98, ...,  4.97,  4.98,  4.99],\n",
       "       [-5.  , -4.99, -4.98, ...,  4.97,  4.98,  4.99],\n",
       "       [-5.  , -4.99, -4.98, ...,  4.97,  4.98,  4.99],\n",
       "       ...,\n",
       "       [-5.  , -4.99, -4.98, ...,  4.97,  4.98,  4.99],\n",
       "       [-5.  , -4.99, -4.98, ...,  4.97,  4.98,  4.99],\n",
       "       [-5.  , -4.99, -4.98, ...,  4.97,  4.98,  4.99]])"
      ]
     },
     "execution_count": 18,
     "metadata": {},
     "output_type": "execute_result"
    }
   ],
   "source": [
    "xs"
   ]
  },
  {
   "cell_type": "code",
   "execution_count": 19,
   "id": "5912718c",
   "metadata": {},
   "outputs": [
    {
     "data": {
      "text/plain": [
       "array([[-5.  , -5.  , -5.  , ..., -5.  , -5.  , -5.  ],\n",
       "       [-4.99, -4.99, -4.99, ..., -4.99, -4.99, -4.99],\n",
       "       [-4.98, -4.98, -4.98, ..., -4.98, -4.98, -4.98],\n",
       "       ...,\n",
       "       [ 4.97,  4.97,  4.97, ...,  4.97,  4.97,  4.97],\n",
       "       [ 4.98,  4.98,  4.98, ...,  4.98,  4.98,  4.98],\n",
       "       [ 4.99,  4.99,  4.99, ...,  4.99,  4.99,  4.99]])"
      ]
     },
     "execution_count": 19,
     "metadata": {},
     "output_type": "execute_result"
    }
   ],
   "source": [
    "ys"
   ]
  },
  {
   "cell_type": "code",
   "execution_count": 22,
   "id": "df075849",
   "metadata": {},
   "outputs": [
    {
     "data": {
      "text/plain": [
       "array([[       nan,        nan,        nan, ..., 5.44710015, 5.45714211,\n",
       "        5.46718392],\n",
       "       [       nan,        nan,        nan, ..., 5.44710015, 5.45714211,\n",
       "        5.46718392],\n",
       "       [       nan,        nan,        nan, ..., 5.44710015, 5.45714211,\n",
       "        5.46718392],\n",
       "       ...,\n",
       "       [       nan,        nan,        nan, ..., 5.44710015, 5.45714211,\n",
       "        5.46718392],\n",
       "       [       nan,        nan,        nan, ..., 5.44710015, 5.45714211,\n",
       "        5.46718392],\n",
       "       [       nan,        nan,        nan, ..., 5.44710015, 5.45714211,\n",
       "        5.46718392]])"
      ]
     },
     "execution_count": 22,
     "metadata": {},
     "output_type": "execute_result"
    }
   ],
   "source": [
    "# Now find sqrt of these two points\n",
    "\n",
    "z = np.sqrt(xs ** 2 + ys ** 2)\n",
    "z"
   ]
  },
  {
   "cell_type": "markdown",
   "id": "08a259a9",
   "metadata": {},
   "source": [
    "- __Let's try some graph of the above__\n",
    "- __pip install matplotlib__\n",
    "- __Here we will use the matplotlib function 'imshow' to create an image plot from a two-dimensional array of function values__"
   ]
  },
  {
   "cell_type": "code",
   "execution_count": 29,
   "id": "a7f67052",
   "metadata": {},
   "outputs": [
    {
     "data": {
      "text/plain": [
       "<matplotlib.colorbar.Colorbar at 0x7fd0adcffb50>"
      ]
     },
     "execution_count": 29,
     "metadata": {},
     "output_type": "execute_result"
    },
    {
     "data": {
      "image/png": "[encoded data removed]",
      "text/plain": [
       "<Figure size 432x288 with 2 Axes>"
      ]
     },
     "metadata": {
      "needs_background": "light"
     },
     "output_type": "display_data"
    }
   ],
   "source": [
    "\n",
    "import matplotlib.pyplot as plt\n",
    "\n",
    "plt.imshow(z, cmap=plt.cm.gray); plt.colorbar()"
   ]
  },
  {
   "cell_type": "markdown",
   "id": "32178716",
   "metadata": {},
   "source": [
    "#### Expressing Conditional Logic as Array Operations"
   ]
  },
  {
   "cell_type": "code",
   "execution_count": 31,
   "id": "15baba80",
   "metadata": {},
   "outputs": [],
   "source": [
    "# Let's say we have given below arrays\n",
    "\n",
    "xarr = np.array([1.1, 1.2, 1.3, 1.4, 1.5])\n",
    "yarr = np.array([2.1, 2.2, 2.3, 2.4, 2.5])\n",
    "cond = np.array([True, False, True, True, False])"
   ]
  },
  {
   "cell_type": "markdown",
   "id": "5951f67e",
   "metadata": {},
   "source": [
    "- __Suppose we wanted to take a value from 'xarr' whenever the corresponding value in 'cond' is True , and otherwise take the value from 'yarr'__\n",
    "- __for this we have 'numpy.where' function which is a vectorized version of the ternary expression 'x' if con dition else 'y'__"
   ]
  },
  {
   "cell_type": "code",
   "execution_count": 33,
   "id": "47518f25",
   "metadata": {},
   "outputs": [
    {
     "data": {
      "text/plain": [
       "array([1.1, 2.2, 1.3, 1.4, 2.5])"
      ]
     },
     "execution_count": 33,
     "metadata": {},
     "output_type": "execute_result"
    }
   ],
   "source": [
    "result = np.where(cond, xarr, yarr)\n",
    "result"
   ]
  },
  {
   "cell_type": "code",
   "execution_count": 42,
   "id": "fb139ee7",
   "metadata": {},
   "outputs": [
    {
     "data": {
      "text/plain": [
       "array([[0.7180832 , 0.35371263, 0.33467214, 0.85523804],\n",
       "       [0.74109538, 0.02031151, 0.84945025, 0.48627993],\n",
       "       [0.22792261, 0.53794999, 0.79361746, 0.59554529],\n",
       "       [0.42954132, 0.51941014, 0.68568557, 0.21639842]])"
      ]
     },
     "execution_count": 42,
     "metadata": {},
     "output_type": "execute_result"
    }
   ],
   "source": [
    "# Second example\n",
    "\n",
    "a_array = np.random.rand(4,4)\n",
    "a_array"
   ]
  },
  {
   "cell_type": "code",
   "execution_count": 43,
   "id": "26c57790",
   "metadata": {},
   "outputs": [
    {
     "data": {
      "text/plain": [
       "array([[ True,  True,  True,  True],\n",
       "       [ True,  True,  True,  True],\n",
       "       [ True,  True,  True,  True],\n",
       "       [ True,  True,  True,  True]])"
      ]
     },
     "execution_count": 43,
     "metadata": {},
     "output_type": "execute_result"
    }
   ],
   "source": [
    "b_array = a_array>0\n",
    "b_array"
   ]
  },
  {
   "cell_type": "code",
   "execution_count": 44,
   "id": "f655597d",
   "metadata": {},
   "outputs": [
    {
     "data": {
      "text/plain": [
       "array([[2, 2, 2, 2],\n",
       "       [2, 2, 2, 2],\n",
       "       [2, 2, 2, 2],\n",
       "       [2, 2, 2, 2]])"
      ]
     },
     "execution_count": 44,
     "metadata": {},
     "output_type": "execute_result"
    }
   ],
   "source": [
    "b_result = np.where(b_array, 2,-2)\n",
    "b_result"
   ]
  },
  {
   "cell_type": "markdown",
   "id": "61e5bf88",
   "metadata": {},
   "source": [
    "#### Mathematical and Statistical Methods\n",
    "- __We can use aggregate calling the array instance using the top-level numpy function__"
   ]
  },
  {
   "cell_type": "code",
   "execution_count": 45,
   "id": "afb000ca",
   "metadata": {},
   "outputs": [
    {
     "data": {
      "text/plain": [
       "array([[ 2.04813721,  2.91015508, -1.08159854, -0.50797066],\n",
       "       [-0.71528314, -0.43359636,  0.69729949, -0.09508441],\n",
       "       [ 0.03991067,  0.36028593, -0.60293097,  0.22147772],\n",
       "       [-0.04869487, -0.15021235, -1.45100329, -0.37069851],\n",
       "       [ 0.40382244,  1.12399877,  1.27560302,  0.29318735]])"
      ]
     },
     "execution_count": 45,
     "metadata": {},
     "output_type": "execute_result"
    }
   ],
   "source": [
    "c_array = np.random.randn(5, 4)\n",
    "c_array"
   ]
  },
  {
   "cell_type": "code",
   "execution_count": 47,
   "id": "f23d624f",
   "metadata": {},
   "outputs": [
    {
     "data": {
      "text/plain": [
       "0.19584022921108862"
      ]
     },
     "execution_count": 47,
     "metadata": {},
     "output_type": "execute_result"
    }
   ],
   "source": [
    "# mean of array\n",
    "\n",
    "c_array.mean()"
   ]
  },
  {
   "cell_type": "code",
   "execution_count": 49,
   "id": "7e77c756",
   "metadata": {},
   "outputs": [
    {
     "data": {
      "text/plain": [
       "3.9168045842217722"
      ]
     },
     "execution_count": 49,
     "metadata": {},
     "output_type": "execute_result"
    }
   ],
   "source": [
    "# sum of array\n",
    "\n",
    "c_array.sum()"
   ]
  },
  {
   "cell_type": "markdown",
   "id": "4596c8db",
   "metadata": {},
   "source": [
    "- __Functions like 'mean' and 'sum' take an optional axis argument that computes the statistic over the given axis, resulting in an array with one fewer dimension__\n",
    "- __Here c_array.mean(1) means \"compute mean across the columns\"__\n",
    "- __Here c_array.sum(0) means \"compute sum down the rows\"__"
   ]
  },
  {
   "cell_type": "code",
   "execution_count": 54,
   "id": "4e4327ba",
   "metadata": {},
   "outputs": [
    {
     "data": {
      "text/plain": [
       "array([ 0.84218078, -0.13666611,  0.00468584, -0.50515225,  0.77415289])"
      ]
     },
     "execution_count": 54,
     "metadata": {},
     "output_type": "execute_result"
    }
   ],
   "source": [
    "c_array.mean(axis=1)"
   ]
  },
  {
   "cell_type": "code",
   "execution_count": 55,
   "id": "469f2972",
   "metadata": {},
   "outputs": [
    {
     "data": {
      "text/plain": [
       "array([ 1.7278923 ,  3.81063107, -1.16263028, -0.45908851])"
      ]
     },
     "execution_count": 55,
     "metadata": {},
     "output_type": "execute_result"
    }
   ],
   "source": [
    "c_array.sum(axis=0)"
   ]
  },
  {
   "cell_type": "markdown",
   "id": "3b57bb51",
   "metadata": {},
   "source": [
    "- __In multidimensional arrays, accumulation functions like 'cumsum' return an array of the same size, but with the partial aggregates computed along the indicated axis according to each lower dimensional slice__\n",
    "\n",
    "\n"
   ]
  },
  {
   "cell_type": "code",
   "execution_count": 56,
   "id": "ba52f778",
   "metadata": {},
   "outputs": [
    {
     "data": {
      "text/plain": [
       "array([[0, 1, 2],\n",
       "       [3, 4, 5],\n",
       "       [6, 7, 8]])"
      ]
     },
     "execution_count": 56,
     "metadata": {},
     "output_type": "execute_result"
    }
   ],
   "source": [
    "# example: \n",
    "\n",
    "\n",
    "d_array = np.array([[0, 1, 2], [3, 4, 5], [6, 7, 8]])\n",
    "d_array"
   ]
  },
  {
   "cell_type": "code",
   "execution_count": 57,
   "id": "7abc695d",
   "metadata": {},
   "outputs": [
    {
     "data": {
      "text/plain": [
       "array([[ 0,  1,  2],\n",
       "       [ 3,  5,  7],\n",
       "       [ 9, 12, 15]])"
      ]
     },
     "execution_count": 57,
     "metadata": {},
     "output_type": "execute_result"
    }
   ],
   "source": [
    "e_array = d_array.cumsum(axis=0)\n",
    "e_array"
   ]
  },
  {
   "cell_type": "code",
   "execution_count": 58,
   "id": "e773d0a9",
   "metadata": {},
   "outputs": [
    {
     "data": {
      "text/plain": [
       "array([[ 0,  1,  3],\n",
       "       [ 3,  7, 12],\n",
       "       [ 6, 13, 21]])"
      ]
     },
     "execution_count": 58,
     "metadata": {},
     "output_type": "execute_result"
    }
   ],
   "source": [
    "f_array = d_array.cumsum(axis=1)\n",
    "f_array"
   ]
  },
  {
   "cell_type": "code",
   "execution_count": 60,
   "id": "cb88eca1",
   "metadata": {},
   "outputs": [
    {
     "data": {
      "text/plain": [
       "array([[  0,   0,   0],\n",
       "       [  3,  12,  60],\n",
       "       [  6,  42, 336]])"
      ]
     },
     "execution_count": 60,
     "metadata": {},
     "output_type": "execute_result"
    }
   ],
   "source": [
    "g_array = d_array.cumprod(axis=1)\n",
    "g_array"
   ]
  },
  {
   "cell_type": "markdown",
   "id": "32289944",
   "metadata": {},
   "source": [
    "#### Methods for Boolean Arrays\n",
    "- __Boolean values are coerced to 1 ( True ) and 0 ( False ) in the preceding methods.__"
   ]
  },
  {
   "cell_type": "code",
   "execution_count": 61,
   "id": "ef5830d4",
   "metadata": {},
   "outputs": [
    {
     "data": {
      "text/plain": [
       "array([0.6820587 , 0.16604872, 0.09128257, 0.0487891 , 0.97326724,\n",
       "       0.77128909, 0.54650812, 0.26864323, 0.52824065, 0.83404806,\n",
       "       0.12027702, 0.37907244, 0.36804013, 0.61023614, 0.73111212,\n",
       "       0.50168882, 0.13306686, 0.67152803, 0.83571549, 0.94606859,\n",
       "       0.47663601, 0.80000804, 0.93393723, 0.1691926 , 0.2248418 ,\n",
       "       0.89427123, 0.67123903, 0.58057398, 0.00588131, 0.5125342 ,\n",
       "       0.33406771, 0.07507415, 0.43840496, 0.92688002, 0.0711483 ,\n",
       "       0.75808653, 0.02400683, 0.84129474, 0.19291928, 0.12289624,\n",
       "       0.18331327, 0.91014176, 0.9349403 , 0.6248065 , 0.53023943,\n",
       "       0.18361612, 0.08349785, 0.5771943 , 0.59723253, 0.74468435,\n",
       "       0.50893531, 0.18035741, 0.90976222, 0.13948054, 0.29881671,\n",
       "       0.35529867, 0.58549629, 0.81896772, 0.61298494, 0.05724933,\n",
       "       0.66377187, 0.68715015, 0.47478035, 0.82709033, 0.09511869,\n",
       "       0.37602515, 0.48358015, 0.20475375, 0.71079885, 0.34130738,\n",
       "       0.72414302, 0.03181109, 0.83301533, 0.43375784, 0.51045321,\n",
       "       0.39227679, 0.41229575, 0.87613615, 0.9013392 , 0.60240126,\n",
       "       0.43183524, 0.57328197, 0.54212561, 0.06666801, 0.30911471,\n",
       "       0.69705104, 0.80971418, 0.94565846, 0.62800636, 0.43430447,\n",
       "       0.00520839, 0.14893439, 0.39400828, 0.94324271, 0.37210073,\n",
       "       0.69342001, 0.14827381, 0.22595937, 0.00732145, 0.66319434])"
      ]
     },
     "execution_count": 61,
     "metadata": {},
     "output_type": "execute_result"
    }
   ],
   "source": [
    "# Example\n",
    "\n",
    "h_array = np.random.rand(100)\n",
    "h_array"
   ]
  },
  {
   "cell_type": "code",
   "execution_count": 63,
   "id": "9063bea5",
   "metadata": {},
   "outputs": [
    {
     "data": {
      "text/plain": [
       "100"
      ]
     },
     "execution_count": 63,
     "metadata": {},
     "output_type": "execute_result"
    }
   ],
   "source": [
    "# add number when element is greater than 0\n",
    "(h_array>0).sum()"
   ]
  },
  {
   "cell_type": "markdown",
   "id": "07d1b95e",
   "metadata": {},
   "source": [
    "- __'any' tests whether one or more values in an array is True , while 'all' checks if every value is True__"
   ]
  },
  {
   "cell_type": "code",
   "execution_count": 66,
   "id": "ddcad3ef",
   "metadata": {},
   "outputs": [],
   "source": [
    "i_array = np.array([False, False, True, False])"
   ]
  },
  {
   "cell_type": "code",
   "execution_count": 67,
   "id": "31b559eb",
   "metadata": {},
   "outputs": [
    {
     "data": {
      "text/plain": [
       "True"
      ]
     },
     "execution_count": 67,
     "metadata": {},
     "output_type": "execute_result"
    }
   ],
   "source": [
    "i_array.any()"
   ]
  },
  {
   "cell_type": "code",
   "execution_count": 69,
   "id": "a0142ff3",
   "metadata": {},
   "outputs": [
    {
     "data": {
      "text/plain": [
       "False"
      ]
     },
     "execution_count": 69,
     "metadata": {},
     "output_type": "execute_result"
    }
   ],
   "source": [
    "i_array.all()"
   ]
  },
  {
   "cell_type": "markdown",
   "id": "dfcc14c6",
   "metadata": {},
   "source": [
    "#### Sorting\n",
    "- __'j_array.sort' returns a sorted copy of an array instead of modifying the array in-place__"
   ]
  },
  {
   "cell_type": "code",
   "execution_count": 70,
   "id": "c6597b5e",
   "metadata": {},
   "outputs": [
    {
     "data": {
      "text/plain": [
       "array([[0.59559788, 0.09413006, 0.31427258],\n",
       "       [0.84614473, 0.73980376, 0.54679023],\n",
       "       [0.2449988 , 0.85644526, 0.93557823],\n",
       "       [0.82579958, 0.84009721, 0.18245583],\n",
       "       [0.53041188, 0.75980909, 0.85818037]])"
      ]
     },
     "execution_count": 70,
     "metadata": {},
     "output_type": "execute_result"
    }
   ],
   "source": [
    "# Example:-\n",
    "\n",
    "j_array = np.random.rand(5,3)\n",
    "j_array"
   ]
  },
  {
   "cell_type": "code",
   "execution_count": 73,
   "id": "d0f5818f",
   "metadata": {},
   "outputs": [
    {
     "data": {
      "text/plain": [
       "array([[0.09413006, 0.31427258, 0.59559788],\n",
       "       [0.54679023, 0.73980376, 0.84614473],\n",
       "       [0.2449988 , 0.85644526, 0.93557823],\n",
       "       [0.18245583, 0.82579958, 0.84009721],\n",
       "       [0.53041188, 0.75980909, 0.85818037]])"
      ]
     },
     "execution_count": 73,
     "metadata": {},
     "output_type": "execute_result"
    }
   ],
   "source": [
    "j_array.sort()\n",
    "j_array"
   ]
  },
  {
   "cell_type": "code",
   "execution_count": 75,
   "id": "accef929",
   "metadata": {},
   "outputs": [
    {
     "data": {
      "text/plain": [
       "array([[0.09413006, 0.31427258, 0.59559788],\n",
       "       [0.18245583, 0.73980376, 0.84009721],\n",
       "       [0.2449988 , 0.75980909, 0.84614473],\n",
       "       [0.53041188, 0.82579958, 0.85818037],\n",
       "       [0.54679023, 0.85644526, 0.93557823]])"
      ]
     },
     "execution_count": 75,
     "metadata": {},
     "output_type": "execute_result"
    }
   ],
   "source": [
    "j_array.sort(0)\n",
    "j_array"
   ]
  },
  {
   "cell_type": "markdown",
   "id": "9a931f51",
   "metadata": {},
   "source": [
    "#### Unique and Other Set Logic\n",
    "- __'np.unique' returns the sorted unique value of array__"
   ]
  },
  {
   "cell_type": "code",
   "execution_count": 76,
   "id": "54c9e519",
   "metadata": {},
   "outputs": [
    {
     "data": {
      "text/plain": [
       "array(['Bob', 'Joe', 'Will'], dtype='<U4')"
      ]
     },
     "execution_count": 76,
     "metadata": {},
     "output_type": "execute_result"
    }
   ],
   "source": [
    "names = np.array(['Bob', 'Joe', 'Will', 'Bob', 'Will', 'Joe', 'Joe'])\n",
    "np.unique(names)"
   ]
  },
  {
   "cell_type": "markdown",
   "id": "38ae4443",
   "metadata": {},
   "source": [
    "#### File Input and Output with Arrays\n",
    "- __NumPy is able to save and load data to and from disk either in text or binary format__\n",
    "- __'np.save' and 'np.load' are the two workhorse functions for efficiently saving and loading array data on disk__"
   ]
  },
  {
   "cell_type": "code",
   "execution_count": 78,
   "id": "6422b048",
   "metadata": {},
   "outputs": [
    {
     "data": {
      "text/plain": [
       "array([0.37318771, 0.91477423, 0.81557979, 0.50695438, 0.75780315,\n",
       "       0.36519238, 0.69895231, 0.70785407, 0.61001967, 0.76436077])"
      ]
     },
     "execution_count": 78,
     "metadata": {},
     "output_type": "execute_result"
    }
   ],
   "source": [
    "a_array = np.random.rand(10)\n",
    "a_array"
   ]
  },
  {
   "cell_type": "code",
   "execution_count": 79,
   "id": "1b2ec64a",
   "metadata": {},
   "outputs": [],
   "source": [
    "#save array\n",
    "\n",
    "np.save('some_array',a_array)"
   ]
  },
  {
   "cell_type": "code",
   "execution_count": 81,
   "id": "ce22cf59",
   "metadata": {},
   "outputs": [
    {
     "data": {
      "text/plain": [
       "array([0.37318771, 0.91477423, 0.81557979, 0.50695438, 0.75780315,\n",
       "       0.36519238, 0.69895231, 0.70785407, 0.61001967, 0.76436077])"
      ]
     },
     "execution_count": 81,
     "metadata": {},
     "output_type": "execute_result"
    }
   ],
   "source": [
    "# load an array\n",
    "\n",
    "b_array = np.load('some_array.npy')\n",
    "b_array"
   ]
  },
  {
   "cell_type": "code",
   "execution_count": 87,
   "id": "736bacec",
   "metadata": {},
   "outputs": [],
   "source": [
    "#save multiple array\n",
    "\n",
    "c_array = np.random.rand(3)\n",
    "d_array = np.random.rand(3)\n",
    "np.savez('some_arrays.npz', c= c_array, d= d_array)"
   ]
  },
  {
   "cell_type": "code",
   "execution_count": 88,
   "id": "d6fb91f3",
   "metadata": {},
   "outputs": [
    {
     "data": {
      "text/plain": [
       "array([0.23600232, 0.16602016, 0.88324097])"
      ]
     },
     "execution_count": 88,
     "metadata": {},
     "output_type": "execute_result"
    }
   ],
   "source": [
    "#load multiple arrays\n",
    "\n",
    "e_array = np.load('some_arrays.npz')\n",
    "e_array['c']"
   ]
  },
  {
   "cell_type": "code",
   "execution_count": 89,
   "id": "f465e0bf",
   "metadata": {},
   "outputs": [],
   "source": [
    "#save by compressing\n",
    "np.savez_compressed('some_arrays_compressed.npz', c= c_array, d= d_array)\n"
   ]
  },
  {
   "cell_type": "code",
   "execution_count": null,
   "id": "e6551025",
   "metadata": {},
   "outputs": [],
   "source": []
  }
 ],
 "metadata": {
  "kernelspec": {
   "display_name": "Python 3",
   "language": "python",
   "name": "python3"
  },
  "language_info": {
   "codemirror_mode": {
    "name": "ipython",
    "version": 3
   },
   "file_extension": ".py",
   "mimetype": "text/x-python",
   "name": "python",
   "nbconvert_exporter": "python",
   "pygments_lexer": "ipython3",
   "version": "3.8.5"
  }
 },
 "nbformat": 4,
 "nbformat_minor": 5
}
