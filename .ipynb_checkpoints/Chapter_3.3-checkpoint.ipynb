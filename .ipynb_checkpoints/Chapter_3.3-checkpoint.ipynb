{
 "cells": [
  {
   "cell_type": "markdown",
   "id": "c7fe98ff",
   "metadata": {},
   "source": [
    "# Functions\n",
    "- __if you anticipate needing to repeat the same or\n",
    "very similar code more than once, it may be worth writing a reusable function.__"
   ]
  },
  {
   "cell_type": "code",
   "execution_count": 3,
   "id": "5fe45aaf",
   "metadata": {},
   "outputs": [
    {
     "data": {
      "text/plain": [
       "45.0"
      ]
     },
     "execution_count": 3,
     "metadata": {},
     "output_type": "execute_result"
    }
   ],
   "source": [
    "# Example of function\n",
    "\n",
    "def my_function(x, y, z=1.5):\n",
    "    if z > 1:\n",
    "        return z * (x + y)\n",
    "    else:\n",
    "        return z / (x + y)\n",
    "\n",
    "my_function(5, 6, z=0.7)\n",
    "my_function(3.14, 7, 3.5)\n",
    "my_function(10, 20)"
   ]
  },
  {
   "cell_type": "markdown",
   "id": "92cafc55",
   "metadata": {},
   "source": [
    "#### Namespaces, Scope, and Local Functions\n",
    "- __Functions can access variables in two different scopes: global and local__"
   ]
  },
  {
   "cell_type": "code",
   "execution_count": 6,
   "id": "002814a0",
   "metadata": {},
   "outputs": [
    {
     "name": "stdout",
     "output_type": "stream",
     "text": [
      "[0, 1, 2, 3, 4]\n"
     ]
    }
   ],
   "source": [
    "# Example of local variable\n",
    "\n",
    "def func():\n",
    "    a = []\n",
    "    for i in range(5):\n",
    "        a.append(i)\n",
    "    print(a)\n",
    "func()"
   ]
  },
  {
   "cell_type": "code",
   "execution_count": 10,
   "id": "7a941f78",
   "metadata": {},
   "outputs": [
    {
     "name": "stdout",
     "output_type": "stream",
     "text": [
      "[0, 1, 2, 3, 4]\n"
     ]
    }
   ],
   "source": [
    "# Example of global variable\n",
    "# We use global keyword for global variable\n",
    "\n",
    "global a\n",
    "a = []\n",
    "def func():\n",
    "    for i in range(5):\n",
    "        a.append(i)\n",
    "    print(a)\n",
    "func()"
   ]
  },
  {
   "cell_type": "markdown",
   "id": "2c60560a",
   "metadata": {},
   "source": [
    "- __Python function can retunr a multple values__\n"
   ]
  },
  {
   "cell_type": "code",
   "execution_count": 17,
   "id": "41e9c29b",
   "metadata": {},
   "outputs": [
    {
     "name": "stdout",
     "output_type": "stream",
     "text": [
      "(4, 9, 16)\n"
     ]
    }
   ],
   "source": [
    "# In python function can return a multiple values\n",
    "\n",
    "def func(a, b, c):\n",
    "    a = a*a\n",
    "    b = b*b\n",
    "    c = c*c\n",
    "    return a, b, c\n",
    "\n",
    "print(func(2,3,4))"
   ]
  },
  {
   "cell_type": "code",
   "execution_count": 18,
   "id": "0f5b6d62",
   "metadata": {},
   "outputs": [],
   "source": [
    "# Another example\n",
    "\n",
    "def f():\n",
    "    a = 5\n",
    "    b = 6\n",
    "    c = 7\n",
    "    return {'a' : a, 'b' : b, 'c' : c}"
   ]
  },
  {
   "cell_type": "markdown",
   "id": "11748a05",
   "metadata": {},
   "source": [
    "#### Python functions are object__\n",
    "- __Since Python functions are objects, many constructs can be easily expressed that are\n",
    "difficult to do in other languages.__\n",
    "- __Suppose we were doing some data cleaning and\n",
    "needed to apply a bunch of transformations to the following list of strings__\n",
    "- __***********************************************************************************__\n",
    "\n",
    "- __The Python string strip() function removes characters from the start and/or end of a string. By default, the strip() function will remove all white space characters—spaces, tabs, new lines__\n",
    "\n",
    "\n"
   ]
  },
  {
   "cell_type": "code",
   "execution_count": 21,
   "id": "ee20197d",
   "metadata": {},
   "outputs": [
    {
     "name": "stdout",
     "output_type": "stream",
     "text": [
      "['Alabama', 'Georgia!', 'Georgia', 'georgia', 'FlOrId', 'south', 'carolina', 'West virginia']\n"
     ]
    }
   ],
   "source": [
    "# Example:- \n",
    "\n",
    "import re\n",
    "\n",
    "states = ['Alabama ', 'Georgia!', 'Georgia', 'georgia', 'FlOrId@','south', 'carolina##', 'West virginia?']\n",
    "\n",
    "def clean_data(data):\n",
    "    result = []\n",
    "    for value in data:\n",
    "        value = value.strip()\n",
    "        value = re.sub('[#?@]', '',value)\n",
    "        result.append(value)\n",
    "    print(result)\n",
    "clean_data(states)"
   ]
  },
  {
   "cell_type": "code",
   "execution_count": 26,
   "id": "d71628f6",
   "metadata": {},
   "outputs": [
    {
     "name": "stdout",
     "output_type": "stream",
     "text": [
      "Alabama \n",
      "Georgia\n",
      "Georgia\n",
      "georgia\n",
      "FlOrId\n",
      "south\n",
      "carolina\n",
      "West virginia\n"
     ]
    }
   ],
   "source": [
    "# We can also pass function as parameter, for example:-\n",
    "\n",
    "\n",
    "import re\n",
    "states = ['Alabama ', 'Georgia!', 'Georgia', 'georgia', 'FlOrId@','south', 'carolina##', 'West virginia?']\n",
    "\n",
    "def remove_punctuation(value):\n",
    "    return re.sub('[!#?@]', '', value)\n",
    "\n",
    "for x in map(remove_punctuation, states):\n",
    "    print(x)\n"
   ]
  },
  {
   "cell_type": "markdown",
   "id": "2840d0b2",
   "metadata": {},
   "source": [
    "#### Anonymous (Lambda) Functions\n",
    "- __It is defined with the keyword lambda__\n",
    "- __We usually prefer lambda functions in the rest of the book__\n",
    "- __They are especially\n",
    "convenient in data analysis__\n"
   ]
  },
  {
   "cell_type": "code",
   "execution_count": 28,
   "id": "a6fd1696",
   "metadata": {},
   "outputs": [],
   "source": [
    "def short_function(x):\n",
    "    return x * 2\n",
    "\n",
    "# Can be written as\n",
    "\n",
    "equiv_anon = lambda x: x * 2"
   ]
  },
  {
   "cell_type": "code",
   "execution_count": 35,
   "id": "a056be68",
   "metadata": {},
   "outputs": [
    {
     "data": {
      "text/plain": [
       "[2, 4, 6]"
      ]
     },
     "execution_count": 35,
     "metadata": {},
     "output_type": "execute_result"
    }
   ],
   "source": [
    "# Anothe example of lambda or anonymous function\n",
    "\n",
    "def apply_to_list(some_list, x):\n",
    "    return [x*2 for x in some_list]\n",
    "\n",
    "some_list =[1,2,3]\n",
    "apply_to_list(some_list, lambda x: x * 2)\n",
    "\n"
   ]
  },
  {
   "cell_type": "code",
   "execution_count": 42,
   "id": "88dfabc5",
   "metadata": {},
   "outputs": [
    {
     "data": {
      "text/plain": [
       "['foo', 'card', 'bar', 'aaaa', 'abab']"
      ]
     },
     "execution_count": 42,
     "metadata": {},
     "output_type": "execute_result"
    }
   ],
   "source": [
    "# Lambda function\n",
    "\n",
    "strings = ['foo', 'card', 'bar', 'aaaa', 'abab']\n",
    "\n",
    "strings.sort(key=lambda x:len(set(list())))\n",
    "strings\n",
    "\n"
   ]
  },
  {
   "cell_type": "markdown",
   "id": "470f782e",
   "metadata": {},
   "source": [
    "##### Currying: Partial Argument Application"
   ]
  },
  {
   "cell_type": "code",
   "execution_count": 43,
   "id": "4f15791f",
   "metadata": {},
   "outputs": [],
   "source": [
    "# Example\n",
    "\n",
    "def add_numbers(x, y):\n",
    "    return x + y\n",
    "\n",
    "add_five = lambda y: add_numbers(5, y)\n",
    "#Here the second argument to add_numbers function is called 'curried'"
   ]
  },
  {
   "cell_type": "markdown",
   "id": "47161528",
   "metadata": {},
   "source": [
    "#### Generators\n",
    "- __To iterate over sequences, like object in list or lines in  files is very important in python__\n",
    "- __This can be accomblished by the iterator protocol, a generic way to make objects iterable__\n",
    "- __For example:-  iterating over dict yields the dict keys__"
   ]
  },
  {
   "cell_type": "code",
   "execution_count": 48,
   "id": "53926ca6",
   "metadata": {},
   "outputs": [
    {
     "name": "stdout",
     "output_type": "stream",
     "text": [
      "a\n",
      "b\n",
      "c\n"
     ]
    }
   ],
   "source": [
    "# Example:\n",
    "\n",
    "some_dict = {'a': 1, 'b': 2, 'c': 3}\n",
    "for key in some_dict:\n",
    "    print(key)"
   ]
  },
  {
   "cell_type": "markdown",
   "id": "f9373925",
   "metadata": {},
   "source": [
    "- __A generator is a concise way to construct a new iterable object__\n",
    "- __Example__\n"
   ]
  },
  {
   "cell_type": "code",
   "execution_count": 54,
   "id": "81e11a9b",
   "metadata": {},
   "outputs": [
    {
     "name": "stdout",
     "output_type": "stream",
     "text": [
      "1\n",
      "4\n",
      "9\n",
      "16\n",
      "25\n",
      "36\n",
      "49\n",
      "64\n",
      "81\n",
      "100\n"
     ]
    }
   ],
   "source": [
    "def squares(n=10):\n",
    "    for i in range(1, n + 1):\n",
    "        yield i ** 2\n",
    "        \n",
    "gen = squares()\n",
    "# here gen is the iterable object\n",
    "\n",
    "for x in gen:\n",
    "    print(x)"
   ]
  },
  {
   "cell_type": "code",
   "execution_count": 61,
   "id": "3444a146",
   "metadata": {},
   "outputs": [
    {
     "name": "stdout",
     "output_type": "stream",
     "text": [
      "0\n",
      "1\n",
      "4\n",
      "9\n",
      "16\n",
      "25\n",
      "36\n",
      "49\n",
      "64\n",
      "81\n"
     ]
    }
   ],
   "source": [
    "# Anothe example\n",
    "\n",
    "gen_2 = (x**2 for x in range(10))\n",
    "# again gen_2 is iterable object let's iterate this iterable object\n",
    "for x in gen_2:\n",
    "    print(x)"
   ]
  },
  {
   "cell_type": "markdown",
   "id": "18f3a842",
   "metadata": {},
   "source": [
    "####  Iter modules\n",
    "- __Itertools is a iterator, and it has a collection of generators for common data algorithm__\n",
    "- __for example groupby takes any sequences and a dunction, it grpued the consecutive elements in sequence by return value of function__"
   ]
  },
  {
   "cell_type": "code",
   "execution_count": 63,
   "id": "82610833",
   "metadata": {},
   "outputs": [
    {
     "name": "stdout",
     "output_type": "stream",
     "text": [
      "A ['Alan', 'Adam']\n",
      "W ['Wes', 'Will']\n",
      "A ['Albert']\n",
      "S ['Steven']\n"
     ]
    }
   ],
   "source": [
    "# Did not understand this one\n",
    "\n",
    "\n",
    "import itertools\n",
    "\n",
    "first_letter = lambda x: x[0]\n",
    "names = ['Alan', 'Adam', 'Wes', 'Will', 'Albert', 'Steven']\n",
    "\n",
    "for letter, names in itertools.groupby(names, first_letter):\n",
    "    print(letter, list(names))"
   ]
  },
  {
   "cell_type": "markdown",
   "id": "310e44db",
   "metadata": {},
   "source": [
    "#### Errors and exception handling"
   ]
  },
  {
   "cell_type": "code",
   "execution_count": null,
   "id": "27a055e0",
   "metadata": {},
   "outputs": [],
   "source": [
    "# try and exception with file handling\n",
    "\n",
    "f = open(path, 'w')\n",
    "try:\n",
    "    write_to_file(f)\n",
    "except:\n",
    "    print('Failed')\n",
    "else:\n",
    "    print('Succeeded')\n",
    "finally:\n",
    "    f.close()"
   ]
  }
 ],
 "metadata": {
  "kernelspec": {
   "display_name": "Python 3",
   "language": "python",
   "name": "python3"
  },
  "language_info": {
   "codemirror_mode": {
    "name": "ipython",
    "version": 3
   },
   "file_extension": ".py",
   "mimetype": "text/x-python",
   "name": "python",
   "nbconvert_exporter": "python",
   "pygments_lexer": "ipython3",
   "version": "3.8.5"
  }
 },
 "nbformat": 4,
 "nbformat_minor": 5
}
